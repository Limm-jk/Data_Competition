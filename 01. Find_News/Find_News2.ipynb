{
  "nbformat": 4,
  "nbformat_minor": 0,
  "metadata": {
    "colab": {
      "name": "Find_News2.ipynb",
      "provenance": [],
      "collapsed_sections": [],
      "toc_visible": true
    },
    "kernelspec": {
      "name": "python3",
      "display_name": "Python 3"
    },
    "accelerator": "GPU",
    "widgets": {
      "application/vnd.jupyter.widget-state+json": {
        "ed8019149d924001bae6d9583438cbdf": {
          "model_module": "@jupyter-widgets/controls",
          "model_name": "HBoxModel",
          "state": {
            "_view_name": "HBoxView",
            "_dom_classes": [],
            "_model_name": "HBoxModel",
            "_view_module": "@jupyter-widgets/controls",
            "_model_module_version": "1.5.0",
            "_view_count": null,
            "_view_module_version": "1.5.0",
            "box_style": "",
            "layout": "IPY_MODEL_a03626d7076740a8923d592955eabef2",
            "_model_module": "@jupyter-widgets/controls",
            "children": [
              "IPY_MODEL_57b261cf787a42a5aaf45da39a1f0e83",
              "IPY_MODEL_2a7e638244ea485b9c050b5930249b50"
            ]
          }
        },
        "a03626d7076740a8923d592955eabef2": {
          "model_module": "@jupyter-widgets/base",
          "model_name": "LayoutModel",
          "state": {
            "_view_name": "LayoutView",
            "grid_template_rows": null,
            "right": null,
            "justify_content": null,
            "_view_module": "@jupyter-widgets/base",
            "overflow": null,
            "_model_module_version": "1.2.0",
            "_view_count": null,
            "flex_flow": null,
            "width": null,
            "min_width": null,
            "border": null,
            "align_items": null,
            "bottom": null,
            "_model_module": "@jupyter-widgets/base",
            "top": null,
            "grid_column": null,
            "overflow_y": null,
            "overflow_x": null,
            "grid_auto_flow": null,
            "grid_area": null,
            "grid_template_columns": null,
            "flex": null,
            "_model_name": "LayoutModel",
            "justify_items": null,
            "grid_row": null,
            "max_height": null,
            "align_content": null,
            "visibility": null,
            "align_self": null,
            "height": null,
            "min_height": null,
            "padding": null,
            "grid_auto_rows": null,
            "grid_gap": null,
            "max_width": null,
            "order": null,
            "_view_module_version": "1.2.0",
            "grid_template_areas": null,
            "object_position": null,
            "object_fit": null,
            "grid_auto_columns": null,
            "margin": null,
            "display": null,
            "left": null
          }
        },
        "57b261cf787a42a5aaf45da39a1f0e83": {
          "model_module": "@jupyter-widgets/controls",
          "model_name": "FloatProgressModel",
          "state": {
            "_view_name": "ProgressView",
            "style": "IPY_MODEL_7cd0e8cd71584cb68d8fecbbe27eafd6",
            "_dom_classes": [],
            "description": "Downloading: 100%",
            "_model_name": "FloatProgressModel",
            "bar_style": "success",
            "max": 263326,
            "_view_module": "@jupyter-widgets/controls",
            "_model_module_version": "1.5.0",
            "value": 263326,
            "_view_count": null,
            "_view_module_version": "1.5.0",
            "orientation": "horizontal",
            "min": 0,
            "description_tooltip": null,
            "_model_module": "@jupyter-widgets/controls",
            "layout": "IPY_MODEL_15cb141e22e54aff8ba73a4b567c1a0c"
          }
        },
        "2a7e638244ea485b9c050b5930249b50": {
          "model_module": "@jupyter-widgets/controls",
          "model_name": "HTMLModel",
          "state": {
            "_view_name": "HTMLView",
            "style": "IPY_MODEL_4e50e269ca3343af8d9417925cc1b964",
            "_dom_classes": [],
            "description": "",
            "_model_name": "HTMLModel",
            "placeholder": "​",
            "_view_module": "@jupyter-widgets/controls",
            "_model_module_version": "1.5.0",
            "value": " 263k/263k [00:00&lt;00:00, 480kB/s]",
            "_view_count": null,
            "_view_module_version": "1.5.0",
            "description_tooltip": null,
            "_model_module": "@jupyter-widgets/controls",
            "layout": "IPY_MODEL_21cdc9b7f0a24a04ab80ca3d24950496"
          }
        },
        "7cd0e8cd71584cb68d8fecbbe27eafd6": {
          "model_module": "@jupyter-widgets/controls",
          "model_name": "ProgressStyleModel",
          "state": {
            "_view_name": "StyleView",
            "_model_name": "ProgressStyleModel",
            "description_width": "initial",
            "_view_module": "@jupyter-widgets/base",
            "_model_module_version": "1.5.0",
            "_view_count": null,
            "_view_module_version": "1.2.0",
            "bar_color": null,
            "_model_module": "@jupyter-widgets/controls"
          }
        },
        "15cb141e22e54aff8ba73a4b567c1a0c": {
          "model_module": "@jupyter-widgets/base",
          "model_name": "LayoutModel",
          "state": {
            "_view_name": "LayoutView",
            "grid_template_rows": null,
            "right": null,
            "justify_content": null,
            "_view_module": "@jupyter-widgets/base",
            "overflow": null,
            "_model_module_version": "1.2.0",
            "_view_count": null,
            "flex_flow": null,
            "width": null,
            "min_width": null,
            "border": null,
            "align_items": null,
            "bottom": null,
            "_model_module": "@jupyter-widgets/base",
            "top": null,
            "grid_column": null,
            "overflow_y": null,
            "overflow_x": null,
            "grid_auto_flow": null,
            "grid_area": null,
            "grid_template_columns": null,
            "flex": null,
            "_model_name": "LayoutModel",
            "justify_items": null,
            "grid_row": null,
            "max_height": null,
            "align_content": null,
            "visibility": null,
            "align_self": null,
            "height": null,
            "min_height": null,
            "padding": null,
            "grid_auto_rows": null,
            "grid_gap": null,
            "max_width": null,
            "order": null,
            "_view_module_version": "1.2.0",
            "grid_template_areas": null,
            "object_position": null,
            "object_fit": null,
            "grid_auto_columns": null,
            "margin": null,
            "display": null,
            "left": null
          }
        },
        "4e50e269ca3343af8d9417925cc1b964": {
          "model_module": "@jupyter-widgets/controls",
          "model_name": "DescriptionStyleModel",
          "state": {
            "_view_name": "StyleView",
            "_model_name": "DescriptionStyleModel",
            "description_width": "",
            "_view_module": "@jupyter-widgets/base",
            "_model_module_version": "1.5.0",
            "_view_count": null,
            "_view_module_version": "1.2.0",
            "_model_module": "@jupyter-widgets/controls"
          }
        },
        "21cdc9b7f0a24a04ab80ca3d24950496": {
          "model_module": "@jupyter-widgets/base",
          "model_name": "LayoutModel",
          "state": {
            "_view_name": "LayoutView",
            "grid_template_rows": null,
            "right": null,
            "justify_content": null,
            "_view_module": "@jupyter-widgets/base",
            "overflow": null,
            "_model_module_version": "1.2.0",
            "_view_count": null,
            "flex_flow": null,
            "width": null,
            "min_width": null,
            "border": null,
            "align_items": null,
            "bottom": null,
            "_model_module": "@jupyter-widgets/base",
            "top": null,
            "grid_column": null,
            "overflow_y": null,
            "overflow_x": null,
            "grid_auto_flow": null,
            "grid_area": null,
            "grid_template_columns": null,
            "flex": null,
            "_model_name": "LayoutModel",
            "justify_items": null,
            "grid_row": null,
            "max_height": null,
            "align_content": null,
            "visibility": null,
            "align_self": null,
            "height": null,
            "min_height": null,
            "padding": null,
            "grid_auto_rows": null,
            "grid_gap": null,
            "max_width": null,
            "order": null,
            "_view_module_version": "1.2.0",
            "grid_template_areas": null,
            "object_position": null,
            "object_fit": null,
            "grid_auto_columns": null,
            "margin": null,
            "display": null,
            "left": null
          }
        },
        "21db53968f70483a84f40847edce7cc7": {
          "model_module": "@jupyter-widgets/controls",
          "model_name": "HBoxModel",
          "state": {
            "_view_name": "HBoxView",
            "_dom_classes": [],
            "_model_name": "HBoxModel",
            "_view_module": "@jupyter-widgets/controls",
            "_model_module_version": "1.5.0",
            "_view_count": null,
            "_view_module_version": "1.5.0",
            "box_style": "",
            "layout": "IPY_MODEL_62cebf3185c044f2b92870517265fe8f",
            "_model_module": "@jupyter-widgets/controls",
            "children": [
              "IPY_MODEL_bea3bc48776247d09bb2e4ae5f63f00e",
              "IPY_MODEL_7051dfaf1e7d47749648b343390aaa45"
            ]
          }
        },
        "62cebf3185c044f2b92870517265fe8f": {
          "model_module": "@jupyter-widgets/base",
          "model_name": "LayoutModel",
          "state": {
            "_view_name": "LayoutView",
            "grid_template_rows": null,
            "right": null,
            "justify_content": null,
            "_view_module": "@jupyter-widgets/base",
            "overflow": null,
            "_model_module_version": "1.2.0",
            "_view_count": null,
            "flex_flow": null,
            "width": null,
            "min_width": null,
            "border": null,
            "align_items": null,
            "bottom": null,
            "_model_module": "@jupyter-widgets/base",
            "top": null,
            "grid_column": null,
            "overflow_y": null,
            "overflow_x": null,
            "grid_auto_flow": null,
            "grid_area": null,
            "grid_template_columns": null,
            "flex": null,
            "_model_name": "LayoutModel",
            "justify_items": null,
            "grid_row": null,
            "max_height": null,
            "align_content": null,
            "visibility": null,
            "align_self": null,
            "height": null,
            "min_height": null,
            "padding": null,
            "grid_auto_rows": null,
            "grid_gap": null,
            "max_width": null,
            "order": null,
            "_view_module_version": "1.2.0",
            "grid_template_areas": null,
            "object_position": null,
            "object_fit": null,
            "grid_auto_columns": null,
            "margin": null,
            "display": null,
            "left": null
          }
        },
        "bea3bc48776247d09bb2e4ae5f63f00e": {
          "model_module": "@jupyter-widgets/controls",
          "model_name": "FloatProgressModel",
          "state": {
            "_view_name": "ProgressView",
            "style": "IPY_MODEL_45c222e947fa48048ac64fbcf5ceb0e7",
            "_dom_classes": [],
            "description": "Downloading: 100%",
            "_model_name": "FloatProgressModel",
            "bar_style": "success",
            "max": 61,
            "_view_module": "@jupyter-widgets/controls",
            "_model_module_version": "1.5.0",
            "value": 61,
            "_view_count": null,
            "_view_module_version": "1.5.0",
            "orientation": "horizontal",
            "min": 0,
            "description_tooltip": null,
            "_model_module": "@jupyter-widgets/controls",
            "layout": "IPY_MODEL_b33a16a5bc3d4c999bdcdc5045b4942b"
          }
        },
        "7051dfaf1e7d47749648b343390aaa45": {
          "model_module": "@jupyter-widgets/controls",
          "model_name": "HTMLModel",
          "state": {
            "_view_name": "HTMLView",
            "style": "IPY_MODEL_7e3f481e21064c509eef78582c9926a4",
            "_dom_classes": [],
            "description": "",
            "_model_name": "HTMLModel",
            "placeholder": "​",
            "_view_module": "@jupyter-widgets/controls",
            "_model_module_version": "1.5.0",
            "value": " 61.0/61.0 [00:00&lt;00:00, 439B/s]",
            "_view_count": null,
            "_view_module_version": "1.5.0",
            "description_tooltip": null,
            "_model_module": "@jupyter-widgets/controls",
            "layout": "IPY_MODEL_2e0d0dafa6a242d983a49ce2a9798ef5"
          }
        },
        "45c222e947fa48048ac64fbcf5ceb0e7": {
          "model_module": "@jupyter-widgets/controls",
          "model_name": "ProgressStyleModel",
          "state": {
            "_view_name": "StyleView",
            "_model_name": "ProgressStyleModel",
            "description_width": "initial",
            "_view_module": "@jupyter-widgets/base",
            "_model_module_version": "1.5.0",
            "_view_count": null,
            "_view_module_version": "1.2.0",
            "bar_color": null,
            "_model_module": "@jupyter-widgets/controls"
          }
        },
        "b33a16a5bc3d4c999bdcdc5045b4942b": {
          "model_module": "@jupyter-widgets/base",
          "model_name": "LayoutModel",
          "state": {
            "_view_name": "LayoutView",
            "grid_template_rows": null,
            "right": null,
            "justify_content": null,
            "_view_module": "@jupyter-widgets/base",
            "overflow": null,
            "_model_module_version": "1.2.0",
            "_view_count": null,
            "flex_flow": null,
            "width": null,
            "min_width": null,
            "border": null,
            "align_items": null,
            "bottom": null,
            "_model_module": "@jupyter-widgets/base",
            "top": null,
            "grid_column": null,
            "overflow_y": null,
            "overflow_x": null,
            "grid_auto_flow": null,
            "grid_area": null,
            "grid_template_columns": null,
            "flex": null,
            "_model_name": "LayoutModel",
            "justify_items": null,
            "grid_row": null,
            "max_height": null,
            "align_content": null,
            "visibility": null,
            "align_self": null,
            "height": null,
            "min_height": null,
            "padding": null,
            "grid_auto_rows": null,
            "grid_gap": null,
            "max_width": null,
            "order": null,
            "_view_module_version": "1.2.0",
            "grid_template_areas": null,
            "object_position": null,
            "object_fit": null,
            "grid_auto_columns": null,
            "margin": null,
            "display": null,
            "left": null
          }
        },
        "7e3f481e21064c509eef78582c9926a4": {
          "model_module": "@jupyter-widgets/controls",
          "model_name": "DescriptionStyleModel",
          "state": {
            "_view_name": "StyleView",
            "_model_name": "DescriptionStyleModel",
            "description_width": "",
            "_view_module": "@jupyter-widgets/base",
            "_model_module_version": "1.5.0",
            "_view_count": null,
            "_view_module_version": "1.2.0",
            "_model_module": "@jupyter-widgets/controls"
          }
        },
        "2e0d0dafa6a242d983a49ce2a9798ef5": {
          "model_module": "@jupyter-widgets/base",
          "model_name": "LayoutModel",
          "state": {
            "_view_name": "LayoutView",
            "grid_template_rows": null,
            "right": null,
            "justify_content": null,
            "_view_module": "@jupyter-widgets/base",
            "overflow": null,
            "_model_module_version": "1.2.0",
            "_view_count": null,
            "flex_flow": null,
            "width": null,
            "min_width": null,
            "border": null,
            "align_items": null,
            "bottom": null,
            "_model_module": "@jupyter-widgets/base",
            "top": null,
            "grid_column": null,
            "overflow_y": null,
            "overflow_x": null,
            "grid_auto_flow": null,
            "grid_area": null,
            "grid_template_columns": null,
            "flex": null,
            "_model_name": "LayoutModel",
            "justify_items": null,
            "grid_row": null,
            "max_height": null,
            "align_content": null,
            "visibility": null,
            "align_self": null,
            "height": null,
            "min_height": null,
            "padding": null,
            "grid_auto_rows": null,
            "grid_gap": null,
            "max_width": null,
            "order": null,
            "_view_module_version": "1.2.0",
            "grid_template_areas": null,
            "object_position": null,
            "object_fit": null,
            "grid_auto_columns": null,
            "margin": null,
            "display": null,
            "left": null
          }
        }
      }
    }
  },
  "cells": [
    {
      "cell_type": "markdown",
      "metadata": {
        "id": "6No_OrQOgnel"
      },
      "source": [
        "## 편향 보정 X\n",
        "## "
      ]
    },
    {
      "cell_type": "code",
      "metadata": {
        "id": "jQWOhkPEgkWE"
      },
      "source": [
        "import pandas as pd # 데이터 전처리\n",
        "import numpy as np # 데이터 전처리\n",
        "import random #데이터 전처리\n",
        "from pandas import DataFrame #데이터 전처리\n",
        "from collections import Counter #데이터 전처리\n",
        "\n",
        "from tqdm import tqdm #시간 측정용\n",
        "\n",
        "from sklearn.feature_extraction.text import CountVectorizer # model setting\n",
        "from sklearn.model_selection import train_test_split  # model setting\n",
        "\n",
        "from sklearn.naive_bayes import MultinomialNB  # model 관련\n",
        "from sklearn.metrics import roc_auc_score  # model 성능 확인"
      ],
      "execution_count": null,
      "outputs": []
    },
    {
      "cell_type": "code",
      "metadata": {
        "colab": {
          "base_uri": "https://localhost:8080/",
          "height": 107
        },
        "id": "Kl1x9X_Showl",
        "outputId": "11eca657-9a67-4509-d7dd-3507699ded39"
      },
      "source": [
        "train = pd.read_csv(\"/content/drive/MyDrive/Colab Notebooks/Face_News/news_train.csv\")\n",
        "\n",
        "train.head(2)"
      ],
      "execution_count": null,
      "outputs": [
        {
          "output_type": "execute_result",
          "data": {
            "text/html": [
              "<div>\n",
              "<style scoped>\n",
              "    .dataframe tbody tr th:only-of-type {\n",
              "        vertical-align: middle;\n",
              "    }\n",
              "\n",
              "    .dataframe tbody tr th {\n",
              "        vertical-align: top;\n",
              "    }\n",
              "\n",
              "    .dataframe thead th {\n",
              "        text-align: right;\n",
              "    }\n",
              "</style>\n",
              "<table border=\"1\" class=\"dataframe\">\n",
              "  <thead>\n",
              "    <tr style=\"text-align: right;\">\n",
              "      <th></th>\n",
              "      <th>n_id</th>\n",
              "      <th>date</th>\n",
              "      <th>title</th>\n",
              "      <th>content</th>\n",
              "      <th>ord</th>\n",
              "      <th>info</th>\n",
              "    </tr>\n",
              "  </thead>\n",
              "  <tbody>\n",
              "    <tr>\n",
              "      <th>0</th>\n",
              "      <td>NEWS02580</td>\n",
              "      <td>20200605</td>\n",
              "      <td>[마감]코스닥 기관 678억 순매도</td>\n",
              "      <td>[이데일리 MARKETPOINT]15:32 현재 코스닥 기관 678억 순매도</td>\n",
              "      <td>1</td>\n",
              "      <td>0</td>\n",
              "    </tr>\n",
              "    <tr>\n",
              "      <th>1</th>\n",
              "      <td>NEWS02580</td>\n",
              "      <td>20200605</td>\n",
              "      <td>[마감]코스닥 기관 678억 순매도</td>\n",
              "      <td>\"실적기반\" 저가에 매집해야 할 8월 급등유망주 TOP 5 전격공개</td>\n",
              "      <td>2</td>\n",
              "      <td>1</td>\n",
              "    </tr>\n",
              "  </tbody>\n",
              "</table>\n",
              "</div>"
            ],
            "text/plain": [
              "        n_id      date  ... ord info\n",
              "0  NEWS02580  20200605  ...   1    0\n",
              "1  NEWS02580  20200605  ...   2    1\n",
              "\n",
              "[2 rows x 6 columns]"
            ]
          },
          "metadata": {
            "tags": []
          },
          "execution_count": 3
        }
      ]
    },
    {
      "cell_type": "code",
      "metadata": {
        "colab": {
          "base_uri": "https://localhost:8080/",
          "height": 107
        },
        "id": "dZj_VCr_hp_x",
        "outputId": "c81b1f7a-3efa-4ea3-cae3-26df1419f58a"
      },
      "source": [
        "test = pd.read_csv(\"/content/drive/MyDrive/Colab Notebooks/Face_News/news_test.csv\")\n",
        "\n",
        "test.head(2)"
      ],
      "execution_count": null,
      "outputs": [
        {
          "output_type": "execute_result",
          "data": {
            "text/html": [
              "<div>\n",
              "<style scoped>\n",
              "    .dataframe tbody tr th:only-of-type {\n",
              "        vertical-align: middle;\n",
              "    }\n",
              "\n",
              "    .dataframe tbody tr th {\n",
              "        vertical-align: top;\n",
              "    }\n",
              "\n",
              "    .dataframe thead th {\n",
              "        text-align: right;\n",
              "    }\n",
              "</style>\n",
              "<table border=\"1\" class=\"dataframe\">\n",
              "  <thead>\n",
              "    <tr style=\"text-align: right;\">\n",
              "      <th></th>\n",
              "      <th>n_id</th>\n",
              "      <th>date</th>\n",
              "      <th>title</th>\n",
              "      <th>content</th>\n",
              "      <th>ord</th>\n",
              "      <th>id</th>\n",
              "    </tr>\n",
              "  </thead>\n",
              "  <tbody>\n",
              "    <tr>\n",
              "      <th>0</th>\n",
              "      <td>NEWS00237</td>\n",
              "      <td>20200118</td>\n",
              "      <td>[주목!e스몰캡]코세스, 마이크로LED 시장 개화 최대수혜 기대</td>\n",
              "      <td>마이크로 LED TV 장비 양산 돌입- 전방업체 투자 확대로 본업도 호조연일 '신고가'</td>\n",
              "      <td>1</td>\n",
              "      <td>NEWS00237_1</td>\n",
              "    </tr>\n",
              "    <tr>\n",
              "      <th>1</th>\n",
              "      <td>NEWS00237</td>\n",
              "      <td>20200118</td>\n",
              "      <td>[주목!e스몰캡]코세스, 마이크로LED 시장 개화 최대수혜 기대</td>\n",
              "      <td>[이데일리 김대웅 기자] 반도체 장비 업체 코세스(089890)의 기술력이 마이크로...</td>\n",
              "      <td>2</td>\n",
              "      <td>NEWS00237_2</td>\n",
              "    </tr>\n",
              "  </tbody>\n",
              "</table>\n",
              "</div>"
            ],
            "text/plain": [
              "        n_id      date  ... ord           id\n",
              "0  NEWS00237  20200118  ...   1  NEWS00237_1\n",
              "1  NEWS00237  20200118  ...   2  NEWS00237_2\n",
              "\n",
              "[2 rows x 6 columns]"
            ]
          },
          "metadata": {
            "tags": []
          },
          "execution_count": 4
        }
      ]
    },
    {
      "cell_type": "code",
      "metadata": {
        "colab": {
          "base_uri": "https://localhost:8080/",
          "height": 107
        },
        "id": "kJ_GpmLthu3m",
        "outputId": "5efee859-afd0-4aca-bda4-5340234dc188"
      },
      "source": [
        "submission=pd.read_csv(\"/content/drive/MyDrive/Colab Notebooks/Face_News/sample_submission.csv\")\n",
        "\n",
        "submission.head(2)"
      ],
      "execution_count": null,
      "outputs": [
        {
          "output_type": "execute_result",
          "data": {
            "text/html": [
              "<div>\n",
              "<style scoped>\n",
              "    .dataframe tbody tr th:only-of-type {\n",
              "        vertical-align: middle;\n",
              "    }\n",
              "\n",
              "    .dataframe tbody tr th {\n",
              "        vertical-align: top;\n",
              "    }\n",
              "\n",
              "    .dataframe thead th {\n",
              "        text-align: right;\n",
              "    }\n",
              "</style>\n",
              "<table border=\"1\" class=\"dataframe\">\n",
              "  <thead>\n",
              "    <tr style=\"text-align: right;\">\n",
              "      <th></th>\n",
              "      <th>id</th>\n",
              "      <th>info</th>\n",
              "    </tr>\n",
              "  </thead>\n",
              "  <tbody>\n",
              "    <tr>\n",
              "      <th>0</th>\n",
              "      <td>NEWS00237_1</td>\n",
              "      <td>0</td>\n",
              "    </tr>\n",
              "    <tr>\n",
              "      <th>1</th>\n",
              "      <td>NEWS00237_2</td>\n",
              "      <td>0</td>\n",
              "    </tr>\n",
              "  </tbody>\n",
              "</table>\n",
              "</div>"
            ],
            "text/plain": [
              "            id  info\n",
              "0  NEWS00237_1     0\n",
              "1  NEWS00237_2     0"
            ]
          },
          "metadata": {
            "tags": []
          },
          "execution_count": 5
        }
      ]
    },
    {
      "cell_type": "code",
      "metadata": {
        "colab": {
          "base_uri": "https://localhost:8080/"
        },
        "id": "-W81u13whv48",
        "outputId": "79b833d0-e981-4a49-a1b1-0e52eee382b2"
      },
      "source": [
        "Counter(train['info'])"
      ],
      "execution_count": null,
      "outputs": [
        {
          "output_type": "execute_result",
          "data": {
            "text/plain": [
              "Counter({0: 71813, 1: 46932})"
            ]
          },
          "metadata": {
            "tags": []
          },
          "execution_count": 6
        }
      ]
    },
    {
      "cell_type": "code",
      "metadata": {
        "colab": {
          "base_uri": "https://localhost:8080/"
        },
        "id": "LlfEAjPHXmd4",
        "outputId": "e8f60b0f-23d4-4956-ce5b-437386003bfa"
      },
      "source": [
        "!pip install transformers"
      ],
      "execution_count": null,
      "outputs": [
        {
          "output_type": "stream",
          "text": [
            "Collecting transformers\n",
            "\u001b[?25l  Downloading https://files.pythonhosted.org/packages/3a/83/e74092e7f24a08d751aa59b37a9fc572b2e4af3918cb66f7766c3affb1b4/transformers-3.5.1-py3-none-any.whl (1.3MB)\n",
            "\u001b[K     |████████████████████████████████| 1.3MB 15.4MB/s \n",
            "\u001b[?25hRequirement already satisfied: dataclasses; python_version < \"3.7\" in /usr/local/lib/python3.6/dist-packages (from transformers) (0.8)\n",
            "Requirement already satisfied: requests in /usr/local/lib/python3.6/dist-packages (from transformers) (2.23.0)\n",
            "Requirement already satisfied: regex!=2019.12.17 in /usr/local/lib/python3.6/dist-packages (from transformers) (2019.12.20)\n",
            "Collecting sacremoses\n",
            "\u001b[?25l  Downloading https://files.pythonhosted.org/packages/7d/34/09d19aff26edcc8eb2a01bed8e98f13a1537005d31e95233fd48216eed10/sacremoses-0.0.43.tar.gz (883kB)\n",
            "\u001b[K     |████████████████████████████████| 890kB 59.5MB/s \n",
            "\u001b[?25hRequirement already satisfied: numpy in /usr/local/lib/python3.6/dist-packages (from transformers) (1.18.5)\n",
            "Requirement already satisfied: tqdm>=4.27 in /usr/local/lib/python3.6/dist-packages (from transformers) (4.41.1)\n",
            "Requirement already satisfied: protobuf in /usr/local/lib/python3.6/dist-packages (from transformers) (3.12.4)\n",
            "Collecting sentencepiece==0.1.91\n",
            "\u001b[?25l  Downloading https://files.pythonhosted.org/packages/d4/a4/d0a884c4300004a78cca907a6ff9a5e9fe4f090f5d95ab341c53d28cbc58/sentencepiece-0.1.91-cp36-cp36m-manylinux1_x86_64.whl (1.1MB)\n",
            "\u001b[K     |████████████████████████████████| 1.1MB 56.8MB/s \n",
            "\u001b[?25hRequirement already satisfied: packaging in /usr/local/lib/python3.6/dist-packages (from transformers) (20.4)\n",
            "Collecting tokenizers==0.9.3\n",
            "\u001b[?25l  Downloading https://files.pythonhosted.org/packages/4c/34/b39eb9994bc3c999270b69c9eea40ecc6f0e97991dba28282b9fd32d44ee/tokenizers-0.9.3-cp36-cp36m-manylinux1_x86_64.whl (2.9MB)\n",
            "\u001b[K     |████████████████████████████████| 2.9MB 58.3MB/s \n",
            "\u001b[?25hRequirement already satisfied: filelock in /usr/local/lib/python3.6/dist-packages (from transformers) (3.0.12)\n",
            "Requirement already satisfied: idna<3,>=2.5 in /usr/local/lib/python3.6/dist-packages (from requests->transformers) (2.10)\n",
            "Requirement already satisfied: certifi>=2017.4.17 in /usr/local/lib/python3.6/dist-packages (from requests->transformers) (2020.11.8)\n",
            "Requirement already satisfied: urllib3!=1.25.0,!=1.25.1,<1.26,>=1.21.1 in /usr/local/lib/python3.6/dist-packages (from requests->transformers) (1.24.3)\n",
            "Requirement already satisfied: chardet<4,>=3.0.2 in /usr/local/lib/python3.6/dist-packages (from requests->transformers) (3.0.4)\n",
            "Requirement already satisfied: six in /usr/local/lib/python3.6/dist-packages (from sacremoses->transformers) (1.15.0)\n",
            "Requirement already satisfied: click in /usr/local/lib/python3.6/dist-packages (from sacremoses->transformers) (7.1.2)\n",
            "Requirement already satisfied: joblib in /usr/local/lib/python3.6/dist-packages (from sacremoses->transformers) (0.17.0)\n",
            "Requirement already satisfied: setuptools in /usr/local/lib/python3.6/dist-packages (from protobuf->transformers) (50.3.2)\n",
            "Requirement already satisfied: pyparsing>=2.0.2 in /usr/local/lib/python3.6/dist-packages (from packaging->transformers) (2.4.7)\n",
            "Building wheels for collected packages: sacremoses\n",
            "  Building wheel for sacremoses (setup.py) ... \u001b[?25l\u001b[?25hdone\n",
            "  Created wheel for sacremoses: filename=sacremoses-0.0.43-cp36-none-any.whl size=893257 sha256=c0ae1532261922860b20417bcf8dbb0a583469d129d4722d13e65cb4fb93ebd8\n",
            "  Stored in directory: /root/.cache/pip/wheels/29/3c/fd/7ce5c3f0666dab31a50123635e6fb5e19ceb42ce38d4e58f45\n",
            "Successfully built sacremoses\n",
            "Installing collected packages: sacremoses, sentencepiece, tokenizers, transformers\n",
            "Successfully installed sacremoses-0.0.43 sentencepiece-0.1.91 tokenizers-0.9.3 transformers-3.5.1\n"
          ],
          "name": "stdout"
        }
      ]
    },
    {
      "cell_type": "code",
      "metadata": {
        "id": "cfLDdq71hzEM"
      },
      "source": [
        "from transformers import ElectraTokenizer"
      ],
      "execution_count": null,
      "outputs": []
    },
    {
      "cell_type": "code",
      "metadata": {
        "colab": {
          "base_uri": "https://localhost:8080/",
          "height": 117,
          "referenced_widgets": [
            "ed8019149d924001bae6d9583438cbdf",
            "a03626d7076740a8923d592955eabef2",
            "57b261cf787a42a5aaf45da39a1f0e83",
            "2a7e638244ea485b9c050b5930249b50",
            "7cd0e8cd71584cb68d8fecbbe27eafd6",
            "15cb141e22e54aff8ba73a4b567c1a0c",
            "4e50e269ca3343af8d9417925cc1b964",
            "21cdc9b7f0a24a04ab80ca3d24950496",
            "21db53968f70483a84f40847edce7cc7",
            "62cebf3185c044f2b92870517265fe8f",
            "bea3bc48776247d09bb2e4ae5f63f00e",
            "7051dfaf1e7d47749648b343390aaa45",
            "45c222e947fa48048ac64fbcf5ceb0e7",
            "b33a16a5bc3d4c999bdcdc5045b4942b",
            "7e3f481e21064c509eef78582c9926a4",
            "2e0d0dafa6a242d983a49ce2a9798ef5"
          ]
        },
        "id": "ltdbx7n7i88k",
        "outputId": "7402eb09-675b-4975-f045-b7f6471f1935"
      },
      "source": [
        "tokenizer = ElectraTokenizer.from_pretrained(\"monologg/koelectra-base-v3-discriminator\")"
      ],
      "execution_count": null,
      "outputs": [
        {
          "output_type": "display_data",
          "data": {
            "application/vnd.jupyter.widget-view+json": {
              "model_id": "ed8019149d924001bae6d9583438cbdf",
              "version_minor": 0,
              "version_major": 2
            },
            "text/plain": [
              "HBox(children=(FloatProgress(value=0.0, description='Downloading', max=263326.0, style=ProgressStyle(descripti…"
            ]
          },
          "metadata": {
            "tags": []
          }
        },
        {
          "output_type": "stream",
          "text": [
            "\n"
          ],
          "name": "stdout"
        },
        {
          "output_type": "display_data",
          "data": {
            "application/vnd.jupyter.widget-view+json": {
              "model_id": "21db53968f70483a84f40847edce7cc7",
              "version_minor": 0,
              "version_major": 2
            },
            "text/plain": [
              "HBox(children=(FloatProgress(value=0.0, description='Downloading', max=61.0, style=ProgressStyle(description_w…"
            ]
          },
          "metadata": {
            "tags": []
          }
        },
        {
          "output_type": "stream",
          "text": [
            "\n"
          ],
          "name": "stdout"
        }
      ]
    },
    {
      "cell_type": "code",
      "metadata": {
        "id": "dpChB7WgjGhL"
      },
      "source": [
        "train['text'] = train['title'] + \" \" + train['content']\n",
        "test['text'] = test['title'] + \" \" + test['content']"
      ],
      "execution_count": null,
      "outputs": []
    },
    {
      "cell_type": "code",
      "metadata": {
        "colab": {
          "base_uri": "https://localhost:8080/",
          "height": 282
        },
        "id": "LIz_tVLBjMG1",
        "outputId": "c6185a6d-2c9f-4c3b-b756-452684ffe11f"
      },
      "source": [
        "import re\n",
        "\n",
        "train_clear_text = list(train['text'])\n",
        "\n",
        "train_clear_text2 = []\n",
        "\n",
        "for text in train_clear_text:\n",
        "  temp = re.sub('[-=+,#/\\?:^$.@*\\\"※~&%ㆍ!』\\\\‘|\\(\\)\\[\\]\\<\\>`\\'…》]', '', text)\n",
        "  train_clear_text2.append(temp)\n",
        "train['clear_text'] = train_clear_text2\n",
        "train.head()"
      ],
      "execution_count": null,
      "outputs": [
        {
          "output_type": "execute_result",
          "data": {
            "text/html": [
              "<div>\n",
              "<style scoped>\n",
              "    .dataframe tbody tr th:only-of-type {\n",
              "        vertical-align: middle;\n",
              "    }\n",
              "\n",
              "    .dataframe tbody tr th {\n",
              "        vertical-align: top;\n",
              "    }\n",
              "\n",
              "    .dataframe thead th {\n",
              "        text-align: right;\n",
              "    }\n",
              "</style>\n",
              "<table border=\"1\" class=\"dataframe\">\n",
              "  <thead>\n",
              "    <tr style=\"text-align: right;\">\n",
              "      <th></th>\n",
              "      <th>n_id</th>\n",
              "      <th>date</th>\n",
              "      <th>title</th>\n",
              "      <th>content</th>\n",
              "      <th>ord</th>\n",
              "      <th>info</th>\n",
              "      <th>text</th>\n",
              "      <th>clear_text</th>\n",
              "    </tr>\n",
              "  </thead>\n",
              "  <tbody>\n",
              "    <tr>\n",
              "      <th>0</th>\n",
              "      <td>NEWS02580</td>\n",
              "      <td>20200605</td>\n",
              "      <td>[마감]코스닥 기관 678억 순매도</td>\n",
              "      <td>[이데일리 MARKETPOINT]15:32 현재 코스닥 기관 678억 순매도</td>\n",
              "      <td>1</td>\n",
              "      <td>0</td>\n",
              "      <td>[마감]코스닥 기관 678억 순매도 [이데일리 MARKETPOINT]15:32 현재...</td>\n",
              "      <td>마감코스닥 기관 678억 순매도 이데일리 MARKETPOINT1532 현재 코스닥 ...</td>\n",
              "    </tr>\n",
              "    <tr>\n",
              "      <th>1</th>\n",
              "      <td>NEWS02580</td>\n",
              "      <td>20200605</td>\n",
              "      <td>[마감]코스닥 기관 678억 순매도</td>\n",
              "      <td>\"실적기반\" 저가에 매집해야 할 8월 급등유망주 TOP 5 전격공개</td>\n",
              "      <td>2</td>\n",
              "      <td>1</td>\n",
              "      <td>[마감]코스닥 기관 678억 순매도 \"실적기반\" 저가에 매집해야 할 8월 급등유망주...</td>\n",
              "      <td>마감코스닥 기관 678억 순매도 실적기반 저가에 매집해야 할 8월 급등유망주 TOP...</td>\n",
              "    </tr>\n",
              "    <tr>\n",
              "      <th>2</th>\n",
              "      <td>NEWS02580</td>\n",
              "      <td>20200605</td>\n",
              "      <td>[마감]코스닥 기관 678억 순매도</td>\n",
              "      <td>하이스탁론, 선취수수료 없는 월 0.4% 최저금리 상품 출시</td>\n",
              "      <td>3</td>\n",
              "      <td>1</td>\n",
              "      <td>[마감]코스닥 기관 678억 순매도 하이스탁론, 선취수수료 없는 월 0.4% 최저금...</td>\n",
              "      <td>마감코스닥 기관 678억 순매도 하이스탁론 선취수수료 없는 월 04 최저금리 상품 출시</td>\n",
              "    </tr>\n",
              "    <tr>\n",
              "      <th>3</th>\n",
              "      <td>NEWS02580</td>\n",
              "      <td>20200605</td>\n",
              "      <td>[마감]코스닥 기관 678억 순매도</td>\n",
              "      <td>종합 경제정보 미디어 이데일리 - 무단전재 &amp; 재배포 금지</td>\n",
              "      <td>4</td>\n",
              "      <td>0</td>\n",
              "      <td>[마감]코스닥 기관 678억 순매도 종합 경제정보 미디어 이데일리 - 무단전재 &amp; ...</td>\n",
              "      <td>마감코스닥 기관 678억 순매도 종합 경제정보 미디어 이데일리  무단전재  재배포 금지</td>\n",
              "    </tr>\n",
              "    <tr>\n",
              "      <th>4</th>\n",
              "      <td>NEWS09727</td>\n",
              "      <td>20200626</td>\n",
              "      <td>롯데·공영 등 7개 TV 홈쇼핑들, 동행세일 동참</td>\n",
              "      <td>전국적인 소비 붐 조성에 기여할 예정</td>\n",
              "      <td>1</td>\n",
              "      <td>0</td>\n",
              "      <td>롯데·공영 등 7개 TV 홈쇼핑들, 동행세일 동참 전국적인 소비 붐 조성에 기여할 예정</td>\n",
              "      <td>롯데·공영 등 7개 TV 홈쇼핑들 동행세일 동참 전국적인 소비 붐 조성에 기여할 예정</td>\n",
              "    </tr>\n",
              "  </tbody>\n",
              "</table>\n",
              "</div>"
            ],
            "text/plain": [
              "        n_id  ...                                         clear_text\n",
              "0  NEWS02580  ...  마감코스닥 기관 678억 순매도 이데일리 MARKETPOINT1532 현재 코스닥 ...\n",
              "1  NEWS02580  ...  마감코스닥 기관 678억 순매도 실적기반 저가에 매집해야 할 8월 급등유망주 TOP...\n",
              "2  NEWS02580  ...   마감코스닥 기관 678억 순매도 하이스탁론 선취수수료 없는 월 04 최저금리 상품 출시\n",
              "3  NEWS02580  ...   마감코스닥 기관 678억 순매도 종합 경제정보 미디어 이데일리  무단전재  재배포 금지\n",
              "4  NEWS09727  ...    롯데·공영 등 7개 TV 홈쇼핑들 동행세일 동참 전국적인 소비 붐 조성에 기여할 예정\n",
              "\n",
              "[5 rows x 8 columns]"
            ]
          },
          "metadata": {
            "tags": []
          },
          "execution_count": 11
        }
      ]
    },
    {
      "cell_type": "code",
      "metadata": {
        "colab": {
          "base_uri": "https://localhost:8080/",
          "height": 282
        },
        "id": "s-iELngHor-B",
        "outputId": "c8c34300-2b56-4cee-b772-ad3c260c2f00"
      },
      "source": [
        "import re\n",
        "\n",
        "train_clear_text = list(test['text'])\n",
        "\n",
        "train_clear_text2 = []\n",
        "\n",
        "for text in train_clear_text:\n",
        "  temp = re.sub('[-=+,#/\\?:^$.@*\\\"※~&%ㆍ!』\\\\‘|\\(\\)\\[\\]\\<\\>`\\'…》]', '', text)\n",
        "  train_clear_text2.append(temp)\n",
        "test['clear_text'] = train_clear_text2\n",
        "test.head()"
      ],
      "execution_count": null,
      "outputs": [
        {
          "output_type": "execute_result",
          "data": {
            "text/html": [
              "<div>\n",
              "<style scoped>\n",
              "    .dataframe tbody tr th:only-of-type {\n",
              "        vertical-align: middle;\n",
              "    }\n",
              "\n",
              "    .dataframe tbody tr th {\n",
              "        vertical-align: top;\n",
              "    }\n",
              "\n",
              "    .dataframe thead th {\n",
              "        text-align: right;\n",
              "    }\n",
              "</style>\n",
              "<table border=\"1\" class=\"dataframe\">\n",
              "  <thead>\n",
              "    <tr style=\"text-align: right;\">\n",
              "      <th></th>\n",
              "      <th>n_id</th>\n",
              "      <th>date</th>\n",
              "      <th>title</th>\n",
              "      <th>content</th>\n",
              "      <th>ord</th>\n",
              "      <th>id</th>\n",
              "      <th>text</th>\n",
              "      <th>clear_text</th>\n",
              "    </tr>\n",
              "  </thead>\n",
              "  <tbody>\n",
              "    <tr>\n",
              "      <th>0</th>\n",
              "      <td>NEWS00237</td>\n",
              "      <td>20200118</td>\n",
              "      <td>[주목!e스몰캡]코세스, 마이크로LED 시장 개화 최대수혜 기대</td>\n",
              "      <td>마이크로 LED TV 장비 양산 돌입- 전방업체 투자 확대로 본업도 호조연일 '신고가'</td>\n",
              "      <td>1</td>\n",
              "      <td>NEWS00237_1</td>\n",
              "      <td>[주목!e스몰캡]코세스, 마이크로LED 시장 개화 최대수혜 기대 마이크로 LED T...</td>\n",
              "      <td>주목e스몰캡코세스 마이크로LED 시장 개화 최대수혜 기대 마이크로 LED TV 장비...</td>\n",
              "    </tr>\n",
              "    <tr>\n",
              "      <th>1</th>\n",
              "      <td>NEWS00237</td>\n",
              "      <td>20200118</td>\n",
              "      <td>[주목!e스몰캡]코세스, 마이크로LED 시장 개화 최대수혜 기대</td>\n",
              "      <td>[이데일리 김대웅 기자] 반도체 장비 업체 코세스(089890)의 기술력이 마이크로...</td>\n",
              "      <td>2</td>\n",
              "      <td>NEWS00237_2</td>\n",
              "      <td>[주목!e스몰캡]코세스, 마이크로LED 시장 개화 최대수혜 기대 [이데일리 김대웅 ...</td>\n",
              "      <td>주목e스몰캡코세스 마이크로LED 시장 개화 최대수혜 기대 이데일리 김대웅 기자 반도...</td>\n",
              "    </tr>\n",
              "    <tr>\n",
              "      <th>2</th>\n",
              "      <td>NEWS00237</td>\n",
              "      <td>20200118</td>\n",
              "      <td>[주목!e스몰캡]코세스, 마이크로LED 시장 개화 최대수혜 기대</td>\n",
              "      <td>최근 대형 업체들과 거래를 맺고 관련 장비들의 양산에 돌입하면서 주가도 연일 신고가...</td>\n",
              "      <td>3</td>\n",
              "      <td>NEWS00237_3</td>\n",
              "      <td>[주목!e스몰캡]코세스, 마이크로LED 시장 개화 최대수혜 기대 최근 대형 업체들과...</td>\n",
              "      <td>주목e스몰캡코세스 마이크로LED 시장 개화 최대수혜 기대 최근 대형 업체들과 거래를...</td>\n",
              "    </tr>\n",
              "    <tr>\n",
              "      <th>3</th>\n",
              "      <td>NEWS00237</td>\n",
              "      <td>20200118</td>\n",
              "      <td>[주목!e스몰캡]코세스, 마이크로LED 시장 개화 최대수혜 기대</td>\n",
              "      <td>TV를 필두로 올해부터 마이크로 LED의 시대가 본격적으로 개화할 것으로 예상되면서...</td>\n",
              "      <td>4</td>\n",
              "      <td>NEWS00237_4</td>\n",
              "      <td>[주목!e스몰캡]코세스, 마이크로LED 시장 개화 최대수혜 기대 TV를 필두로 올해...</td>\n",
              "      <td>주목e스몰캡코세스 마이크로LED 시장 개화 최대수혜 기대 TV를 필두로 올해부터 마...</td>\n",
              "    </tr>\n",
              "    <tr>\n",
              "      <th>4</th>\n",
              "      <td>NEWS00237</td>\n",
              "      <td>20200118</td>\n",
              "      <td>[주목!e스몰캡]코세스, 마이크로LED 시장 개화 최대수혜 기대</td>\n",
              "      <td>코세스는 반도체 장비를 제조, 판매하는 업체로 지난 2006년 11월 코스닥 시장에...</td>\n",
              "      <td>5</td>\n",
              "      <td>NEWS00237_5</td>\n",
              "      <td>[주목!e스몰캡]코세스, 마이크로LED 시장 개화 최대수혜 기대 코세스는 반도체 장...</td>\n",
              "      <td>주목e스몰캡코세스 마이크로LED 시장 개화 최대수혜 기대 코세스는 반도체 장비를 제...</td>\n",
              "    </tr>\n",
              "  </tbody>\n",
              "</table>\n",
              "</div>"
            ],
            "text/plain": [
              "        n_id  ...                                         clear_text\n",
              "0  NEWS00237  ...  주목e스몰캡코세스 마이크로LED 시장 개화 최대수혜 기대 마이크로 LED TV 장비...\n",
              "1  NEWS00237  ...  주목e스몰캡코세스 마이크로LED 시장 개화 최대수혜 기대 이데일리 김대웅 기자 반도...\n",
              "2  NEWS00237  ...  주목e스몰캡코세스 마이크로LED 시장 개화 최대수혜 기대 최근 대형 업체들과 거래를...\n",
              "3  NEWS00237  ...  주목e스몰캡코세스 마이크로LED 시장 개화 최대수혜 기대 TV를 필두로 올해부터 마...\n",
              "4  NEWS00237  ...  주목e스몰캡코세스 마이크로LED 시장 개화 최대수혜 기대 코세스는 반도체 장비를 제...\n",
              "\n",
              "[5 rows x 8 columns]"
            ]
          },
          "metadata": {
            "tags": []
          },
          "execution_count": 12
        }
      ]
    },
    {
      "cell_type": "code",
      "metadata": {
        "colab": {
          "base_uri": "https://localhost:8080/"
        },
        "id": "xFJq-g34jQaW",
        "outputId": "f0f18148-8cd7-403f-f579-6e569a171f3f"
      },
      "source": [
        "stopwords = ['의', '가', '이', '은', '들', '는', '좀', '잘', '걍', '과', '도', '를', '으로', '자', '에', '와', '한', '하다']\n",
        "\n",
        "X_train = []\n",
        "\n",
        "text = list(train['clear_text'])\n",
        "\n",
        "for i in tqdm(range(len(text))):\n",
        "  temp_X = []\n",
        "  temp_X = tokenizer.tokenize(text[i])\n",
        "  temp_X = [word for word in temp_X if not word in stopwords] # 불용어 제거\n",
        "  temp_X = [word for word in temp_X if len(word) > 1]\n",
        "  X_train.append(temp_X)"
      ],
      "execution_count": null,
      "outputs": [
        {
          "output_type": "stream",
          "text": [
            "100%|██████████| 118745/118745 [00:35<00:00, 3391.91it/s]\n"
          ],
          "name": "stderr"
        }
      ]
    },
    {
      "cell_type": "code",
      "metadata": {
        "id": "uuR2KsP8g-SI"
      },
      "source": [
        "# from keras.preprocessing.text import Tokenizer\n",
        "# max_words = 10000\n",
        "# tokenizer = Tokenizer(num_words = max_words)\n",
        "# tokenizer.fit_on_texts(X_token)\n",
        "# X_train = tokenizer.texts_to_sequences(X_token)\n",
        "# X_test = tokenizer.texts_to_sequences(X_test)"
      ],
      "execution_count": null,
      "outputs": []
    },
    {
      "cell_type": "code",
      "metadata": {
        "colab": {
          "base_uri": "https://localhost:8080/"
        },
        "id": "F1ipvC4yoT9U",
        "outputId": "2c7172de-bb22-44d6-eccd-98c43ddb440f"
      },
      "source": [
        "X_test = []\n",
        "\n",
        "text = list(test['clear_text'])\n",
        "\n",
        "for i in tqdm(range(len(text))):\n",
        "  temp_X = []\n",
        "  temp_X = tokenizer.tokenize(text[i])\n",
        "  temp_X = [word for word in temp_X if not word in stopwords] # 불용어 제거\n",
        "  temp_X = [word for word in temp_X if len(word) > 1]\n",
        "  X_test.append(temp_X)"
      ],
      "execution_count": null,
      "outputs": [
        {
          "output_type": "stream",
          "text": [
            "100%|██████████| 142565/142565 [00:41<00:00, 3432.01it/s]\n"
          ],
          "name": "stderr"
        }
      ]
    },
    {
      "cell_type": "code",
      "metadata": {
        "colab": {
          "base_uri": "https://localhost:8080/"
        },
        "id": "zlXSgOvrow-U",
        "outputId": "3d83e6fb-4cae-469a-c3a4-3118329a0914"
      },
      "source": [
        "print(X_train[:5])"
      ],
      "execution_count": null,
      "outputs": [
        {
          "output_type": "stream",
          "text": [
            "[['마감', '##코스', '##닥', '기관', '67', '##8', '##억', '순매도', '이데', '##일리', 'MA', '##R', '##K', '##ET', '##P', '##O', '##IN', '##T', '##15', '##32', '현재', '코스닥', '기관', '67', '##8', '##억', '순매도'], ['마감', '##코스', '##닥', '기관', '67', '##8', '##억', '순매도', '실적', '##기', '##반', '##가', '##에', '##집', '##해야', '##월', '급등', '##유', '##망', '##주', 'TOP', '전격', '##공', '##개'], ['마감', '##코스', '##닥', '기관', '67', '##8', '##억', '순매도', '하이', '##스', '##탁', '##론', '선취', '##수수', '##료', '##는', '04', '최저', '##금리', '상품', '출시'], ['마감', '##코스', '##닥', '기관', '67', '##8', '##억', '순매도', '종합', '경제', '##정보', '미디어', '이데', '##일리', '무단', '##전', '##재', '재배', '##포', '금지'], ['롯데', '공영', '##개', 'TV', '##쇼', '##핑', '##들', '동행', '##세', '##일', '동참', '전국', '##적', '##인', '소비', '조성', '##에', '기여', '##할', '예정']]\n"
          ],
          "name": "stdout"
        }
      ]
    },
    {
      "cell_type": "code",
      "metadata": {
        "colab": {
          "base_uri": "https://localhost:8080/"
        },
        "id": "tHxuyQZZo9_s",
        "outputId": "6e74f9aa-78f6-477e-83f5-1a2414799463"
      },
      "source": [
        "X_temp = []\n",
        "\n",
        "text = X_train\n",
        "\n",
        "for i in tqdm(range(len(text))):\n",
        "  temp_X = []\n",
        "  temp_X = tokenizer.convert_tokens_to_ids(text[i])\n",
        "  X_temp.append(temp_X)\n",
        "X_train = X_temp"
      ],
      "execution_count": null,
      "outputs": [
        {
          "output_type": "stream",
          "text": [
            "100%|██████████| 118745/118745 [00:03<00:00, 31114.08it/s]\n"
          ],
          "name": "stderr"
        }
      ]
    },
    {
      "cell_type": "code",
      "metadata": {
        "colab": {
          "base_uri": "https://localhost:8080/"
        },
        "id": "XUQqs5fIp07c",
        "outputId": "2f19513a-0c89-4fdb-d3f3-f089f72934f6"
      },
      "source": [
        "X_temp = []\n",
        "\n",
        "text = X_test\n",
        "\n",
        "for i in tqdm(range(len(text))):\n",
        "  temp_X = []\n",
        "  temp_X = tokenizer.convert_tokens_to_ids(text[i])\n",
        "  X_temp.append(temp_X)\n",
        "X_test = X_temp"
      ],
      "execution_count": null,
      "outputs": [
        {
          "output_type": "stream",
          "text": [
            "100%|██████████| 142565/142565 [00:04<00:00, 31947.82it/s]\n"
          ],
          "name": "stderr"
        }
      ]
    },
    {
      "cell_type": "code",
      "metadata": {
        "colab": {
          "base_uri": "https://localhost:8080/"
        },
        "id": "X_9F67wlqmaN",
        "outputId": "c7bfce8f-01b4-4891-a147-6deed330b6cf"
      },
      "source": [
        "print(X_train[:5])"
      ],
      "execution_count": null,
      "outputs": [
        {
          "output_type": "stream",
          "text": [
            "[[9011, 19334, 4619, 6468, 9328, 4193, 4639, 18260, 13014, 8854, 17627, 4111, 4170, 29624, 4105, 4014, 17471, 4169, 21974, 26397, 6339, 11942, 6468, 9328, 4193, 4639, 18260], [9011, 19334, 4619, 6468, 9328, 4193, 4639, 18260, 7521, 4031, 4131, 4070, 4073, 4557, 18991, 4501, 11916, 4074, 4227, 4076, 27215, 12552, 4333, 4217], [9011, 19334, 4619, 6468, 9328, 4193, 4639, 18260, 7527, 4063, 4734, 4300, 31127, 9990, 4701, 4034, 10965, 7979, 17165, 6697, 6980], [9011, 19334, 4619, 6468, 9328, 4193, 4639, 18260, 7028, 6277, 21590, 7978, 13014, 8854, 14100, 4068, 4171, 10572, 4190, 7399], [6988, 13667, 4217, 6943, 4766, 5095, 4006, 12269, 4246, 4366, 10654, 6635, 4199, 4139, 6562, 6994, 4073, 7991, 4519, 6446]]\n"
          ],
          "name": "stdout"
        }
      ]
    },
    {
      "cell_type": "code",
      "metadata": {
        "colab": {
          "base_uri": "https://localhost:8080/",
          "height": 315
        },
        "id": "TGD-RN4Lqox-",
        "outputId": "6220566c-5fcb-4062-dbc9-2d4a30e65df3"
      },
      "source": [
        "import matplotlib.pyplot as plt\n",
        "\n",
        "print(\"문자의 최대 길이 :\" , max(len(l) for l in X_train))\n",
        "print(\"문자의 평균 길이 : \", sum(map(len, X_train))/ len(X_train))\n",
        "plt.hist([len(s) for s in X_train], bins=50)\n",
        "plt.xlabel('length of Data')\n",
        "plt.ylabel('number of Data')\n",
        "plt.show()"
      ],
      "execution_count": null,
      "outputs": [
        {
          "output_type": "stream",
          "text": [
            "문자의 최대 길이 : 1706\n",
            "문자의 평균 길이 :  34.955812876331635\n"
          ],
          "name": "stdout"
        },
        {
          "output_type": "display_data",
          "data": {
            "image/png": "[encoded data removed]",
            "text/plain": [
              "<Figure size 432x288 with 1 Axes>"
            ]
          },
          "metadata": {
            "tags": [],
            "needs_background": "light"
          }
        }
      ]
    },
    {
      "cell_type": "code",
      "metadata": {
        "colab": {
          "base_uri": "https://localhost:8080/",
          "height": 315
        },
        "id": "UOnz8Xrlqq2n",
        "outputId": "0d3d1620-0753-4e31-d383-9443c44761fa"
      },
      "source": [
        "import matplotlib.pyplot as plt\n",
        "\n",
        "print(\"문자의 최대 길이 :\" , max(len(l) for l in X_test))\n",
        "print(\"문자의 평균 길이 : \", sum(map(len, X_test))/ len(X_test))\n",
        "plt.hist([len(s) for s in X_test], bins=50)\n",
        "plt.xlabel('length of Data')\n",
        "plt.ylabel('number of Data')\n",
        "plt.show()"
      ],
      "execution_count": null,
      "outputs": [
        {
          "output_type": "stream",
          "text": [
            "문자의 최대 길이 : 1107\n",
            "문자의 평균 길이 :  35.033247992143934\n"
          ],
          "name": "stdout"
        },
        {
          "output_type": "display_data",
          "data": {
            "image/png": "[encoded data removed]",
            "text/plain": [
              "<Figure size 432x288 with 1 Axes>"
            ]
          },
          "metadata": {
            "tags": [],
            "needs_background": "light"
          }
        }
      ]
    },
    {
      "cell_type": "code",
      "metadata": {
        "id": "foeH85mMqtRr"
      },
      "source": [
        "from keras.utils import np_utils\n",
        "import numpy as np\n",
        "\n",
        "y_train = []\n",
        "\n",
        "for i in range(len(train['info'])):\n",
        "  if train['info'].iloc[i] == 1:\n",
        "    y_train.append([0, 1])\n",
        "  elif train['info'].iloc[i] == 0:\n",
        "    y_train.append([1, 0])\n",
        "\n",
        "y_train = np.array(y_train)"
      ],
      "execution_count": null,
      "outputs": []
    },
    {
      "cell_type": "code",
      "metadata": {
        "colab": {
          "base_uri": "https://localhost:8080/",
          "height": 282
        },
        "id": "6R0GxotxxIzd",
        "outputId": "6f6c4ad0-89a9-44ba-f14c-73ee4bdc391b"
      },
      "source": [
        "test.head()"
      ],
      "execution_count": null,
      "outputs": [
        {
          "output_type": "execute_result",
          "data": {
            "text/html": [
              "<div>\n",
              "<style scoped>\n",
              "    .dataframe tbody tr th:only-of-type {\n",
              "        vertical-align: middle;\n",
              "    }\n",
              "\n",
              "    .dataframe tbody tr th {\n",
              "        vertical-align: top;\n",
              "    }\n",
              "\n",
              "    .dataframe thead th {\n",
              "        text-align: right;\n",
              "    }\n",
              "</style>\n",
              "<table border=\"1\" class=\"dataframe\">\n",
              "  <thead>\n",
              "    <tr style=\"text-align: right;\">\n",
              "      <th></th>\n",
              "      <th>n_id</th>\n",
              "      <th>date</th>\n",
              "      <th>title</th>\n",
              "      <th>content</th>\n",
              "      <th>ord</th>\n",
              "      <th>id</th>\n",
              "      <th>text</th>\n",
              "      <th>clear_text</th>\n",
              "    </tr>\n",
              "  </thead>\n",
              "  <tbody>\n",
              "    <tr>\n",
              "      <th>0</th>\n",
              "      <td>NEWS00237</td>\n",
              "      <td>20200118</td>\n",
              "      <td>[주목!e스몰캡]코세스, 마이크로LED 시장 개화 최대수혜 기대</td>\n",
              "      <td>마이크로 LED TV 장비 양산 돌입- 전방업체 투자 확대로 본업도 호조연일 '신고가'</td>\n",
              "      <td>1</td>\n",
              "      <td>NEWS00237_1</td>\n",
              "      <td>[주목!e스몰캡]코세스, 마이크로LED 시장 개화 최대수혜 기대 마이크로 LED T...</td>\n",
              "      <td>주목e스몰캡코세스 마이크로LED 시장 개화 최대수혜 기대 마이크로 LED TV 장비...</td>\n",
              "    </tr>\n",
              "    <tr>\n",
              "      <th>1</th>\n",
              "      <td>NEWS00237</td>\n",
              "      <td>20200118</td>\n",
              "      <td>[주목!e스몰캡]코세스, 마이크로LED 시장 개화 최대수혜 기대</td>\n",
              "      <td>[이데일리 김대웅 기자] 반도체 장비 업체 코세스(089890)의 기술력이 마이크로...</td>\n",
              "      <td>2</td>\n",
              "      <td>NEWS00237_2</td>\n",
              "      <td>[주목!e스몰캡]코세스, 마이크로LED 시장 개화 최대수혜 기대 [이데일리 김대웅 ...</td>\n",
              "      <td>주목e스몰캡코세스 마이크로LED 시장 개화 최대수혜 기대 이데일리 김대웅 기자 반도...</td>\n",
              "    </tr>\n",
              "    <tr>\n",
              "      <th>2</th>\n",
              "      <td>NEWS00237</td>\n",
              "      <td>20200118</td>\n",
              "      <td>[주목!e스몰캡]코세스, 마이크로LED 시장 개화 최대수혜 기대</td>\n",
              "      <td>최근 대형 업체들과 거래를 맺고 관련 장비들의 양산에 돌입하면서 주가도 연일 신고가...</td>\n",
              "      <td>3</td>\n",
              "      <td>NEWS00237_3</td>\n",
              "      <td>[주목!e스몰캡]코세스, 마이크로LED 시장 개화 최대수혜 기대 최근 대형 업체들과...</td>\n",
              "      <td>주목e스몰캡코세스 마이크로LED 시장 개화 최대수혜 기대 최근 대형 업체들과 거래를...</td>\n",
              "    </tr>\n",
              "    <tr>\n",
              "      <th>3</th>\n",
              "      <td>NEWS00237</td>\n",
              "      <td>20200118</td>\n",
              "      <td>[주목!e스몰캡]코세스, 마이크로LED 시장 개화 최대수혜 기대</td>\n",
              "      <td>TV를 필두로 올해부터 마이크로 LED의 시대가 본격적으로 개화할 것으로 예상되면서...</td>\n",
              "      <td>4</td>\n",
              "      <td>NEWS00237_4</td>\n",
              "      <td>[주목!e스몰캡]코세스, 마이크로LED 시장 개화 최대수혜 기대 TV를 필두로 올해...</td>\n",
              "      <td>주목e스몰캡코세스 마이크로LED 시장 개화 최대수혜 기대 TV를 필두로 올해부터 마...</td>\n",
              "    </tr>\n",
              "    <tr>\n",
              "      <th>4</th>\n",
              "      <td>NEWS00237</td>\n",
              "      <td>20200118</td>\n",
              "      <td>[주목!e스몰캡]코세스, 마이크로LED 시장 개화 최대수혜 기대</td>\n",
              "      <td>코세스는 반도체 장비를 제조, 판매하는 업체로 지난 2006년 11월 코스닥 시장에...</td>\n",
              "      <td>5</td>\n",
              "      <td>NEWS00237_5</td>\n",
              "      <td>[주목!e스몰캡]코세스, 마이크로LED 시장 개화 최대수혜 기대 코세스는 반도체 장...</td>\n",
              "      <td>주목e스몰캡코세스 마이크로LED 시장 개화 최대수혜 기대 코세스는 반도체 장비를 제...</td>\n",
              "    </tr>\n",
              "  </tbody>\n",
              "</table>\n",
              "</div>"
            ],
            "text/plain": [
              "        n_id  ...                                         clear_text\n",
              "0  NEWS00237  ...  주목e스몰캡코세스 마이크로LED 시장 개화 최대수혜 기대 마이크로 LED TV 장비...\n",
              "1  NEWS00237  ...  주목e스몰캡코세스 마이크로LED 시장 개화 최대수혜 기대 이데일리 김대웅 기자 반도...\n",
              "2  NEWS00237  ...  주목e스몰캡코세스 마이크로LED 시장 개화 최대수혜 기대 최근 대형 업체들과 거래를...\n",
              "3  NEWS00237  ...  주목e스몰캡코세스 마이크로LED 시장 개화 최대수혜 기대 TV를 필두로 올해부터 마...\n",
              "4  NEWS00237  ...  주목e스몰캡코세스 마이크로LED 시장 개화 최대수혜 기대 코세스는 반도체 장비를 제...\n",
              "\n",
              "[5 rows x 8 columns]"
            ]
          },
          "metadata": {
            "tags": []
          },
          "execution_count": 22
        }
      ]
    },
    {
      "cell_type": "code",
      "metadata": {
        "id": "B3UX43swvxSp"
      },
      "source": [
        "import keras\n",
        "from keras.layers import Embedding, Dense, LSTM\n",
        "from keras.models import Sequential\n",
        "from keras.preprocessing.sequence import pad_sequences"
      ],
      "execution_count": null,
      "outputs": []
    },
    {
      "cell_type": "code",
      "metadata": {
        "id": "B8zcWAOKXgAD"
      },
      "source": [
        "glove = dict()\n",
        "f = open('/content/drive/MyDrive/Colab Notebooks/word-embeddings/glove/glove.txt')\n",
        "for line in f:\n",
        "    values = line.split()\n",
        "    word = values[0]\n",
        "    vector = np.asarray(values[1:], dtype='float32')\n",
        "    glove[word] = vector\n",
        "f.close()"
      ],
      "execution_count": null,
      "outputs": []
    },
    {
      "cell_type": "code",
      "metadata": {
        "id": "jOPEYqG2v4m8"
      },
      "source": [
        "max_len = 1706 \n",
        "\n",
        "X_train = pad_sequences(X_train, maxlen=max_len)\n",
        "X_test = pad_sequences(X_test, maxlen=max_len)"
      ],
      "execution_count": null,
      "outputs": []
    },
    {
      "cell_type": "code",
      "metadata": {
        "id": "SbLrdDkSZaUR"
      },
      "source": [
        "embedding_matrix = np.zeros((1706 , 300)) #300차원의 임베딩 매트릭스 생성\n",
        "\n",
        "for index, word in enumerate(tokenizer): #vocabulary에 있는 토큰들을 하나씩 넘겨줍니다.\n",
        "    if word in glove: #넘겨 받은 토큰이 word2vec에 존재하면(이미 훈련이 된 토큰이라는 뜻)\n",
        "        embedding_vector = glove[word] #해당 토큰에 해당하는 vector를 불러오고\n",
        "        embedding_mxtrix[i] = embedding_vector #해당 위치의 embedding_mxtrix에 저장합니다.\n",
        "    else:\n",
        "        print(\"glove 없는 단어입니다.\")\n",
        "        break"
      ],
      "execution_count": null,
      "outputs": []
    },
    {
      "cell_type": "code",
      "metadata": {
        "id": "ZzVKDY1gwxk5"
      },
      "source": [
        "from keras.callbacks import ReduceLROnPlateau\n",
        "learning_rate_reduction = ReduceLROnPlateau(monitor='val_loss', patience = 2, verbose=1,factor=0.5, min_lr=0.00001)"
      ],
      "execution_count": null,
      "outputs": []
    },
    {
      "cell_type": "code",
      "metadata": {
        "colab": {
          "base_uri": "https://localhost:8080/"
        },
        "id": "VQPw-Oi6v9LS",
        "outputId": "af2ee406-12e2-4a30-9649-57297cd5b20b"
      },
      "source": [
        "max_words = 35000\n",
        "model = Sequential()\n",
        "model.add(Embedding(max_words, 100))\n",
        "model.add(LSTM(units=128 , return_sequences = True , recurrent_dropout = 0.25 , dropout = 0.25))\n",
        "model.add(LSTM(units=64 , recurrent_dropout = 0.1 , dropout = 0.1))\n",
        "model.add(Dense(units = 32 , activation = 'relu'))\n",
        "model.add(Dense(2, activation='sigmoid'))\n",
        "model.summary()"
      ],
      "execution_count": null,
      "outputs": [
        {
          "output_type": "stream",
          "text": [
            "WARNING:tensorflow:Layer lstm_4 will not use cuDNN kernel since it doesn't meet the cuDNN kernel criteria. It will use generic GPU kernel as fallback when running on GPU\n",
            "WARNING:tensorflow:Layer lstm_5 will not use cuDNN kernel since it doesn't meet the cuDNN kernel criteria. It will use generic GPU kernel as fallback when running on GPU\n",
            "Model: \"sequential_2\"\n",
            "_________________________________________________________________\n",
            "Layer (type)                 Output Shape              Param #   \n",
            "=================================================================\n",
            "embedding_2 (Embedding)      (None, None, 100)         3500000   \n",
            "_________________________________________________________________\n",
            "lstm_4 (LSTM)                (None, None, 128)         117248    \n",
            "_________________________________________________________________\n",
            "lstm_5 (LSTM)                (None, 64)                49408     \n",
            "_________________________________________________________________\n",
            "dense_4 (Dense)              (None, 32)                2080      \n",
            "_________________________________________________________________\n",
            "dense_5 (Dense)              (None, 2)                 66        \n",
            "=================================================================\n",
            "Total params: 3,668,802\n",
            "Trainable params: 3,668,802\n",
            "Non-trainable params: 0\n",
            "_________________________________________________________________\n"
          ],
          "name": "stdout"
        }
      ]
    },
    {
      "cell_type": "code",
      "metadata": {
        "id": "aVfXUnjPw0L2"
      },
      "source": [
        "batch_size = 256\n",
        "epochs = 2\n",
        "embed_size = 100\n",
        "model.compile(optimizer='adam', loss='binary_crossentropy', metrics=['accuracy'])"
      ],
      "execution_count": null,
      "outputs": []
    },
    {
      "cell_type": "code",
      "metadata": {
        "colab": {
          "base_uri": "https://localhost:8080/"
        },
        "id": "hS0YVfkuy8Ut",
        "outputId": "db02e202-2026-4d6e-c2de-dfd128299143"
      },
      "source": [
        "from tensorflow.python.keras.models import load_model\n",
        "model = load_model('/content/drive/MyDrive/Colab Notebooks/Face_News/News_4Layer.h5')"
      ],
      "execution_count": null,
      "outputs": [
        {
          "output_type": "stream",
          "text": [
            "WARNING:tensorflow:Layer lstm_2 will not use cuDNN kernel since it doesn't meet the cuDNN kernel criteria. It will use generic GPU kernel as fallback when running on GPU\n",
            "WARNING:tensorflow:Layer lstm_3 will not use cuDNN kernel since it doesn't meet the cuDNN kernel criteria. It will use generic GPU kernel as fallback when running on GPU\n"
          ],
          "name": "stdout"
        }
      ]
    },
    {
      "cell_type": "code",
      "metadata": {
        "colab": {
          "base_uri": "https://localhost:8080/"
        },
        "id": "wsoeGMpbwSbw",
        "outputId": "bbb9c599-50a2-4868-fc61-930761e201e8"
      },
      "source": [
        "history = model.fit(X_train, y_train, batch_size = batch_size , validation_split=0.1 , epochs = 4, callbacks = [learning_rate_reduction])"
      ],
      "execution_count": null,
      "outputs": [
        {
          "output_type": "stream",
          "text": [
            "Epoch 1/4\n",
            "418/418 [==============================] - 5340s 13s/step - loss: 0.1294 - accuracy: 0.9471 - val_loss: 0.0778 - val_accuracy: 0.9636\n",
            "Epoch 2/4\n",
            "418/418 [==============================] - 5350s 13s/step - loss: 0.0289 - accuracy: 0.9907 - val_loss: 0.0505 - val_accuracy: 0.9805\n",
            "Epoch 3/4\n",
            "418/418 [==============================] - 5343s 13s/step - loss: 0.0152 - accuracy: 0.9953 - val_loss: 0.0730 - val_accuracy: 0.9791\n",
            "Epoch 4/4\n",
            "418/418 [==============================] - ETA: 0s - loss: 0.0091 - accuracy: 0.9972 \n",
            "Epoch 00004: ReduceLROnPlateau reducing learning rate to 0.0005000000237487257.\n",
            "418/418 [==============================] - 5447s 13s/step - loss: 0.0091 - accuracy: 0.9972 - val_loss: 0.1078 - val_accuracy: 0.9734\n"
          ],
          "name": "stdout"
        }
      ]
    },
    {
      "cell_type": "code",
      "metadata": {
        "id": "ecKy6YRlx4w9"
      },
      "source": [
        "from keras.models import load_model\n",
        "model.save('./drive/MyDrive/News_4Layer2.h5')"
      ],
      "execution_count": null,
      "outputs": []
    },
    {
      "cell_type": "code",
      "metadata": {
        "colab": {
          "base_uri": "https://localhost:8080/",
          "height": 279
        },
        "id": "WEwdZXHTxU1l",
        "outputId": "42bb1c33-dc0b-429a-e981-dcb4afd1ba18"
      },
      "source": [
        "fig, loss_ax = plt.subplots()\n",
        "acc_ax = loss_ax.twinx()\n",
        "\n",
        "loss_ax.plot(history.history['loss'], 'y', label='train loss')\n",
        "loss_ax.plot(history.history['val_loss'], 'r', label='val loss')\n",
        "loss_ax.set_xlabel('epoch')\n",
        "loss_ax.set_ylabel('loss')\n",
        "loss_ax.legend(loc='upper left')\n",
        "\n",
        "acc_ax.plot(history.history['accuracy'], 'b', label='train acc')\n",
        "acc_ax.plot(history.history['val_accuracy'], 'g', label='val acc')\n",
        "acc_ax.set_ylabel('accuracy')\n",
        "acc_ax.legend(loc='upper left')\n",
        "\n",
        "plt.show()"
      ],
      "execution_count": null,
      "outputs": [
        {
          "output_type": "display_data",
          "data": {
            "image/png": "[encoded data removed]",
            "text/plain": [
              "<Figure size 432x288 with 2 Axes>"
            ]
          },
          "metadata": {
            "tags": [],
            "needs_background": "light"
          }
        }
      ]
    },
    {
      "cell_type": "code",
      "metadata": {
        "colab": {
          "base_uri": "https://localhost:8080/"
        },
        "id": "LQcEUgzadA3r",
        "outputId": "8e856b01-5ff0-4868-ce9a-5fc3be21fc9f"
      },
      "source": [
        "ls"
      ],
      "execution_count": null,
      "outputs": [
        {
          "output_type": "stream",
          "text": [
            "\u001b[0m\u001b[01;34mdrive\u001b[0m/  \u001b[01;34msample_data\u001b[0m/\n"
          ],
          "name": "stdout"
        }
      ]
    },
    {
      "cell_type": "code",
      "metadata": {
        "id": "Qa_vxqXLdG5P"
      },
      "source": [
        "mypredict = model.predict(X_test)"
      ],
      "execution_count": null,
      "outputs": []
    },
    {
      "cell_type": "code",
      "metadata": {
        "colab": {
          "base_uri": "https://localhost:8080/",
          "height": 405
        },
        "id": "1PI9zsOEctmR",
        "outputId": "176e8fa1-d908-4d32-cf75-e4bdded3ccac"
      },
      "source": [
        "submission_ids = test['id']\n",
        "my_result = []\n",
        "\n",
        "for i in range(len(mypredict)):\n",
        "  my_result.append(int(mypredict[i][1]>=mypredict[i][0]))\n",
        "\n",
        "sub_dict = {\"id\":submission_ids, \"info\":my_result}\n",
        "submission_df = pd.DataFrame(sub_dict)\n",
        "submission_df.to_csv(\"./drive/MyDrive/news3.csv\", index=False, encoding='utf-8')\n",
        "pd.read_csv(\"./drive/MyDrive/news3.csv\")"
      ],
      "execution_count": null,
      "outputs": [
        {
          "output_type": "execute_result",
          "data": {
            "text/html": [
              "<div>\n",
              "<style scoped>\n",
              "    .dataframe tbody tr th:only-of-type {\n",
              "        vertical-align: middle;\n",
              "    }\n",
              "\n",
              "    .dataframe tbody tr th {\n",
              "        vertical-align: top;\n",
              "    }\n",
              "\n",
              "    .dataframe thead th {\n",
              "        text-align: right;\n",
              "    }\n",
              "</style>\n",
              "<table border=\"1\" class=\"dataframe\">\n",
              "  <thead>\n",
              "    <tr style=\"text-align: right;\">\n",
              "      <th></th>\n",
              "      <th>id</th>\n",
              "      <th>info</th>\n",
              "    </tr>\n",
              "  </thead>\n",
              "  <tbody>\n",
              "    <tr>\n",
              "      <th>0</th>\n",
              "      <td>NEWS00237_1</td>\n",
              "      <td>1</td>\n",
              "    </tr>\n",
              "    <tr>\n",
              "      <th>1</th>\n",
              "      <td>NEWS00237_2</td>\n",
              "      <td>0</td>\n",
              "    </tr>\n",
              "    <tr>\n",
              "      <th>2</th>\n",
              "      <td>NEWS00237_3</td>\n",
              "      <td>0</td>\n",
              "    </tr>\n",
              "    <tr>\n",
              "      <th>3</th>\n",
              "      <td>NEWS00237_4</td>\n",
              "      <td>0</td>\n",
              "    </tr>\n",
              "    <tr>\n",
              "      <th>4</th>\n",
              "      <td>NEWS00237_5</td>\n",
              "      <td>0</td>\n",
              "    </tr>\n",
              "    <tr>\n",
              "      <th>...</th>\n",
              "      <td>...</td>\n",
              "      <td>...</td>\n",
              "    </tr>\n",
              "    <tr>\n",
              "      <th>142560</th>\n",
              "      <td>NEWS09482_72</td>\n",
              "      <td>1</td>\n",
              "    </tr>\n",
              "    <tr>\n",
              "      <th>142561</th>\n",
              "      <td>NEWS09482_73</td>\n",
              "      <td>1</td>\n",
              "    </tr>\n",
              "    <tr>\n",
              "      <th>142562</th>\n",
              "      <td>NEWS09482_74</td>\n",
              "      <td>1</td>\n",
              "    </tr>\n",
              "    <tr>\n",
              "      <th>142563</th>\n",
              "      <td>NEWS09482_75</td>\n",
              "      <td>1</td>\n",
              "    </tr>\n",
              "    <tr>\n",
              "      <th>142564</th>\n",
              "      <td>NEWS09482_76</td>\n",
              "      <td>1</td>\n",
              "    </tr>\n",
              "  </tbody>\n",
              "</table>\n",
              "<p>142565 rows × 2 columns</p>\n",
              "</div>"
            ],
            "text/plain": [
              "                  id  info\n",
              "0        NEWS00237_1     1\n",
              "1        NEWS00237_2     0\n",
              "2        NEWS00237_3     0\n",
              "3        NEWS00237_4     0\n",
              "4        NEWS00237_5     0\n",
              "...              ...   ...\n",
              "142560  NEWS09482_72     1\n",
              "142561  NEWS09482_73     1\n",
              "142562  NEWS09482_74     1\n",
              "142563  NEWS09482_75     1\n",
              "142564  NEWS09482_76     1\n",
              "\n",
              "[142565 rows x 2 columns]"
            ]
          },
          "metadata": {
            "tags": []
          },
          "execution_count": 40
        }
      ]
    },
    {
      "cell_type": "code",
      "metadata": {
        "id": "Yu5o1yredDo_"
      },
      "source": [
        "from keras.models import load_model\n",
        "model.save('News_4Layer.h5')"
      ],
      "execution_count": null,
      "outputs": []
    },
    {
      "cell_type": "code",
      "metadata": {
        "id": "c8VpOozDuJde"
      },
      "source": [
        ""
      ],
      "execution_count": null,
      "outputs": []
    }
  ]
}