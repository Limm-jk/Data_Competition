{
  "nbformat": 4,
  "nbformat_minor": 0,
  "metadata": {
    "colab": {
      "name": "Find_News.ipynb",
      "provenance": [],
      "collapsed_sections": [],
      "mount_file_id": "1NbexOq3RXBJS-BNXiCWVujsgzugWJn5s",
      "authorship_tag": "ABX9TyNqPDUgiIK9bqT4E4ondKY2",
      "include_colab_link": true
    },
    "kernelspec": {
      "name": "python3",
      "display_name": "Python 3"
    }
  },
  "cells": [
    {
      "cell_type": "markdown",
      "metadata": {
        "id": "view-in-github",
        "colab_type": "text"
      },
      "source": [
        "<a href=\"https://colab.research.google.com/github/Limm-jk/Data_Competition/blob/main/Find_News.ipynb\" target=\"_parent\"><img src=\"https://colab.research.google.com/assets/colab-badge.svg\" alt=\"Open In Colab\"/></a>"
      ]
    },
    {
      "cell_type": "code",
      "metadata": {
        "id": "-BAlCUZQ0AP1"
      },
      "source": [
        "import pandas as pd # 데이터 전처리\n",
        "import numpy as np # 데이터 전처리\n",
        "import random #데이터 전처리\n",
        "from pandas import DataFrame #데이터 전처리\n",
        "from collections import Counter #데이터 전처리\n",
        "\n",
        "from tqdm import tqdm #시간 측정용\n",
        "\n",
        "from sklearn.feature_extraction.text import CountVectorizer # model setting\n",
        "from sklearn.model_selection import train_test_split  # model setting\n",
        "\n",
        "from sklearn.naive_bayes import MultinomialNB  # model 관련\n",
        "from sklearn.metrics import roc_auc_score  # model 성능 확인"
      ],
      "execution_count": 1,
      "outputs": []
    },
    {
      "cell_type": "code",
      "metadata": {
        "colab": {
          "base_uri": "https://localhost:8080/",
          "height": 107
        },
        "id": "fS_LtW2I0lNd",
        "outputId": "9fe5047c-719b-4e8f-dce0-03a0d1509960"
      },
      "source": [
        "train = pd.read_csv(\"/content/drive/MyDrive/Colab Notebooks/Face_News/news_train.csv\")\n",
        "\n",
        "train.head(2)"
      ],
      "execution_count": 2,
      "outputs": [
        {
          "output_type": "execute_result",
          "data": {
            "text/html": [
              "<div>\n",
              "<style scoped>\n",
              "    .dataframe tbody tr th:only-of-type {\n",
              "        vertical-align: middle;\n",
              "    }\n",
              "\n",
              "    .dataframe tbody tr th {\n",
              "        vertical-align: top;\n",
              "    }\n",
              "\n",
              "    .dataframe thead th {\n",
              "        text-align: right;\n",
              "    }\n",
              "</style>\n",
              "<table border=\"1\" class=\"dataframe\">\n",
              "  <thead>\n",
              "    <tr style=\"text-align: right;\">\n",
              "      <th></th>\n",
              "      <th>n_id</th>\n",
              "      <th>date</th>\n",
              "      <th>title</th>\n",
              "      <th>content</th>\n",
              "      <th>ord</th>\n",
              "      <th>info</th>\n",
              "    </tr>\n",
              "  </thead>\n",
              "  <tbody>\n",
              "    <tr>\n",
              "      <th>0</th>\n",
              "      <td>NEWS02580</td>\n",
              "      <td>20200605</td>\n",
              "      <td>[마감]코스닥 기관 678억 순매도</td>\n",
              "      <td>[이데일리 MARKETPOINT]15:32 현재 코스닥 기관 678억 순매도</td>\n",
              "      <td>1</td>\n",
              "      <td>0</td>\n",
              "    </tr>\n",
              "    <tr>\n",
              "      <th>1</th>\n",
              "      <td>NEWS02580</td>\n",
              "      <td>20200605</td>\n",
              "      <td>[마감]코스닥 기관 678억 순매도</td>\n",
              "      <td>\"실적기반\" 저가에 매집해야 할 8월 급등유망주 TOP 5 전격공개</td>\n",
              "      <td>2</td>\n",
              "      <td>1</td>\n",
              "    </tr>\n",
              "  </tbody>\n",
              "</table>\n",
              "</div>"
            ],
            "text/plain": [
              "        n_id      date  ... ord info\n",
              "0  NEWS02580  20200605  ...   1    0\n",
              "1  NEWS02580  20200605  ...   2    1\n",
              "\n",
              "[2 rows x 6 columns]"
            ]
          },
          "metadata": {
            "tags": []
          },
          "execution_count": 2
        }
      ]
    },
    {
      "cell_type": "code",
      "metadata": {
        "colab": {
          "base_uri": "https://localhost:8080/",
          "height": 107
        },
        "id": "3MBHvlKG0smD",
        "outputId": "4340f428-d078-4fc1-aba8-c0ca7dc835e0"
      },
      "source": [
        "test = pd.read_csv(\"/content/drive/MyDrive/Colab Notebooks/Face_News/news_test.csv\")\n",
        "\n",
        "test.head(2)"
      ],
      "execution_count": 4,
      "outputs": [
        {
          "output_type": "execute_result",
          "data": {
            "text/html": [
              "<div>\n",
              "<style scoped>\n",
              "    .dataframe tbody tr th:only-of-type {\n",
              "        vertical-align: middle;\n",
              "    }\n",
              "\n",
              "    .dataframe tbody tr th {\n",
              "        vertical-align: top;\n",
              "    }\n",
              "\n",
              "    .dataframe thead th {\n",
              "        text-align: right;\n",
              "    }\n",
              "</style>\n",
              "<table border=\"1\" class=\"dataframe\">\n",
              "  <thead>\n",
              "    <tr style=\"text-align: right;\">\n",
              "      <th></th>\n",
              "      <th>n_id</th>\n",
              "      <th>date</th>\n",
              "      <th>title</th>\n",
              "      <th>content</th>\n",
              "      <th>ord</th>\n",
              "      <th>id</th>\n",
              "    </tr>\n",
              "  </thead>\n",
              "  <tbody>\n",
              "    <tr>\n",
              "      <th>0</th>\n",
              "      <td>NEWS00237</td>\n",
              "      <td>20200118</td>\n",
              "      <td>[주목!e스몰캡]코세스, 마이크로LED 시장 개화 최대수혜 기대</td>\n",
              "      <td>마이크로 LED TV 장비 양산 돌입- 전방업체 투자 확대로 본업도 호조연일 '신고가'</td>\n",
              "      <td>1</td>\n",
              "      <td>NEWS00237_1</td>\n",
              "    </tr>\n",
              "    <tr>\n",
              "      <th>1</th>\n",
              "      <td>NEWS00237</td>\n",
              "      <td>20200118</td>\n",
              "      <td>[주목!e스몰캡]코세스, 마이크로LED 시장 개화 최대수혜 기대</td>\n",
              "      <td>[이데일리 김대웅 기자] 반도체 장비 업체 코세스(089890)의 기술력이 마이크로...</td>\n",
              "      <td>2</td>\n",
              "      <td>NEWS00237_2</td>\n",
              "    </tr>\n",
              "  </tbody>\n",
              "</table>\n",
              "</div>"
            ],
            "text/plain": [
              "        n_id      date  ... ord           id\n",
              "0  NEWS00237  20200118  ...   1  NEWS00237_1\n",
              "1  NEWS00237  20200118  ...   2  NEWS00237_2\n",
              "\n",
              "[2 rows x 6 columns]"
            ]
          },
          "metadata": {
            "tags": []
          },
          "execution_count": 4
        }
      ]
    },
    {
      "cell_type": "code",
      "metadata": {
        "colab": {
          "base_uri": "https://localhost:8080/",
          "height": 107
        },
        "id": "nHjIUMMe0xVk",
        "outputId": "45cf9010-7df3-47f7-afb9-a2a2161ebd4f"
      },
      "source": [
        "submission=pd.read_csv(\"/content/drive/MyDrive/Colab Notebooks/Face_News/sample_submission.csv\")\n",
        "\n",
        "submission.head(2)"
      ],
      "execution_count": 5,
      "outputs": [
        {
          "output_type": "execute_result",
          "data": {
            "text/html": [
              "<div>\n",
              "<style scoped>\n",
              "    .dataframe tbody tr th:only-of-type {\n",
              "        vertical-align: middle;\n",
              "    }\n",
              "\n",
              "    .dataframe tbody tr th {\n",
              "        vertical-align: top;\n",
              "    }\n",
              "\n",
              "    .dataframe thead th {\n",
              "        text-align: right;\n",
              "    }\n",
              "</style>\n",
              "<table border=\"1\" class=\"dataframe\">\n",
              "  <thead>\n",
              "    <tr style=\"text-align: right;\">\n",
              "      <th></th>\n",
              "      <th>id</th>\n",
              "      <th>info</th>\n",
              "    </tr>\n",
              "  </thead>\n",
              "  <tbody>\n",
              "    <tr>\n",
              "      <th>0</th>\n",
              "      <td>NEWS00237_1</td>\n",
              "      <td>0</td>\n",
              "    </tr>\n",
              "    <tr>\n",
              "      <th>1</th>\n",
              "      <td>NEWS00237_2</td>\n",
              "      <td>0</td>\n",
              "    </tr>\n",
              "  </tbody>\n",
              "</table>\n",
              "</div>"
            ],
            "text/plain": [
              "            id  info\n",
              "0  NEWS00237_1     0\n",
              "1  NEWS00237_2     0"
            ]
          },
          "metadata": {
            "tags": []
          },
          "execution_count": 5
        }
      ]
    },
    {
      "cell_type": "code",
      "metadata": {
        "colab": {
          "base_uri": "https://localhost:8080/"
        },
        "id": "KJlPpVXP06DU",
        "outputId": "06b3e9ea-4cc1-42e0-f49c-a51733148a22"
      },
      "source": [
        "train.shape, test.shape, submission.shape"
      ],
      "execution_count": 6,
      "outputs": [
        {
          "output_type": "execute_result",
          "data": {
            "text/plain": [
              "((118745, 6), (142565, 6), (142565, 2))"
            ]
          },
          "metadata": {
            "tags": []
          },
          "execution_count": 6
        }
      ]
    },
    {
      "cell_type": "code",
      "metadata": {
        "colab": {
          "base_uri": "https://localhost:8080/"
        },
        "id": "6a253b7n1Xhr",
        "outputId": "2857e333-0b92-4fb4-ebff-7a7487e92850"
      },
      "source": [
        "Counter(train['info'])"
      ],
      "execution_count": 8,
      "outputs": [
        {
          "output_type": "execute_result",
          "data": {
            "text/plain": [
              "Counter({0: 71813, 1: 46932})"
            ]
          },
          "metadata": {
            "tags": []
          },
          "execution_count": 8
        }
      ]
    },
    {
      "cell_type": "markdown",
      "metadata": {
        "id": "bANhiTHK7JJf"
      },
      "source": [
        "어라? 오답이 조금 더 많네..?\n",
        "어떻게할까??\n",
        "\n",
        "편향이 걱정되니 좀 잘라서 써볼까..?\n",
        "\n",
        "이 아래는 library 설치"
      ]
    },
    {
      "cell_type": "code",
      "metadata": {
        "colab": {
          "base_uri": "https://localhost:8080/"
        },
        "id": "PzB0aO_Z1qT0",
        "outputId": "7b3da854-cc8e-406a-9246-ffc3d601d914"
      },
      "source": [
        "! git clone https://github.com/SOMJANG/Mecab-ko-for-Google-Colab.git"
      ],
      "execution_count": 10,
      "outputs": [
        {
          "output_type": "stream",
          "text": [
            "Cloning into 'Mecab-ko-for-Google-Colab'...\n",
            "remote: Enumerating objects: 72, done.\u001b[K\n",
            "remote: Counting objects: 100% (72/72), done.\u001b[K\n",
            "remote: Compressing objects: 100% (67/67), done.\u001b[K\n",
            "remote: Total 72 (delta 31), reused 20 (delta 5), pack-reused 0\u001b[K\n",
            "Unpacking objects: 100% (72/72), done.\n"
          ],
          "name": "stdout"
        }
      ]
    },
    {
      "cell_type": "code",
      "metadata": {
        "colab": {
          "base_uri": "https://localhost:8080/"
        },
        "id": "3mu7N7ns20Cf",
        "outputId": "8a424558-e40d-4522-ce9e-f7d8a5d06f27"
      },
      "source": [
        "cd Mecab-ko-for-Google-Colab/"
      ],
      "execution_count": 14,
      "outputs": [
        {
          "output_type": "stream",
          "text": [
            "/content/Mecab-ko-for-Google-Colab\n"
          ],
          "name": "stdout"
        }
      ]
    },
    {
      "cell_type": "code",
      "metadata": {
        "colab": {
          "base_uri": "https://localhost:8080/"
        },
        "id": "z54B10AQ20_x",
        "outputId": "febbe703-c012-4d00-c13d-09abb9704776"
      },
      "source": [
        "ls"
      ],
      "execution_count": 15,
      "outputs": [
        {
          "output_type": "stream",
          "text": [
            "\u001b[0m\u001b[01;34mimages\u001b[0m/  install_mecab-ko_on_colab190912.sh  LICENSE  README.md\n"
          ],
          "name": "stdout"
        }
      ]
    },
    {
      "cell_type": "code",
      "metadata": {
        "id": "uD7dhSxZ27wG"
      },
      "source": [
        "! bash install_mecab-ko_on_colab190912.sh"
      ],
      "execution_count": null,
      "outputs": []
    },
    {
      "cell_type": "markdown",
      "metadata": {
        "id": "0tohG6O77apH"
      },
      "source": [
        "#### 라이브러리 설치 완료\n",
        "\n",
        "## 제목 데이터를 합치자\n",
        "titie과 content를 하나로 -> text로\n",
        "\n",
        "## 이상한 특수문자 제거!\n",
        "temp = re.sub('[-=+,#/\\?:^$.@*\\\"※~>`\\'…》]', '', text)"
      ]
    },
    {
      "cell_type": "code",
      "metadata": {
        "id": "v0bLN98_5-Gh"
      },
      "source": [
        "train['text'] = train['title'] + \" \" + train['content']\n",
        "test['text'] = test['title'] + \" \" + test['content']"
      ],
      "execution_count": 79,
      "outputs": []
    },
    {
      "cell_type": "code",
      "metadata": {
        "id": "CdUnqUSg4ByT"
      },
      "source": [
        "import re\n",
        "\n",
        "train_clear_text = list(train['text'])\n",
        "\n",
        "train_clear_text2 = []\n",
        "\n",
        "for text in train_clear_text:\n",
        "  temp = re.sub('[-=+,#/\\?:^$.@*\\\"※~>`\\'…》]', '', text)\n",
        "  train_clear_text2.append(temp)\n",
        "train['clear_text'] = train_clear_text2"
      ],
      "execution_count": 20,
      "outputs": []
    },
    {
      "cell_type": "code",
      "metadata": {
        "id": "G_5jgikv-xCr"
      },
      "source": [
        "import re\n",
        "\n",
        "train_clear_text = list(test['text'])\n",
        "\n",
        "train_clear_text2 = []\n",
        "\n",
        "for text in train_clear_text:\n",
        "  temp = re.sub('[-=+,#/\\?:^$.@*\\\"※~>`\\'…》]', '', text)\n",
        "  train_clear_text2.append(temp)\n",
        "test['clear_text'] = train_clear_text2"
      ],
      "execution_count": 33,
      "outputs": []
    },
    {
      "cell_type": "code",
      "metadata": {
        "colab": {
          "base_uri": "https://localhost:8080/"
        },
        "id": "d-ok002t6UcZ",
        "outputId": "1de946c8-e1f3-46ac-bd67-a610f00514a2"
      },
      "source": [
        "train.shape, test.shape"
      ],
      "execution_count": 21,
      "outputs": [
        {
          "output_type": "execute_result",
          "data": {
            "text/plain": [
              "((118745, 8), (142565, 7))"
            ]
          },
          "metadata": {
            "tags": []
          },
          "execution_count": 21
        }
      ]
    },
    {
      "cell_type": "markdown",
      "metadata": {
        "id": "IFtkMh1A7xWP"
      },
      "source": [
        "## 데이터 슬라이싱\n",
        "0 1 차이때문에 편향이 고민되므로 잘라버리자!  \n",
        "46932로 맞추는거야\n",
        "\n",
        "하는 김에 문자의 길이도 만들어두자"
      ]
    },
    {
      "cell_type": "code",
      "metadata": {
        "colab": {
          "base_uri": "https://localhost:8080/"
        },
        "id": "rFJs0tho7wwK",
        "outputId": "4b59af5c-2756-4c99-f51d-dce59a06d6b3"
      },
      "source": [
        "clear_text = list(train['clear_text'])\n",
        "\n",
        "text_lens = []\n",
        "\n",
        "for i in tqdm(range(len(clear_text))):\n",
        "  text_lens.append(len(clear_text[i]))\n",
        "\n",
        "# text의 길이 데이터 len에 저장\n",
        "train['len'] = text_lens"
      ],
      "execution_count": 23,
      "outputs": [
        {
          "output_type": "stream",
          "text": [
            "100%|██████████| 118745/118745 [00:00<00:00, 1497785.52it/s]\n"
          ],
          "name": "stderr"
        }
      ]
    },
    {
      "cell_type": "code",
      "metadata": {
        "id": "Y89oF0-M8Qov"
      },
      "source": [
        "True_News = train[train['info'] == 0]\n",
        "# 길이를 봐서 쓸만한 애들로 골라오자\n",
        "True_News = True_News.sort_values(by=['len'], axis=0, ascending=False)\n",
        "True_News = True_News.iloc[0:46932]"
      ],
      "execution_count": 25,
      "outputs": []
    },
    {
      "cell_type": "code",
      "metadata": {
        "id": "Nu0XPpWd8tN1"
      },
      "source": [
        "Fake_News = train[train['info'] == 1]"
      ],
      "execution_count": 26,
      "outputs": []
    },
    {
      "cell_type": "code",
      "metadata": {
        "colab": {
          "base_uri": "https://localhost:8080/"
        },
        "id": "HNdj5afG8zMB",
        "outputId": "a310bb1e-7eec-438a-bfc4-445e2a3d4f7e"
      },
      "source": [
        "True_News.shape, Fake_News.shape"
      ],
      "execution_count": 27,
      "outputs": [
        {
          "output_type": "execute_result",
          "data": {
            "text/plain": [
              "((46932, 9), (46932, 9))"
            ]
          },
          "metadata": {
            "tags": []
          },
          "execution_count": 27
        }
      ]
    },
    {
      "cell_type": "code",
      "metadata": {
        "colab": {
          "base_uri": "https://localhost:8080/",
          "height": 517
        },
        "id": "dfkc0_Jv9AYa",
        "outputId": "825618a8-11e6-47af-b961-f4c2874c131d"
      },
      "source": [
        "# 깔끔하게 1:1이 되었다면 다시 합쳐보자\n",
        "new_train = pd.concat([True_News, Fake_News])\n",
        "# 깔끔하게 볼겸 섞을 겸 ㅎㅎ\n",
        "new_train = new_train.sort_values(by=['ord'], axis=0, ascending=True)\n",
        "\n",
        "del new_train['len']\n",
        "\n",
        "new_train.head(10)"
      ],
      "execution_count": 31,
      "outputs": [
        {
          "output_type": "execute_result",
          "data": {
            "text/html": [
              "<div>\n",
              "<style scoped>\n",
              "    .dataframe tbody tr th:only-of-type {\n",
              "        vertical-align: middle;\n",
              "    }\n",
              "\n",
              "    .dataframe tbody tr th {\n",
              "        vertical-align: top;\n",
              "    }\n",
              "\n",
              "    .dataframe thead th {\n",
              "        text-align: right;\n",
              "    }\n",
              "</style>\n",
              "<table border=\"1\" class=\"dataframe\">\n",
              "  <thead>\n",
              "    <tr style=\"text-align: right;\">\n",
              "      <th></th>\n",
              "      <th>n_id</th>\n",
              "      <th>date</th>\n",
              "      <th>title</th>\n",
              "      <th>content</th>\n",
              "      <th>ord</th>\n",
              "      <th>info</th>\n",
              "      <th>clear_text</th>\n",
              "      <th>text</th>\n",
              "    </tr>\n",
              "  </thead>\n",
              "  <tbody>\n",
              "    <tr>\n",
              "      <th>37707</th>\n",
              "      <td>NEWS08612</td>\n",
              "      <td>20200304</td>\n",
              "      <td>지난달(02월) 아파트 월세 실거래가</td>\n",
              "      <td>지난 02월 아파트 월세 실거래가는 다음과 같다.서울지역의 아파트 월세가를 살펴보면...</td>\n",
              "      <td>1</td>\n",
              "      <td>0</td>\n",
              "      <td>지난달(02월) 아파트 월세 실거래가 지난 02월 아파트 월세 실거래가는 다음과 같...</td>\n",
              "      <td>지난달(02월) 아파트 월세 실거래가 지난 02월 아파트 월세 실거래가는 다음과 같...</td>\n",
              "    </tr>\n",
              "    <tr>\n",
              "      <th>49163</th>\n",
              "      <td>NEWS00539</td>\n",
              "      <td>20200618</td>\n",
              "      <td>디폴트 아랑곳? 아르헨 회사채 날개 달았다</td>\n",
              "      <td>[뉴욕=뉴스핌] 황숙혜 특파원 =아르헨티나가 9번째 디폴트 사태를 맞은 가운데 회사...</td>\n",
              "      <td>1</td>\n",
              "      <td>0</td>\n",
              "      <td>디폴트 아랑곳 아르헨 회사채 날개 달았다 [뉴욕뉴스핌] 황숙혜 특파원 아르헨티나가 ...</td>\n",
              "      <td>디폴트 아랑곳? 아르헨 회사채 날개 달았다 [뉴욕=뉴스핌] 황숙혜 특파원 =아르헨티...</td>\n",
              "    </tr>\n",
              "    <tr>\n",
              "      <th>112073</th>\n",
              "      <td>NEWS00060</td>\n",
              "      <td>20200616</td>\n",
              "      <td>SK케미칼우(28513K) 전일대비 13.7%</td>\n",
              "      <td>SK케미칼우는 16일 9시 6분 현재 전 거래일보다 13.7% 오른 83,000원에...</td>\n",
              "      <td>1</td>\n",
              "      <td>0</td>\n",
              "      <td>SK케미칼우(28513K) 전일대비 137% SK케미칼우는 16일 9시 6분 현재 ...</td>\n",
              "      <td>SK케미칼우(28513K) 전일대비 13.7% SK케미칼우는 16일 9시 6분 현재...</td>\n",
              "    </tr>\n",
              "    <tr>\n",
              "      <th>37588</th>\n",
              "      <td>NEWS09835</td>\n",
              "      <td>20200410</td>\n",
              "      <td>곧 6월인데…코로나 공지없는 MWC상하이, 여전히 참가 접수</td>\n",
              "      <td>[아시아경제 조슬기나 기자] 33년 역사상 처음으로 취소된 '모바일월드콩그레스(MW...</td>\n",
              "      <td>1</td>\n",
              "      <td>0</td>\n",
              "      <td>곧 6월인데코로나 공지없는 MWC상하이 여전히 참가 접수 [아시아경제 조슬기나 기자...</td>\n",
              "      <td>곧 6월인데…코로나 공지없는 MWC상하이, 여전히 참가 접수 [아시아경제 조슬기나 ...</td>\n",
              "    </tr>\n",
              "    <tr>\n",
              "      <th>37756</th>\n",
              "      <td>NEWS00719</td>\n",
              "      <td>20200308</td>\n",
              "      <td>[속보]천안서 50대 여성 코로나19 추가 확진…천안 91명째</td>\n",
              "      <td>中, 코로나 바이러스 확산.. 반사 이익 수혜주는.. (테마주 단타 공략 무료 체험)</td>\n",
              "      <td>1</td>\n",
              "      <td>1</td>\n",
              "      <td>[속보]천안서 50대 여성 코로나19 추가 확진천안 91명째 中 코로나 바이러스 확...</td>\n",
              "      <td>[속보]천안서 50대 여성 코로나19 추가 확진…천안 91명째 中, 코로나 바이러스...</td>\n",
              "    </tr>\n",
              "    <tr>\n",
              "      <th>8350</th>\n",
              "      <td>NEWS02404</td>\n",
              "      <td>20200107</td>\n",
              "      <td>20대 앞세워 판 흔드는 카뱅‥규제에 흔들리는 케뱅</td>\n",
              "      <td>카뱅, 20~30대 중심 시장 저변 넓히며 5대 시중은행 위협- 대주주 규제에 묶인...</td>\n",
              "      <td>1</td>\n",
              "      <td>0</td>\n",
              "      <td>20대 앞세워 판 흔드는 카뱅‥규제에 흔들리는 케뱅 카뱅 2030대 중심 시장 저변...</td>\n",
              "      <td>20대 앞세워 판 흔드는 카뱅‥규제에 흔들리는 케뱅 카뱅, 20~30대 중심 시장 ...</td>\n",
              "    </tr>\n",
              "    <tr>\n",
              "      <th>18610</th>\n",
              "      <td>NEWS06059</td>\n",
              "      <td>20200317</td>\n",
              "      <td>랩지노믹스, 美 FDA로부터 코로나 진단키트 긴급사용승인 신청 요청</td>\n",
              "      <td>제목 : 랩지노믹스, 美 FDA로부터 코로나 진단키트 긴급사용승인 신청 요청</td>\n",
              "      <td>1</td>\n",
              "      <td>0</td>\n",
              "      <td>랩지노믹스 美 FDA로부터 코로나 진단키트 긴급사용승인 신청 요청 제목  랩지노믹스...</td>\n",
              "      <td>랩지노믹스, 美 FDA로부터 코로나 진단키트 긴급사용승인 신청 요청 제목 : 랩지노...</td>\n",
              "    </tr>\n",
              "    <tr>\n",
              "      <th>11755</th>\n",
              "      <td>NEWS02322</td>\n",
              "      <td>20200608</td>\n",
              "      <td>KT, KB손해보험에 모바일 통지 서비스 도입</td>\n",
              "      <td>제목 : KT, KB손해보험에 모바일 통지 서비스 도입(지디넷코리아=박수형 기자)K...</td>\n",
              "      <td>1</td>\n",
              "      <td>0</td>\n",
              "      <td>KT KB손해보험에 모바일 통지 서비스 도입 제목  KT KB손해보험에 모바일 통지...</td>\n",
              "      <td>KT, KB손해보험에 모바일 통지 서비스 도입 제목 : KT, KB손해보험에 모바일...</td>\n",
              "    </tr>\n",
              "    <tr>\n",
              "      <th>37028</th>\n",
              "      <td>NEWS01125</td>\n",
              "      <td>20200421</td>\n",
              "      <td>수출입銀, 두산중공업 5억달러 외화채권 대출로 전환(상보)</td>\n",
              "      <td>[아시아경제 조강욱 기자] 수출입은행이 두산중공업의 5억달러 규모 외화채권을 대출로...</td>\n",
              "      <td>1</td>\n",
              "      <td>0</td>\n",
              "      <td>수출입銀 두산중공업 5억달러 외화채권 대출로 전환(상보) [아시아경제 조강욱 기자]...</td>\n",
              "      <td>수출입銀, 두산중공업 5억달러 외화채권 대출로 전환(상보) [아시아경제 조강욱 기자...</td>\n",
              "    </tr>\n",
              "    <tr>\n",
              "      <th>41404</th>\n",
              "      <td>NEWS08981</td>\n",
              "      <td>20200405</td>\n",
              "      <td>[신상 뜯어보기]야식 먹은 날, 호박즙 반쪽 크림으로 붓기 완벽 케어</td>\n",
              "      <td>[아시아경제 이선애 기자] 본격적으로 봄이 찾아와 사람들의 옷차림이 가벼워지는 것이...</td>\n",
              "      <td>1</td>\n",
              "      <td>0</td>\n",
              "      <td>[신상 뜯어보기]야식 먹은 날 호박즙 반쪽 크림으로 붓기 완벽 케어 [아시아경제 이...</td>\n",
              "      <td>[신상 뜯어보기]야식 먹은 날, 호박즙 반쪽 크림으로 붓기 완벽 케어 [아시아경제 ...</td>\n",
              "    </tr>\n",
              "  </tbody>\n",
              "</table>\n",
              "</div>"
            ],
            "text/plain": [
              "             n_id  ...                                               text\n",
              "37707   NEWS08612  ...  지난달(02월) 아파트 월세 실거래가 지난 02월 아파트 월세 실거래가는 다음과 같...\n",
              "49163   NEWS00539  ...  디폴트 아랑곳? 아르헨 회사채 날개 달았다 [뉴욕=뉴스핌] 황숙혜 특파원 =아르헨티...\n",
              "112073  NEWS00060  ...  SK케미칼우(28513K) 전일대비 13.7% SK케미칼우는 16일 9시 6분 현재...\n",
              "37588   NEWS09835  ...  곧 6월인데…코로나 공지없는 MWC상하이, 여전히 참가 접수 [아시아경제 조슬기나 ...\n",
              "37756   NEWS00719  ...  [속보]천안서 50대 여성 코로나19 추가 확진…천안 91명째 中, 코로나 바이러스...\n",
              "8350    NEWS02404  ...  20대 앞세워 판 흔드는 카뱅‥규제에 흔들리는 케뱅 카뱅, 20~30대 중심 시장 ...\n",
              "18610   NEWS06059  ...  랩지노믹스, 美 FDA로부터 코로나 진단키트 긴급사용승인 신청 요청 제목 : 랩지노...\n",
              "11755   NEWS02322  ...  KT, KB손해보험에 모바일 통지 서비스 도입 제목 : KT, KB손해보험에 모바일...\n",
              "37028   NEWS01125  ...  수출입銀, 두산중공업 5억달러 외화채권 대출로 전환(상보) [아시아경제 조강욱 기자...\n",
              "41404   NEWS08981  ...  [신상 뜯어보기]야식 먹은 날, 호박즙 반쪽 크림으로 붓기 완벽 케어 [아시아경제 ...\n",
              "\n",
              "[10 rows x 8 columns]"
            ]
          },
          "metadata": {
            "tags": []
          },
          "execution_count": 31
        }
      ]
    },
    {
      "cell_type": "markdown",
      "metadata": {
        "id": "kKYxvr7K9nJF"
      },
      "source": [
        "## 사용할 만한 테스트 셋이 만들어졌다."
      ]
    },
    {
      "cell_type": "code",
      "metadata": {
        "id": "UEEgJKdb3AT1"
      },
      "source": [
        "from konlpy.tag import Okt\n",
        "from konlpy.tag import Mecab\n",
        "okt = Okt()\n",
        "mecab = Mecab()"
      ],
      "execution_count": 28,
      "outputs": []
    },
    {
      "cell_type": "code",
      "metadata": {
        "id": "BueD3pZz-QH6"
      },
      "source": [
        "stopwords = ['의', '가', '이', '은', '들', '는', '좀', '잘', '걍', '과', '도', '를', '으로', '자', '에', '와', '한', '하다']"
      ],
      "execution_count": 35,
      "outputs": []
    },
    {
      "cell_type": "code",
      "metadata": {
        "colab": {
          "base_uri": "https://localhost:8080/"
        },
        "id": "7RcMhMmg-egD",
        "outputId": "bc89bca7-a07e-4c91-964f-d4f8fcddaf25"
      },
      "source": [
        "from tqdm import tqdm\n",
        "X_train = []\n",
        "\n",
        "text = list(new_train['clear_text'])\n",
        "\n",
        "for i in tqdm(range(len(text))):\n",
        "  temp_X = []\n",
        "  temp_X = okt.morphs(text[i], stem=True) # 토큰화\n",
        "  temp_X = [word for word in temp_X if not word in stopwords] # 불용어 제거\n",
        "  temp_X = [word for word in temp_X if len(word) > 1]\n",
        "  X_train.append(temp_X)"
      ],
      "execution_count": 36,
      "outputs": [
        {
          "output_type": "stream",
          "text": [
            "100%|██████████| 93864/93864 [08:53<00:00, 176.04it/s]\n"
          ],
          "name": "stderr"
        }
      ]
    },
    {
      "cell_type": "code",
      "metadata": {
        "colab": {
          "base_uri": "https://localhost:8080/"
        },
        "id": "_hOMSh5-_RGt",
        "outputId": "2c03e5a8-f886-423e-949d-21802d8bb6bd"
      },
      "source": [
        "from tqdm import tqdm\n",
        "X_test = []\n",
        "\n",
        "text = list(test['clear_text'])\n",
        "\n",
        "for i in tqdm(range(len(text))):\n",
        "  temp_X = []\n",
        "  temp_X = okt.morphs(text[i], stem=True) # 토큰화\n",
        "  temp_X = [word for word in temp_X if not word in stopwords] # 불용어 제거\n",
        "  temp_X = [word for word in temp_X if len(word) > 1]\n",
        "  X_test.append(temp_X)"
      ],
      "execution_count": 37,
      "outputs": [
        {
          "output_type": "stream",
          "text": [
            "100%|██████████| 142565/142565 [14:41<00:00, 161.65it/s]\n"
          ],
          "name": "stderr"
        }
      ]
    },
    {
      "cell_type": "code",
      "metadata": {
        "id": "H_Ro6_Bj3GlN"
      },
      "source": [
        "from keras.preprocessing.text import Tokenizer\n",
        "max_words = 35000\n",
        "tokenizer = Tokenizer(num_words = max_words)\n",
        "tokenizer.fit_on_texts(X_train)\n",
        "X_train = tokenizer.texts_to_sequences(X_train)\n",
        "X_test = tokenizer.texts_to_sequences(X_test)"
      ],
      "execution_count": 38,
      "outputs": []
    },
    {
      "cell_type": "code",
      "metadata": {
        "colab": {
          "base_uri": "https://localhost:8080/"
        },
        "id": "F2C9an8Q7ETY",
        "outputId": "9b80bb3e-d90d-4966-8786-225bfc91444a"
      },
      "source": [
        "print(X_train[:3])"
      ],
      "execution_count": 39,
      "outputs": [
        {
          "output_type": "stream",
          "text": [
            "[[589, 11448, 256, 2998, 27, 97, 11448, 256, 2998, 27, 135, 436, 229, 62, 51, 256, 2998, 2846, 975, 2352, 48, 13538, 6, 293, 17727, 2998, 48, 4664, 6, 293, 16123, 1954, 5969, 26822, 23115, 830, 2294, 256, 256, 414, 1366, 16124, 135, 2352, 26823, 2998, 6583, 48, 135, 2834, 8009, 3739, 256, 414, 1366, 23116, 135, 2352, 17727, 2998, 21483, 293, 135, 261, 1093, 284, 51, 256, 2998, 135, 2352, 48, 17728, 6, 293, 2365, 2998, 48, 11973, 6, 293, 5382, 1954, 15177, 26824, 7523, 256, 414, 1366, 26825, 135, 2352, 3404, 2998, 2999, 48, 135, 26826, 26827, 7846, 7524, 256, 414, 1366, 26828, 135, 2352, 2365, 2998, 10309, 293, 135, 261, 1093, 157, 51, 256, 2998, 135, 2352, 48, 13538, 6, 293, 7090, 2998, 48, 6583, 6, 293, 17729, 1954, 11974, 26829, 13539, 443, 256, 414, 1366, 16124, 135, 2352, 23117, 2998, 6583, 48, 135, 17730, 23118, 26830, 256, 414, 1366, 26831, 135, 2352, 7090, 2998, 17729, 293, 135, 261, 1093, 166, 51, 256, 2998, 135, 2352, 48, 388, 6, 293, 4070, 4572, 2998, 48, 8849, 6, 293, 21483, 1954, 1767, 23119, 4528, 2282, 443, 256, 414, 1366, 23120, 135, 2352, 26832, 2998, 8849, 48, 135, 16125, 26833, 2128, 14501, 443, 256, 414, 1366, 26834, 135, 2352, 4070, 4572, 2998, 5221, 293, 135, 261, 1093, 595, 51, 256, 2998, 135, 2352, 48, 5382, 6, 293, 4070, 4230, 2998, 48, 7525, 6, 293, 388, 1954, 15178, 26835, 595, 338, 17731, 256, 414, 1366, 26836, 135, 2352, 26837, 2998, 17732, 48, 135, 5970, 26838, 467, 5263, 443, 256, 414, 1366, 26839, 135, 2352, 4070, 4230, 2998, 6479, 293, 135, 261, 1093, 631, 51, 256, 2998, 135, 2352, 48, 13538, 6, 293, 4193, 3607, 2998, 48, 6583, 6, 293, 26840, 1954, 5970, 8850, 2559, 23121, 26841, 256, 414, 1366, 26842, 135, 2352, 3404, 2998, 2560, 48, 135, 8409, 26843, 2525, 1454, 256, 414, 1366, 26844, 135, 2352, 4193, 3607, 2998, 4629, 293, 135, 261, 1093, 784, 51, 256, 2998, 135, 2352, 48, 5382, 6, 293, 4070, 7217, 2998, 48, 6583, 6, 293, 9965, 1954, 5483, 26845, 21484, 443, 256, 414, 1366, 16124, 135, 2352, 26846, 2998, 6583, 48, 135, 5483, 17733, 23122, 23123, 443, 256, 414, 1366, 26847, 135, 2352, 4070, 7217, 2998, 6479, 293, 135, 261, 1093, 1621, 51, 256, 2998, 135, 2352, 48, 6824, 6, 293, 866, 3607, 2998, 48, 6583, 6, 293, 9965, 1954, 1621, 21485, 26848, 26849, 2526, 443, 256, 414, 1366, 26850, 135, 2352, 26851, 2998, 17732, 48, 135, 1621, 21485, 26852, 10995, 2526, 443, 11975, 7526, 1157, 256, 414, 1366, 26853, 135, 2352, 866, 3607, 2998, 6479, 293, 135, 261, 1093, 8851, 256, 2998, 135, 2352, 48, 13538, 6, 293, 7090, 2998, 48, 4664, 6, 293, 6824, 1954, 4071, 26854, 7091, 12424, 375, 1149, 443, 256, 414, 1366, 26855, 135, 2352, 26856, 2998, 12898, 48, 135, 1186, 15179, 26857, 2526, 443, 1930, 5264, 256, 414, 1366, 26858, 135, 2352, 7090, 2998, 2999, 293, 135, 261, 1093, 1705, 51, 256, 2998, 135, 2352, 48, 13538, 6, 293, 866, 23124, 2998, 48, 12898, 6, 293, 17728, 1954, 23125, 26859, 256, 414, 1366, 26860, 135, 2352, 5382, 2998, 2560, 48, 135, 10996, 26861, 16126, 5484, 16126, 574, 7218, 256, 414, 1366, 23126, 135, 2352, 866, 23124, 2998, 2560, 293, 135, 261, 1093, 2190, 51, 256, 2998, 135, 2352, 48, 388, 6, 293, 866, 26862, 2998, 48, 7525, 6, 293, 388, 1954, 6480, 26863, 26864, 26865, 26866, 256, 414, 1366, 26867, 135, 2352, 6824, 2998, 6583, 48, 135, 21486, 17734, 26868, 13540, 17734, 21487, 17735, 256, 414, 1366, 26869, 135, 2352, 866, 26870, 2998, 15180, 293, 135, 261, 1093, 3084, 51, 256, 2998, 135, 2352, 48, 4629, 6, 293, 5677, 2998, 48, 4664, 6, 293, 5382, 1954, 21488, 9353, 23127, 17736, 443, 256, 414, 1366, 16124, 135, 2352, 26871, 2998, 12898, 48, 135, 21488, 9353, 23127, 26872, 26873, 4965, 8410, 256, 414, 1366, 26874, 135, 2352, 3607, 2998, 5382, 293, 135, 261, 1093, 3144, 51, 256, 2998, 135, 2352, 48, 13538, 6, 293, 5677, 2998, 48, 11973, 6, 293, 17728, 1954, 26875, 26876, 7218, 256, 414, 1366, 26877, 135, 2352, 6824, 2998, 2560, 48, 135, 3041, 16127, 16128, 135, 17731, 26878, 256, 414, 1366, 26879, 135, 2352, 5677, 2998, 6479, 293, 135, 261, 1093, 1119, 51, 256, 2998, 135, 2352, 48, 5382, 6, 293, 866, 23128, 2998, 48, 12898, 6, 293, 26880, 1954, 12425, 23129, 5971, 525, 256, 414, 1366, 16124, 135, 2352, 26881, 2998, 23130, 48, 135, 12425, 23131, 9354, 7218, 256, 414, 1366, 26882, 135, 2352, 866, 23128, 2998, 6583, 293, 135, 261, 1093, 333, 51, 256, 2998, 135, 2352, 48, 13538, 6, 293, 866, 26883, 2998, 48, 12898, 6, 293, 17729, 1954, 9355, 9356, 26884, 15181, 443, 256, 256, 414, 1366, 26885, 135, 2352, 26886, 2998, 8849, 48, 135, 26887, 8411, 26888, 26889, 256, 414, 1366, 26890, 135, 2352, 4572, 2998, 17729, 293, 135, 261, 1093, 1136, 51, 256, 2998, 135, 2352, 48, 13538, 6, 293, 5677, 2998, 48, 7525, 6, 293, 23132, 1954, 4740, 26891, 23133, 256, 414, 1366, 26892, 135, 2352, 16129, 2998, 2560, 48, 135, 4740, 26893, 26894, 429, 3740, 5333, 256, 414, 1366, 26895, 135, 2352, 5677, 2998, 9966, 293, 135, 261, 1093, 799, 51, 256, 2998, 135, 2352, 48, 4629, 6, 293, 866, 3607, 2998, 48, 8849, 6, 293, 26896, 1954, 10310, 23134, 6299, 13541, 21489, 17731, 256, 414, 1366, 26897, 135, 2352, 26898, 2998, 16130, 48, 135, 10997, 17737, 7218, 256, 414, 1366, 26899, 135, 2352, 1642, 2998, 23135, 293, 135, 261, 1093, 2998, 1994, 48, 293, 135, 37, 847, 164, 7092, 5972, 37, 847, 2352, 2998, 388, 5678], [6300, 7219, 7220, 1318, 2248, 1252, 1911, 288, 500, 26900, 3085, 11449, 902, 6300, 265, 384, 461, 1318, 66, 21490, 3266, 486, 1], [206, 2249, 4573, 176, 59, 4072, 206, 2249, 4099, 1255, 1395, 10311, 137, 27, 3123, 4072, 739, 17738, 27, 3, 1]]\n"
          ],
          "name": "stdout"
        }
      ]
    },
    {
      "cell_type": "code",
      "metadata": {
        "colab": {
          "base_uri": "https://localhost:8080/"
        },
        "id": "OOBmHS-rEyca",
        "outputId": "aabcb28e-c562-4737-b424-1c34d6709059"
      },
      "source": [
        "print(X_test[:3])"
      ],
      "execution_count": 40,
      "outputs": [
        {
          "output_type": "stream",
          "text": [
            "[[435, 6024, 2009, 4087, 66, 21975, 72, 1475, 408, 2009, 4087, 79, 433, 1743, 2933, 7927, 230, 13, 143, 4567, 2309, 1358, 109], [435, 6024, 2009, 4087, 66, 21975, 72, 1475, 408, 795, 74, 447, 433, 230, 95, 2009, 21589, 4087, 81, 966, 435, 7, 1], [435, 6024, 2009, 4087, 66, 21975, 72, 1475, 408, 160, 855, 230, 27, 2839, 39, 433, 1743, 2933, 87, 1358, 3968, 2532, 1]]\n"
          ],
          "name": "stdout"
        }
      ]
    },
    {
      "cell_type": "code",
      "metadata": {
        "colab": {
          "base_uri": "https://localhost:8080/",
          "height": 315
        },
        "id": "wqmEpogsE2dg",
        "outputId": "c791e21b-84c0-4a44-fda4-015f643671dc"
      },
      "source": [
        "import matplotlib.pyplot as plt\n",
        "\n",
        "print(\"문자의 최대 길이 :\" , max(len(l) for l in X_train))\n",
        "print(\"문자의 평균 길이 : \", sum(map(len, X_train))/ len(X_train))\n",
        "plt.hist([len(s) for s in X_train], bins=50)\n",
        "plt.xlabel('length of Data')\n",
        "plt.ylabel('number of Data')\n",
        "plt.show()"
      ],
      "execution_count": 41,
      "outputs": [
        {
          "output_type": "stream",
          "text": [
            "문자의 최대 길이 : 929\n",
            "문자의 평균 길이 :  22.790207108156483\n"
          ],
          "name": "stdout"
        },
        {
          "output_type": "display_data",
          "data": {
            "image/png": "[encoded data removed]",
            "text/plain": [
              "<Figure size 432x288 with 1 Axes>"
            ]
          },
          "metadata": {
            "tags": [],
            "needs_background": "light"
          }
        }
      ]
    },
    {
      "cell_type": "code",
      "metadata": {
        "colab": {
          "base_uri": "https://localhost:8080/",
          "height": 316
        },
        "id": "7zmP7jVEE6Cd",
        "outputId": "406a5ab7-8775-4d40-d161-f75471bf821a"
      },
      "source": [
        "import matplotlib.pyplot as plt\n",
        "\n",
        "print(\"문자의 최대 길이 :\" , max(len(l) for l in X_test))\n",
        "print(\"문자의 평균 길이 : \", sum(map(len, X_test))/ len(X_test))\n",
        "plt.hist([len(s) for s in X_test], bins=50)\n",
        "plt.xlabel('length of Data')\n",
        "plt.ylabel('number of Data')\n",
        "plt.show()"
      ],
      "execution_count": 42,
      "outputs": [
        {
          "output_type": "stream",
          "text": [
            "문자의 최대 길이 : 419\n",
            "문자의 평균 길이 :  20.260730193245188\n"
          ],
          "name": "stdout"
        },
        {
          "output_type": "display_data",
          "data": {
            "image/png": "[encoded data removed]",
            "text/plain": [
              "<Figure size 432x288 with 1 Axes>"
            ]
          },
          "metadata": {
            "tags": [],
            "needs_background": "light"
          }
        }
      ]
    },
    {
      "cell_type": "markdown",
      "metadata": {
        "id": "pOP49rLwFM_k"
      },
      "source": [
        "## 원핫인코딩"
      ]
    },
    {
      "cell_type": "code",
      "metadata": {
        "id": "RFuuK4PfE_TR"
      },
      "source": [
        "from keras.utils import np_utils\n",
        "import numpy as np\n",
        "\n",
        "y_train = []\n",
        "\n",
        "for i in range(len(new_train['info'])):\n",
        "  if new_train['info'].iloc[i] == 1:\n",
        "    y_train.append([0, 1])\n",
        "  elif new_train['info'].iloc[i] == 0:\n",
        "    y_train.append([1, 0])\n",
        "\n",
        "y_train = np.array(y_train)"
      ],
      "execution_count": 45,
      "outputs": []
    },
    {
      "cell_type": "code",
      "metadata": {
        "colab": {
          "base_uri": "https://localhost:8080/"
        },
        "id": "YfSN4sHlFEkj",
        "outputId": "421f12ab-d1e3-40bf-e6d2-cfb804b157ab"
      },
      "source": [
        "print(y_train[:5])"
      ],
      "execution_count": 48,
      "outputs": [
        {
          "output_type": "stream",
          "text": [
            "[[1 0]\n",
            " [1 0]\n",
            " [1 0]\n",
            " [1 0]\n",
            " [0 1]]\n"
          ],
          "name": "stdout"
        }
      ]
    },
    {
      "cell_type": "code",
      "metadata": {
        "id": "vrsugmT1FUha"
      },
      "source": [
        "from keras.layers import Embedding, Dense, LSTM\n",
        "from keras.models import Sequential\n",
        "from keras.preprocessing.sequence import pad_sequences"
      ],
      "execution_count": 49,
      "outputs": []
    },
    {
      "cell_type": "code",
      "metadata": {
        "id": "97LK7lTOFiyL"
      },
      "source": [
        "max_len = 929 # 전체 데이터의 길이를 929로 맞춘다\n",
        "\n",
        "X_train = pad_sequences(X_train, maxlen=max_len)\n",
        "X_test = pad_sequences(X_test, maxlen=max_len)"
      ],
      "execution_count": 50,
      "outputs": []
    },
    {
      "cell_type": "code",
      "metadata": {
        "colab": {
          "base_uri": "https://localhost:8080/"
        },
        "id": "cF7zub9pFnKH",
        "outputId": "b1320556-c791-4a71-c564-d87d1afaa856"
      },
      "source": [
        "model = Sequential()\n",
        "model.add(Embedding(max_words, 100))\n",
        "model.add(LSTM(128))\n",
        "model.add(Dense(2, activation='sigmoid'))\n",
        "\n",
        "model.compile(optimizer='adam', loss='binary_crossentropy', metrics=['accuracy'])\n",
        "history = model.fit(X_train, y_train, epochs=2, batch_size=32, validation_split=0.1)"
      ],
      "execution_count": 51,
      "outputs": [
        {
          "output_type": "stream",
          "text": [
            "Epoch 1/2\n",
            "2640/2640 [==============================] - 2940s 1s/step - loss: 0.0522 - accuracy: 0.9817 - val_loss: 0.0074 - val_accuracy: 0.9987\n",
            "Epoch 2/2\n",
            "2640/2640 [==============================] - 2995s 1s/step - loss: 0.0107 - accuracy: 0.9968 - val_loss: 0.0046 - val_accuracy: 0.9986\n"
          ],
          "name": "stdout"
        }
      ]
    },
    {
      "cell_type": "code",
      "metadata": {
        "colab": {
          "base_uri": "https://localhost:8080/",
          "height": 509
        },
        "id": "kj9yjLH-F2NH",
        "outputId": "51811411-4418-4f71-a416-6ac9084c4655"
      },
      "source": [
        "fig, loss_ax = plt.subplots()\n",
        "acc_ax = loss_ax.twinx()\n",
        "\n",
        "loss_ax.plot(history.history['loss'], 'y', label='train loss')\n",
        "loss_ax.plot(history.history['val_loss'], 'r', label='val loss')\n",
        "loss_ax.set_xlabel('epoch')\n",
        "loss_ax.set_ylabel('loss')\n",
        "loss_ax.legend(loc='upper left')\n",
        "\n",
        "acc_ax.plot(history.history['acc'], 'b', label='train acc')\n",
        "acc_ax.plot(history.history['val_acc'], 'g', label='val acc')\n",
        "acc_ax.set_ylabel('accuracy')\n",
        "acc_ax.legend(loc='upper left')\n",
        "\n",
        "plt.show()"
      ],
      "execution_count": 58,
      "outputs": [
        {
          "output_type": "error",
          "ename": "KeyError",
          "evalue": "ignored",
          "traceback": [
            "\u001b[0;31m---------------------------------------------------------------------------\u001b[0m",
            "\u001b[0;31mKeyError\u001b[0m                                  Traceback (most recent call last)",
            "\u001b[0;32m<ipython-input-58-1b0463959778>\u001b[0m in \u001b[0;36m<module>\u001b[0;34m()\u001b[0m\n\u001b[1;32m      8\u001b[0m \u001b[0mloss_ax\u001b[0m\u001b[0;34m.\u001b[0m\u001b[0mlegend\u001b[0m\u001b[0;34m(\u001b[0m\u001b[0mloc\u001b[0m\u001b[0;34m=\u001b[0m\u001b[0;34m'upper left'\u001b[0m\u001b[0;34m)\u001b[0m\u001b[0;34m\u001b[0m\u001b[0;34m\u001b[0m\u001b[0m\n\u001b[1;32m      9\u001b[0m \u001b[0;34m\u001b[0m\u001b[0m\n\u001b[0;32m---> 10\u001b[0;31m \u001b[0macc_ax\u001b[0m\u001b[0;34m.\u001b[0m\u001b[0mplot\u001b[0m\u001b[0;34m(\u001b[0m\u001b[0mhistory\u001b[0m\u001b[0;34m.\u001b[0m\u001b[0mhistory\u001b[0m\u001b[0;34m[\u001b[0m\u001b[0;34m'acc'\u001b[0m\u001b[0;34m]\u001b[0m\u001b[0;34m,\u001b[0m \u001b[0;34m'b'\u001b[0m\u001b[0;34m,\u001b[0m \u001b[0mlabel\u001b[0m\u001b[0;34m=\u001b[0m\u001b[0;34m'train acc'\u001b[0m\u001b[0;34m)\u001b[0m\u001b[0;34m\u001b[0m\u001b[0;34m\u001b[0m\u001b[0m\n\u001b[0m\u001b[1;32m     11\u001b[0m \u001b[0macc_ax\u001b[0m\u001b[0;34m.\u001b[0m\u001b[0mplot\u001b[0m\u001b[0;34m(\u001b[0m\u001b[0mhistory\u001b[0m\u001b[0;34m.\u001b[0m\u001b[0mhistory\u001b[0m\u001b[0;34m[\u001b[0m\u001b[0;34m'val_acc'\u001b[0m\u001b[0;34m]\u001b[0m\u001b[0;34m,\u001b[0m \u001b[0;34m'g'\u001b[0m\u001b[0;34m,\u001b[0m \u001b[0mlabel\u001b[0m\u001b[0;34m=\u001b[0m\u001b[0;34m'val acc'\u001b[0m\u001b[0;34m)\u001b[0m\u001b[0;34m\u001b[0m\u001b[0;34m\u001b[0m\u001b[0m\n\u001b[1;32m     12\u001b[0m \u001b[0macc_ax\u001b[0m\u001b[0;34m.\u001b[0m\u001b[0mset_ylabel\u001b[0m\u001b[0;34m(\u001b[0m\u001b[0;34m'accuracy'\u001b[0m\u001b[0;34m)\u001b[0m\u001b[0;34m\u001b[0m\u001b[0;34m\u001b[0m\u001b[0m\n",
            "\u001b[0;31mKeyError\u001b[0m: 'acc'"
          ]
        },
        {
          "output_type": "display_data",
          "data": {
            "image/png": "[encoded data removed]",
            "text/plain": [
              "<Figure size 432x288 with 2 Axes>"
            ]
          },
          "metadata": {
            "tags": [],
            "needs_background": "light"
          }
        }
      ]
    },
    {
      "cell_type": "code",
      "metadata": {
        "id": "1Id5AgpTcidw"
      },
      "source": [
        "score = model.evaluate(X_test, test['info'], batch_size=32)"
      ],
      "execution_count": null,
      "outputs": []
    },
    {
      "cell_type": "code",
      "metadata": {
        "id": "ZxjdwXlrd8pj"
      },
      "source": [
        "mypredict = model.predict(X_test)"
      ],
      "execution_count": 63,
      "outputs": []
    },
    {
      "cell_type": "code",
      "metadata": {
        "colab": {
          "base_uri": "https://localhost:8080/",
          "height": 197
        },
        "id": "P56E59c0emGN",
        "outputId": "1a354618-c028-4067-d6cd-9a27e7588732"
      },
      "source": [
        "submission.head()"
      ],
      "execution_count": 64,
      "outputs": [
        {
          "output_type": "execute_result",
          "data": {
            "text/html": [
              "<div>\n",
              "<style scoped>\n",
              "    .dataframe tbody tr th:only-of-type {\n",
              "        vertical-align: middle;\n",
              "    }\n",
              "\n",
              "    .dataframe tbody tr th {\n",
              "        vertical-align: top;\n",
              "    }\n",
              "\n",
              "    .dataframe thead th {\n",
              "        text-align: right;\n",
              "    }\n",
              "</style>\n",
              "<table border=\"1\" class=\"dataframe\">\n",
              "  <thead>\n",
              "    <tr style=\"text-align: right;\">\n",
              "      <th></th>\n",
              "      <th>id</th>\n",
              "      <th>info</th>\n",
              "    </tr>\n",
              "  </thead>\n",
              "  <tbody>\n",
              "    <tr>\n",
              "      <th>0</th>\n",
              "      <td>NEWS00237_1</td>\n",
              "      <td>0</td>\n",
              "    </tr>\n",
              "    <tr>\n",
              "      <th>1</th>\n",
              "      <td>NEWS00237_2</td>\n",
              "      <td>0</td>\n",
              "    </tr>\n",
              "    <tr>\n",
              "      <th>2</th>\n",
              "      <td>NEWS00237_3</td>\n",
              "      <td>0</td>\n",
              "    </tr>\n",
              "    <tr>\n",
              "      <th>3</th>\n",
              "      <td>NEWS00237_4</td>\n",
              "      <td>0</td>\n",
              "    </tr>\n",
              "    <tr>\n",
              "      <th>4</th>\n",
              "      <td>NEWS00237_5</td>\n",
              "      <td>0</td>\n",
              "    </tr>\n",
              "  </tbody>\n",
              "</table>\n",
              "</div>"
            ],
            "text/plain": [
              "            id  info\n",
              "0  NEWS00237_1     0\n",
              "1  NEWS00237_2     0\n",
              "2  NEWS00237_3     0\n",
              "3  NEWS00237_4     0\n",
              "4  NEWS00237_5     0"
            ]
          },
          "metadata": {
            "tags": []
          },
          "execution_count": 64
        }
      ]
    },
    {
      "cell_type": "code",
      "metadata": {
        "colab": {
          "base_uri": "https://localhost:8080/",
          "height": 405
        },
        "id": "dAde4Up7eKcr",
        "outputId": "de2ad468-0eaa-4374-c1a8-66caf0eacfc3"
      },
      "source": [
        "submission_ids = test['id']\n",
        "my_result = []\n",
        "\n",
        "for i in range(len(mypredict)):\n",
        "  my_result.append(int(mypredict[i][1]>=mypredict[i][0]))\n",
        "\n",
        "sub_dict = {\"id\":submission_ids, \"info\":my_result}\n",
        "submission_df = pd.DataFrame(sub_dict)\n",
        "submission_df.to_csv(\"news1.csv\", index=False, encoding='utf-8')\n",
        "pd.read_csv(\"news1.csv\")"
      ],
      "execution_count": 84,
      "outputs": [
        {
          "output_type": "execute_result",
          "data": {
            "text/html": [
              "<div>\n",
              "<style scoped>\n",
              "    .dataframe tbody tr th:only-of-type {\n",
              "        vertical-align: middle;\n",
              "    }\n",
              "\n",
              "    .dataframe tbody tr th {\n",
              "        vertical-align: top;\n",
              "    }\n",
              "\n",
              "    .dataframe thead th {\n",
              "        text-align: right;\n",
              "    }\n",
              "</style>\n",
              "<table border=\"1\" class=\"dataframe\">\n",
              "  <thead>\n",
              "    <tr style=\"text-align: right;\">\n",
              "      <th></th>\n",
              "      <th>id</th>\n",
              "      <th>info</th>\n",
              "    </tr>\n",
              "  </thead>\n",
              "  <tbody>\n",
              "    <tr>\n",
              "      <th>0</th>\n",
              "      <td>NEWS00237_1</td>\n",
              "      <td>1</td>\n",
              "    </tr>\n",
              "    <tr>\n",
              "      <th>1</th>\n",
              "      <td>NEWS00237_2</td>\n",
              "      <td>0</td>\n",
              "    </tr>\n",
              "    <tr>\n",
              "      <th>2</th>\n",
              "      <td>NEWS00237_3</td>\n",
              "      <td>0</td>\n",
              "    </tr>\n",
              "    <tr>\n",
              "      <th>3</th>\n",
              "      <td>NEWS00237_4</td>\n",
              "      <td>0</td>\n",
              "    </tr>\n",
              "    <tr>\n",
              "      <th>4</th>\n",
              "      <td>NEWS00237_5</td>\n",
              "      <td>0</td>\n",
              "    </tr>\n",
              "    <tr>\n",
              "      <th>...</th>\n",
              "      <td>...</td>\n",
              "      <td>...</td>\n",
              "    </tr>\n",
              "    <tr>\n",
              "      <th>142560</th>\n",
              "      <td>NEWS09482_72</td>\n",
              "      <td>1</td>\n",
              "    </tr>\n",
              "    <tr>\n",
              "      <th>142561</th>\n",
              "      <td>NEWS09482_73</td>\n",
              "      <td>1</td>\n",
              "    </tr>\n",
              "    <tr>\n",
              "      <th>142562</th>\n",
              "      <td>NEWS09482_74</td>\n",
              "      <td>1</td>\n",
              "    </tr>\n",
              "    <tr>\n",
              "      <th>142563</th>\n",
              "      <td>NEWS09482_75</td>\n",
              "      <td>1</td>\n",
              "    </tr>\n",
              "    <tr>\n",
              "      <th>142564</th>\n",
              "      <td>NEWS09482_76</td>\n",
              "      <td>1</td>\n",
              "    </tr>\n",
              "  </tbody>\n",
              "</table>\n",
              "<p>142565 rows × 2 columns</p>\n",
              "</div>"
            ],
            "text/plain": [
              "                  id  info\n",
              "0        NEWS00237_1     1\n",
              "1        NEWS00237_2     0\n",
              "2        NEWS00237_3     0\n",
              "3        NEWS00237_4     0\n",
              "4        NEWS00237_5     0\n",
              "...              ...   ...\n",
              "142560  NEWS09482_72     1\n",
              "142561  NEWS09482_73     1\n",
              "142562  NEWS09482_74     1\n",
              "142563  NEWS09482_75     1\n",
              "142564  NEWS09482_76     1\n",
              "\n",
              "[142565 rows x 2 columns]"
            ]
          },
          "metadata": {
            "tags": []
          },
          "execution_count": 84
        }
      ]
    },
    {
      "cell_type": "code",
      "metadata": {
        "colab": {
          "base_uri": "https://localhost:8080/"
        },
        "id": "jM1NwyCMoA4X",
        "outputId": "2bf3f1bb-26a2-42e3-efb3-9d2cc5bf3fb3"
      },
      "source": [
        "ls"
      ],
      "execution_count": 71,
      "outputs": [
        {
          "output_type": "stream",
          "text": [
            "\u001b[0m\u001b[01;34mdrive\u001b[0m/                       \u001b[01;34mmecab-ko-dic-2.1.1-20180720\u001b[0m/        news1.csv\n",
            "\u001b[01;34mmecab-0.996-ko-0.9.2\u001b[0m/        mecab-ko-dic-2.1.1-20180720.tar.gz  \u001b[01;34msample_data\u001b[0m/\n",
            "mecab-0.996-ko-0.9.2.tar.gz  \u001b[01;34mMecab-ko-for-Google-Colab\u001b[0m/\n"
          ],
          "name": "stdout"
        }
      ]
    },
    {
      "cell_type": "code",
      "metadata": {
        "colab": {
          "base_uri": "https://localhost:8080/",
          "height": 282
        },
        "id": "jdeSU-1ToZ4e",
        "outputId": "071ba141-b0ce-4b0d-fdf8-fa32a91a5687"
      },
      "source": [
        "test.head()"
      ],
      "execution_count": 82,
      "outputs": [
        {
          "output_type": "execute_result",
          "data": {
            "text/html": [
              "<div>\n",
              "<style scoped>\n",
              "    .dataframe tbody tr th:only-of-type {\n",
              "        vertical-align: middle;\n",
              "    }\n",
              "\n",
              "    .dataframe tbody tr th {\n",
              "        vertical-align: top;\n",
              "    }\n",
              "\n",
              "    .dataframe thead th {\n",
              "        text-align: right;\n",
              "    }\n",
              "</style>\n",
              "<table border=\"1\" class=\"dataframe\">\n",
              "  <thead>\n",
              "    <tr style=\"text-align: right;\">\n",
              "      <th></th>\n",
              "      <th>n_id</th>\n",
              "      <th>date</th>\n",
              "      <th>title</th>\n",
              "      <th>content</th>\n",
              "      <th>ord</th>\n",
              "      <th>id</th>\n",
              "      <th>text</th>\n",
              "      <th>clear_text</th>\n",
              "    </tr>\n",
              "  </thead>\n",
              "  <tbody>\n",
              "    <tr>\n",
              "      <th>0</th>\n",
              "      <td>NEWS00237</td>\n",
              "      <td>20200118</td>\n",
              "      <td>[주목!e스몰캡]코세스, 마이크로LED 시장 개화 최대수혜 기대</td>\n",
              "      <td>마이크로 LED TV 장비 양산 돌입- 전방업체 투자 확대로 본업도 호조연일 '신고가'</td>\n",
              "      <td>1</td>\n",
              "      <td>NEWS00237_1</td>\n",
              "      <td>[주목!e스몰캡]코세스, 마이크로LED 시장 개화 최대수혜 기대 마이크로 LED T...</td>\n",
              "      <td>[주목!e스몰캡]코세스 마이크로LED 시장 개화 최대수혜 기대 마이크로 LED TV...</td>\n",
              "    </tr>\n",
              "    <tr>\n",
              "      <th>1</th>\n",
              "      <td>NEWS00237</td>\n",
              "      <td>20200118</td>\n",
              "      <td>[주목!e스몰캡]코세스, 마이크로LED 시장 개화 최대수혜 기대</td>\n",
              "      <td>[이데일리 김대웅 기자] 반도체 장비 업체 코세스(089890)의 기술력이 마이크로...</td>\n",
              "      <td>2</td>\n",
              "      <td>NEWS00237_2</td>\n",
              "      <td>[주목!e스몰캡]코세스, 마이크로LED 시장 개화 최대수혜 기대 [이데일리 김대웅 ...</td>\n",
              "      <td>[주목!e스몰캡]코세스 마이크로LED 시장 개화 최대수혜 기대 [이데일리 김대웅 기...</td>\n",
              "    </tr>\n",
              "    <tr>\n",
              "      <th>2</th>\n",
              "      <td>NEWS00237</td>\n",
              "      <td>20200118</td>\n",
              "      <td>[주목!e스몰캡]코세스, 마이크로LED 시장 개화 최대수혜 기대</td>\n",
              "      <td>최근 대형 업체들과 거래를 맺고 관련 장비들의 양산에 돌입하면서 주가도 연일 신고가...</td>\n",
              "      <td>3</td>\n",
              "      <td>NEWS00237_3</td>\n",
              "      <td>[주목!e스몰캡]코세스, 마이크로LED 시장 개화 최대수혜 기대 최근 대형 업체들과...</td>\n",
              "      <td>[주목!e스몰캡]코세스 마이크로LED 시장 개화 최대수혜 기대 최근 대형 업체들과 ...</td>\n",
              "    </tr>\n",
              "    <tr>\n",
              "      <th>3</th>\n",
              "      <td>NEWS00237</td>\n",
              "      <td>20200118</td>\n",
              "      <td>[주목!e스몰캡]코세스, 마이크로LED 시장 개화 최대수혜 기대</td>\n",
              "      <td>TV를 필두로 올해부터 마이크로 LED의 시대가 본격적으로 개화할 것으로 예상되면서...</td>\n",
              "      <td>4</td>\n",
              "      <td>NEWS00237_4</td>\n",
              "      <td>[주목!e스몰캡]코세스, 마이크로LED 시장 개화 최대수혜 기대 TV를 필두로 올해...</td>\n",
              "      <td>[주목!e스몰캡]코세스 마이크로LED 시장 개화 최대수혜 기대 TV를 필두로 올해부...</td>\n",
              "    </tr>\n",
              "    <tr>\n",
              "      <th>4</th>\n",
              "      <td>NEWS00237</td>\n",
              "      <td>20200118</td>\n",
              "      <td>[주목!e스몰캡]코세스, 마이크로LED 시장 개화 최대수혜 기대</td>\n",
              "      <td>코세스는 반도체 장비를 제조, 판매하는 업체로 지난 2006년 11월 코스닥 시장에...</td>\n",
              "      <td>5</td>\n",
              "      <td>NEWS00237_5</td>\n",
              "      <td>[주목!e스몰캡]코세스, 마이크로LED 시장 개화 최대수혜 기대 코세스는 반도체 장...</td>\n",
              "      <td>[주목!e스몰캡]코세스 마이크로LED 시장 개화 최대수혜 기대 코세스는 반도체 장비...</td>\n",
              "    </tr>\n",
              "  </tbody>\n",
              "</table>\n",
              "</div>"
            ],
            "text/plain": [
              "        n_id  ...                                         clear_text\n",
              "0  NEWS00237  ...  [주목!e스몰캡]코세스 마이크로LED 시장 개화 최대수혜 기대 마이크로 LED TV...\n",
              "1  NEWS00237  ...  [주목!e스몰캡]코세스 마이크로LED 시장 개화 최대수혜 기대 [이데일리 김대웅 기...\n",
              "2  NEWS00237  ...  [주목!e스몰캡]코세스 마이크로LED 시장 개화 최대수혜 기대 최근 대형 업체들과 ...\n",
              "3  NEWS00237  ...  [주목!e스몰캡]코세스 마이크로LED 시장 개화 최대수혜 기대 TV를 필두로 올해부...\n",
              "4  NEWS00237  ...  [주목!e스몰캡]코세스 마이크로LED 시장 개화 최대수혜 기대 코세스는 반도체 장비...\n",
              "\n",
              "[5 rows x 8 columns]"
            ]
          },
          "metadata": {
            "tags": []
          },
          "execution_count": 82
        }
      ]
    },
    {
      "cell_type": "code",
      "metadata": {
        "id": "UXdXkr6bqx3E"
      },
      "source": [
        ""
      ],
      "execution_count": null,
      "outputs": []
    }
  ]
}