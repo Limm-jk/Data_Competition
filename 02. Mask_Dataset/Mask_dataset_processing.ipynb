{
  "nbformat": 4,
  "nbformat_minor": 0,
  "metadata": {
    "colab": {
      "name": "Mask_dataset_processing.ipynb",
      "provenance": [],
      "collapsed_sections": []
    },
    "kernelspec": {
      "name": "python3",
      "display_name": "Python 3"
    },
    "widgets": {
      "application/vnd.jupyter.widget-state+json": {
        "4cf1dde628ff4d44a69b405670582d97": {
          "model_module": "@jupyter-widgets/controls",
          "model_name": "HBoxModel",
          "state": {
            "_view_name": "HBoxView",
            "_dom_classes": [],
            "_model_name": "HBoxModel",
            "_view_module": "@jupyter-widgets/controls",
            "_model_module_version": "1.5.0",
            "_view_count": null,
            "_view_module_version": "1.5.0",
            "box_style": "",
            "layout": "IPY_MODEL_ca035574c32f4e39b53d850e15a58a0f",
            "_model_module": "@jupyter-widgets/controls",
            "children": [
              "IPY_MODEL_7560e8d3e8f74abcab33158cc9d41687",
              "IPY_MODEL_c968173098dd4d8189d2eb590e84ba88"
            ]
          }
        },
        "ca035574c32f4e39b53d850e15a58a0f": {
          "model_module": "@jupyter-widgets/base",
          "model_name": "LayoutModel",
          "state": {
            "_view_name": "LayoutView",
            "grid_template_rows": null,
            "right": null,
            "justify_content": null,
            "_view_module": "@jupyter-widgets/base",
            "overflow": null,
            "_model_module_version": "1.2.0",
            "_view_count": null,
            "flex_flow": null,
            "width": null,
            "min_width": null,
            "border": null,
            "align_items": null,
            "bottom": null,
            "_model_module": "@jupyter-widgets/base",
            "top": null,
            "grid_column": null,
            "overflow_y": null,
            "overflow_x": null,
            "grid_auto_flow": null,
            "grid_area": null,
            "grid_template_columns": null,
            "flex": null,
            "_model_name": "LayoutModel",
            "justify_items": null,
            "grid_row": null,
            "max_height": null,
            "align_content": null,
            "visibility": null,
            "align_self": null,
            "height": null,
            "min_height": null,
            "padding": null,
            "grid_auto_rows": null,
            "grid_gap": null,
            "max_width": null,
            "order": null,
            "_view_module_version": "1.2.0",
            "grid_template_areas": null,
            "object_position": null,
            "object_fit": null,
            "grid_auto_columns": null,
            "margin": null,
            "display": null,
            "left": null
          }
        },
        "7560e8d3e8f74abcab33158cc9d41687": {
          "model_module": "@jupyter-widgets/controls",
          "model_name": "FloatProgressModel",
          "state": {
            "_view_name": "ProgressView",
            "style": "IPY_MODEL_d6ed3d76e13049ccb61685b27e63c1b2",
            "_dom_classes": [],
            "description": "100%",
            "_model_name": "FloatProgressModel",
            "bar_style": "success",
            "max": 853,
            "_view_module": "@jupyter-widgets/controls",
            "_model_module_version": "1.5.0",
            "value": 853,
            "_view_count": null,
            "_view_module_version": "1.5.0",
            "orientation": "horizontal",
            "min": 0,
            "description_tooltip": null,
            "_model_module": "@jupyter-widgets/controls",
            "layout": "IPY_MODEL_da9f5d994ff049488d7252be94adddb8"
          }
        },
        "c968173098dd4d8189d2eb590e84ba88": {
          "model_module": "@jupyter-widgets/controls",
          "model_name": "HTMLModel",
          "state": {
            "_view_name": "HTMLView",
            "style": "IPY_MODEL_b5e3055f5e9a42d5981d328c0dfe1ae9",
            "_dom_classes": [],
            "description": "",
            "_model_name": "HTMLModel",
            "placeholder": "​",
            "_view_module": "@jupyter-widgets/controls",
            "_model_module_version": "1.5.0",
            "value": " 853/853 [00:01&lt;00:00, 473.45it/s]",
            "_view_count": null,
            "_view_module_version": "1.5.0",
            "description_tooltip": null,
            "_model_module": "@jupyter-widgets/controls",
            "layout": "IPY_MODEL_ede36f1d6c6c445caae67c2d96bae227"
          }
        },
        "d6ed3d76e13049ccb61685b27e63c1b2": {
          "model_module": "@jupyter-widgets/controls",
          "model_name": "ProgressStyleModel",
          "state": {
            "_view_name": "StyleView",
            "_model_name": "ProgressStyleModel",
            "description_width": "initial",
            "_view_module": "@jupyter-widgets/base",
            "_model_module_version": "1.5.0",
            "_view_count": null,
            "_view_module_version": "1.2.0",
            "bar_color": null,
            "_model_module": "@jupyter-widgets/controls"
          }
        },
        "da9f5d994ff049488d7252be94adddb8": {
          "model_module": "@jupyter-widgets/base",
          "model_name": "LayoutModel",
          "state": {
            "_view_name": "LayoutView",
            "grid_template_rows": null,
            "right": null,
            "justify_content": null,
            "_view_module": "@jupyter-widgets/base",
            "overflow": null,
            "_model_module_version": "1.2.0",
            "_view_count": null,
            "flex_flow": null,
            "width": null,
            "min_width": null,
            "border": null,
            "align_items": null,
            "bottom": null,
            "_model_module": "@jupyter-widgets/base",
            "top": null,
            "grid_column": null,
            "overflow_y": null,
            "overflow_x": null,
            "grid_auto_flow": null,
            "grid_area": null,
            "grid_template_columns": null,
            "flex": null,
            "_model_name": "LayoutModel",
            "justify_items": null,
            "grid_row": null,
            "max_height": null,
            "align_content": null,
            "visibility": null,
            "align_self": null,
            "height": null,
            "min_height": null,
            "padding": null,
            "grid_auto_rows": null,
            "grid_gap": null,
            "max_width": null,
            "order": null,
            "_view_module_version": "1.2.0",
            "grid_template_areas": null,
            "object_position": null,
            "object_fit": null,
            "grid_auto_columns": null,
            "margin": null,
            "display": null,
            "left": null
          }
        },
        "b5e3055f5e9a42d5981d328c0dfe1ae9": {
          "model_module": "@jupyter-widgets/controls",
          "model_name": "DescriptionStyleModel",
          "state": {
            "_view_name": "StyleView",
            "_model_name": "DescriptionStyleModel",
            "description_width": "",
            "_view_module": "@jupyter-widgets/base",
            "_model_module_version": "1.5.0",
            "_view_count": null,
            "_view_module_version": "1.2.0",
            "_model_module": "@jupyter-widgets/controls"
          }
        },
        "ede36f1d6c6c445caae67c2d96bae227": {
          "model_module": "@jupyter-widgets/base",
          "model_name": "LayoutModel",
          "state": {
            "_view_name": "LayoutView",
            "grid_template_rows": null,
            "right": null,
            "justify_content": null,
            "_view_module": "@jupyter-widgets/base",
            "overflow": null,
            "_model_module_version": "1.2.0",
            "_view_count": null,
            "flex_flow": null,
            "width": null,
            "min_width": null,
            "border": null,
            "align_items": null,
            "bottom": null,
            "_model_module": "@jupyter-widgets/base",
            "top": null,
            "grid_column": null,
            "overflow_y": null,
            "overflow_x": null,
            "grid_auto_flow": null,
            "grid_area": null,
            "grid_template_columns": null,
            "flex": null,
            "_model_name": "LayoutModel",
            "justify_items": null,
            "grid_row": null,
            "max_height": null,
            "align_content": null,
            "visibility": null,
            "align_self": null,
            "height": null,
            "min_height": null,
            "padding": null,
            "grid_auto_rows": null,
            "grid_gap": null,
            "max_width": null,
            "order": null,
            "_view_module_version": "1.2.0",
            "grid_template_areas": null,
            "object_position": null,
            "object_fit": null,
            "grid_auto_columns": null,
            "margin": null,
            "display": null,
            "left": null
          }
        },
        "e1b9cf9512f141b5b6fdb390ca25a77c": {
          "model_module": "@jupyter-widgets/controls",
          "model_name": "HBoxModel",
          "state": {
            "_view_name": "HBoxView",
            "_dom_classes": [],
            "_model_name": "HBoxModel",
            "_view_module": "@jupyter-widgets/controls",
            "_model_module_version": "1.5.0",
            "_view_count": null,
            "_view_module_version": "1.5.0",
            "box_style": "",
            "layout": "IPY_MODEL_9aa2d29e4f4343b9b7e48d1b19ba2f40",
            "_model_module": "@jupyter-widgets/controls",
            "children": [
              "IPY_MODEL_e5d8d35da01c4b649746ba6fd597c829",
              "IPY_MODEL_0f6ca9f3780a4949802f2ccab0f179a8"
            ]
          }
        },
        "9aa2d29e4f4343b9b7e48d1b19ba2f40": {
          "model_module": "@jupyter-widgets/base",
          "model_name": "LayoutModel",
          "state": {
            "_view_name": "LayoutView",
            "grid_template_rows": null,
            "right": null,
            "justify_content": null,
            "_view_module": "@jupyter-widgets/base",
            "overflow": null,
            "_model_module_version": "1.2.0",
            "_view_count": null,
            "flex_flow": null,
            "width": null,
            "min_width": null,
            "border": null,
            "align_items": null,
            "bottom": null,
            "_model_module": "@jupyter-widgets/base",
            "top": null,
            "grid_column": null,
            "overflow_y": null,
            "overflow_x": null,
            "grid_auto_flow": null,
            "grid_area": null,
            "grid_template_columns": null,
            "flex": null,
            "_model_name": "LayoutModel",
            "justify_items": null,
            "grid_row": null,
            "max_height": null,
            "align_content": null,
            "visibility": null,
            "align_self": null,
            "height": null,
            "min_height": null,
            "padding": null,
            "grid_auto_rows": null,
            "grid_gap": null,
            "max_width": null,
            "order": null,
            "_view_module_version": "1.2.0",
            "grid_template_areas": null,
            "object_position": null,
            "object_fit": null,
            "grid_auto_columns": null,
            "margin": null,
            "display": null,
            "left": null
          }
        },
        "e5d8d35da01c4b649746ba6fd597c829": {
          "model_module": "@jupyter-widgets/controls",
          "model_name": "FloatProgressModel",
          "state": {
            "_view_name": "ProgressView",
            "style": "IPY_MODEL_f1701bc2cd6c44c3a2efc6e423f8158c",
            "_dom_classes": [],
            "description": "100%",
            "_model_name": "FloatProgressModel",
            "bar_style": "success",
            "max": 149,
            "_view_module": "@jupyter-widgets/controls",
            "_model_module_version": "1.5.0",
            "value": 149,
            "_view_count": null,
            "_view_module_version": "1.5.0",
            "orientation": "horizontal",
            "min": 0,
            "description_tooltip": null,
            "_model_module": "@jupyter-widgets/controls",
            "layout": "IPY_MODEL_2f450d0a2cfb478c8da998fa9d959948"
          }
        },
        "0f6ca9f3780a4949802f2ccab0f179a8": {
          "model_module": "@jupyter-widgets/controls",
          "model_name": "HTMLModel",
          "state": {
            "_view_name": "HTMLView",
            "style": "IPY_MODEL_1bd9916afab94b0d81572ac314874dfe",
            "_dom_classes": [],
            "description": "",
            "_model_name": "HTMLModel",
            "placeholder": "​",
            "_view_module": "@jupyter-widgets/controls",
            "_model_module_version": "1.5.0",
            "value": " 149/149 [01:53&lt;00:00,  1.32it/s]",
            "_view_count": null,
            "_view_module_version": "1.5.0",
            "description_tooltip": null,
            "_model_module": "@jupyter-widgets/controls",
            "layout": "IPY_MODEL_f17550ab28e44b2093131a044253cec6"
          }
        },
        "f1701bc2cd6c44c3a2efc6e423f8158c": {
          "model_module": "@jupyter-widgets/controls",
          "model_name": "ProgressStyleModel",
          "state": {
            "_view_name": "StyleView",
            "_model_name": "ProgressStyleModel",
            "description_width": "initial",
            "_view_module": "@jupyter-widgets/base",
            "_model_module_version": "1.5.0",
            "_view_count": null,
            "_view_module_version": "1.2.0",
            "bar_color": null,
            "_model_module": "@jupyter-widgets/controls"
          }
        },
        "2f450d0a2cfb478c8da998fa9d959948": {
          "model_module": "@jupyter-widgets/base",
          "model_name": "LayoutModel",
          "state": {
            "_view_name": "LayoutView",
            "grid_template_rows": null,
            "right": null,
            "justify_content": null,
            "_view_module": "@jupyter-widgets/base",
            "overflow": null,
            "_model_module_version": "1.2.0",
            "_view_count": null,
            "flex_flow": null,
            "width": null,
            "min_width": null,
            "border": null,
            "align_items": null,
            "bottom": null,
            "_model_module": "@jupyter-widgets/base",
            "top": null,
            "grid_column": null,
            "overflow_y": null,
            "overflow_x": null,
            "grid_auto_flow": null,
            "grid_area": null,
            "grid_template_columns": null,
            "flex": null,
            "_model_name": "LayoutModel",
            "justify_items": null,
            "grid_row": null,
            "max_height": null,
            "align_content": null,
            "visibility": null,
            "align_self": null,
            "height": null,
            "min_height": null,
            "padding": null,
            "grid_auto_rows": null,
            "grid_gap": null,
            "max_width": null,
            "order": null,
            "_view_module_version": "1.2.0",
            "grid_template_areas": null,
            "object_position": null,
            "object_fit": null,
            "grid_auto_columns": null,
            "margin": null,
            "display": null,
            "left": null
          }
        },
        "1bd9916afab94b0d81572ac314874dfe": {
          "model_module": "@jupyter-widgets/controls",
          "model_name": "DescriptionStyleModel",
          "state": {
            "_view_name": "StyleView",
            "_model_name": "DescriptionStyleModel",
            "description_width": "",
            "_view_module": "@jupyter-widgets/base",
            "_model_module_version": "1.5.0",
            "_view_count": null,
            "_view_module_version": "1.2.0",
            "_model_module": "@jupyter-widgets/controls"
          }
        },
        "f17550ab28e44b2093131a044253cec6": {
          "model_module": "@jupyter-widgets/base",
          "model_name": "LayoutModel",
          "state": {
            "_view_name": "LayoutView",
            "grid_template_rows": null,
            "right": null,
            "justify_content": null,
            "_view_module": "@jupyter-widgets/base",
            "overflow": null,
            "_model_module_version": "1.2.0",
            "_view_count": null,
            "flex_flow": null,
            "width": null,
            "min_width": null,
            "border": null,
            "align_items": null,
            "bottom": null,
            "_model_module": "@jupyter-widgets/base",
            "top": null,
            "grid_column": null,
            "overflow_y": null,
            "overflow_x": null,
            "grid_auto_flow": null,
            "grid_area": null,
            "grid_template_columns": null,
            "flex": null,
            "_model_name": "LayoutModel",
            "justify_items": null,
            "grid_row": null,
            "max_height": null,
            "align_content": null,
            "visibility": null,
            "align_self": null,
            "height": null,
            "min_height": null,
            "padding": null,
            "grid_auto_rows": null,
            "grid_gap": null,
            "max_width": null,
            "order": null,
            "_view_module_version": "1.2.0",
            "grid_template_areas": null,
            "object_position": null,
            "object_fit": null,
            "grid_auto_columns": null,
            "margin": null,
            "display": null,
            "left": null
          }
        }
      }
    }
  },
  "cells": [
    {
      "cell_type": "code",
      "metadata": {
        "colab": {
          "base_uri": "https://localhost:8080/"
        },
        "id": "TLoBEdl1v9CV",
        "outputId": "fcb55c08-51f0-4af8-ed78-c253545111fd"
      },
      "source": [
        "!pip install xmltodict"
      ],
      "execution_count": 71,
      "outputs": [
        {
          "output_type": "stream",
          "text": [
            "Requirement already satisfied: xmltodict in /usr/local/lib/python3.6/dist-packages (0.12.0)\n"
          ],
          "name": "stdout"
        }
      ]
    },
    {
      "cell_type": "code",
      "metadata": {
        "id": "1XFB0pN-6BkS"
      },
      "source": [
        "import os\r\n",
        "from pathlib import Path\r\n",
        "\r\n",
        "import pandas as pd\r\n",
        "import numpy as np\r\n",
        "import matplotlib.pyplot as plt\r\n",
        "import seaborn as sns\r\n",
        "import cv2\r\n",
        "\r\n",
        "import xmltodict\r\n",
        "# XML을 json처럼 parsing\r\n",
        "from tqdm.auto import tqdm\r\n",
        "# 오래걸리는 반복문 시각화"
      ],
      "execution_count": 89,
      "outputs": []
    },
    {
      "cell_type": "code",
      "metadata": {
        "colab": {
          "base_uri": "https://localhost:8080/",
          "height": 35
        },
        "id": "OR0BD4OD6MkH",
        "outputId": "cfa9b9c3-de96-4111-f140-84b3cb181c4d"
      },
      "source": [
        "# plt.style.use(['seaborn-white'])\r\n",
        "\r\n",
        "# 경로는 알아서 ㅎㅎ\r\n",
        "PATH = '/content/drive/MyDrive/Colab Notebooks/mask_dataset'\r\n",
        "\r\n",
        "# path에 파일을 확인\r\n",
        "os.listdir(PATH)\r\n",
        "\r\n",
        "\"\"\"\r\n",
        "Prediction\r\n",
        "['images', 'annotations']\r\n",
        "\"\"\""
      ],
      "execution_count": 73,
      "outputs": [
        {
          "output_type": "execute_result",
          "data": {
            "application/vnd.google.colaboratory.intrinsic+json": {
              "type": "string"
            },
            "text/plain": [
              "\"\\nPrediction\\n['images', 'annotations']\\n\""
            ]
          },
          "metadata": {
            "tags": []
          },
          "execution_count": 73
        }
      ]
    },
    {
      "cell_type": "code",
      "metadata": {
        "id": "IkNMF7-M6tJT",
        "colab": {
          "base_uri": "https://localhost:8080/",
          "height": 35
        },
        "outputId": "410ee5c9-a602-41a0-972b-9c1cb6e1c446"
      },
      "source": [
        "# 라벨(어노테이션)과 이미지의 경로를 지정\r\n",
        "ANNOTATION_PATH = os.path.join(PATH, \"annotations\")\r\n",
        "IMAGE_PATH = os.path.join(PATH, \"images\")"
      ],
      "execution_count": 103,
      "outputs": [
        {
          "output_type": "execute_result",
          "data": {
            "application/vnd.google.colaboratory.intrinsic+json": {
              "type": "string"
            },
            "text/plain": [
              "'/content/drive/MyDrive/Colab Notebooks/mask_dataset/annotations'"
            ]
          },
          "metadata": {
            "tags": []
          },
          "execution_count": 103
        }
      ]
    },
    {
      "cell_type": "code",
      "metadata": {
        "colab": {
          "base_uri": "https://localhost:8080/"
        },
        "id": "Q155hts369Ix",
        "outputId": "794dfb28-8417-49e4-f9c2-099108397e3c"
      },
      "source": [
        "# path에 파일을 확인\r\n",
        "os.listdir(ANNOTATION_PATH)[:30]\r\n",
        "# os.listdir(IMAGE_PATH)[:10]\r\n",
        "\r\n",
        "# 정렬이 필요하다!"
      ],
      "execution_count": 75,
      "outputs": [
        {
          "output_type": "execute_result",
          "data": {
            "text/plain": [
              "['maksssksksss443.xml',\n",
              " 'maksssksksss431.xml',\n",
              " 'maksssksksss455.xml',\n",
              " 'maksssksksss457.xml',\n",
              " 'maksssksksss460.xml',\n",
              " 'maksssksksss440.xml',\n",
              " 'maksssksksss45.xml',\n",
              " 'maksssksksss452.xml',\n",
              " 'maksssksksss442.xml',\n",
              " 'maksssksksss435.xml',\n",
              " 'maksssksksss472.xml',\n",
              " 'maksssksksss469.xml',\n",
              " 'maksssksksss479.xml',\n",
              " 'maksssksksss463.xml',\n",
              " 'maksssksksss488.xml',\n",
              " 'maksssksksss489.xml',\n",
              " 'maksssksksss471.xml',\n",
              " 'maksssksksss465.xml',\n",
              " 'maksssksksss461.xml',\n",
              " 'maksssksksss475.xml',\n",
              " 'maksssksksss474.xml',\n",
              " 'maksssksksss464.xml',\n",
              " 'maksssksksss482.xml',\n",
              " 'maksssksksss467.xml',\n",
              " 'maksssksksss49.xml',\n",
              " 'maksssksksss466.xml',\n",
              " 'maksssksksss48.xml',\n",
              " 'maksssksksss485.xml',\n",
              " 'maksssksksss47.xml',\n",
              " 'maksssksksss476.xml']"
            ]
          },
          "metadata": {
            "tags": []
          },
          "execution_count": 75
        }
      ]
    },
    {
      "cell_type": "code",
      "metadata": {
        "colab": {
          "base_uri": "https://localhost:8080/",
          "height": 35
        },
        "id": "R9Cz7wuS7Dae",
        "outputId": "a664d042-7bc5-4130-f606-f6321265d597"
      },
      "source": [
        "\r\n",
        "# sort의 기준을 찾자.\r\n",
        "\r\n",
        "os.listdir(ANNOTATION_PATH)[10]\r\n",
        "# print : 'maksssksksss472.xml'\r\n",
        "# type : str\r\n",
        "\r\n",
        "# . 이하를 버림\r\n",
        "os.listdir(ANNOTATION_PATH)[10].split(\".\")\r\n",
        "# Print : ['maksssksksss472', 'xml']\r\n",
        "\r\n",
        "os.listdir(ANNOTATION_PATH)[10].split(\".\")[0]\r\n",
        "# print : maksssksksss472\r\n",
        "os.listdir(ANNOTATION_PATH)[6].split(\".\")[0]\r\n",
        "# print : maksssksksss45\r\n",
        "\r\n",
        "os.listdir(ANNOTATION_PATH)[10].split(\".\")[0][12:]\r\n",
        "# print : 472\r\n",
        "os.listdir(ANNOTATION_PATH)[6].split(\".\")[0][12:]\r\n",
        "# print : 45"
      ],
      "execution_count": 76,
      "outputs": [
        {
          "output_type": "execute_result",
          "data": {
            "application/vnd.google.colaboratory.intrinsic+json": {
              "type": "string"
            },
            "text/plain": [
              "'45'"
            ]
          },
          "metadata": {
            "tags": []
          },
          "execution_count": 76
        }
      ]
    },
    {
      "cell_type": "code",
      "metadata": {
        "colab": {
          "base_uri": "https://localhost:8080/"
        },
        "id": "Qn9meF5a7Jlu",
        "outputId": "07748fd6-0dc8-4f87-b3f3-ef9f0d754032"
      },
      "source": [
        "# 위에서 도출한 정렬기준으로 정렬\r\n",
        "anno_list = sorted(os.listdir(ANNOTATION_PATH), key = lambda x : int(x.split(\".\")[0][12:]))\r\n",
        "anno_list[:10]"
      ],
      "execution_count": 77,
      "outputs": [
        {
          "output_type": "execute_result",
          "data": {
            "text/plain": [
              "['maksssksksss0.xml',\n",
              " 'maksssksksss1.xml',\n",
              " 'maksssksksss2.xml',\n",
              " 'maksssksksss3.xml',\n",
              " 'maksssksksss4.xml',\n",
              " 'maksssksksss5.xml',\n",
              " 'maksssksksss6.xml',\n",
              " 'maksssksksss7.xml',\n",
              " 'maksssksksss8.xml',\n",
              " 'maksssksksss9.xml']"
            ]
          },
          "metadata": {
            "tags": []
          },
          "execution_count": 77
        }
      ]
    },
    {
      "cell_type": "code",
      "metadata": {
        "colab": {
          "base_uri": "https://localhost:8080/"
        },
        "id": "C9d-ENz_-dei",
        "outputId": "bfd175d3-1dcc-4261-e7b8-965c4fffae2f"
      },
      "source": [
        "# os.listdir(IMAGE_PATH)[6].split(\".\")[0]\r\n",
        "img_list = sorted(os.listdir(IMAGE_PATH), key = lambda x : int(x.split(\".\")[0][12:]))\r\n",
        "img_list[200:210]"
      ],
      "execution_count": 78,
      "outputs": [
        {
          "output_type": "execute_result",
          "data": {
            "text/plain": [
              "['maksssksksss200.png',\n",
              " 'maksssksksss201.png',\n",
              " 'maksssksksss202.png',\n",
              " 'maksssksksss203.png',\n",
              " 'maksssksksss204.png',\n",
              " 'maksssksksss205.png',\n",
              " 'maksssksksss206.png',\n",
              " 'maksssksksss207.png',\n",
              " 'maksssksksss208.png',\n",
              " 'maksssksksss209.png']"
            ]
          },
          "metadata": {
            "tags": []
          },
          "execution_count": 78
        }
      ]
    },
    {
      "cell_type": "code",
      "metadata": {
        "colab": {
          "base_uri": "https://localhost:8080/",
          "height": 53
        },
        "id": "5aFGimWWAwIL",
        "outputId": "e9fb3c50-e8ee-4689-9b7e-acd146cb73f4"
      },
      "source": [
        "\"\"\"\r\n",
        "# 불러오기 테스트\r\n",
        "with open(os.path.join(ANNOTATIONS_PATH, anno_list[1]), 'r') as file:\r\n",
        "    # json parsing해오기\r\n",
        "        anno_dict = xmltodict.parse(file.read())['annotation']\r\n",
        "        da = pd.json_normalize(anno_dict)\r\n",
        "\r\n",
        "da\r\n",
        "\r\n",
        "\"\"\""
      ],
      "execution_count": 79,
      "outputs": [
        {
          "output_type": "execute_result",
          "data": {
            "application/vnd.google.colaboratory.intrinsic+json": {
              "type": "string"
            },
            "text/plain": [
              "\"\\n# 불러오기 테스트\\nwith open(os.path.join(ANNOTATIONS_PATH, anno_list[1]), 'r') as file:\\n    # json parsing해오기\\n        anno_dict = xmltodict.parse(file.read())['annotation']\\n        da = pd.json_normalize(anno_dict)\\n\\nda\\n\\n\""
            ]
          },
          "metadata": {
            "tags": []
          },
          "execution_count": 79
        }
      ]
    },
    {
      "cell_type": "code",
      "metadata": {
        "colab": {
          "base_uri": "https://localhost:8080/",
          "height": 70
        },
        "id": "_WAqbzOH-zXn",
        "outputId": "f0632bfb-c57f-42a4-96da-1f3c7ea1d340"
      },
      "source": [
        "\"\"\"# tqdm을 씌우면 학습할 때, 경과 나오는 것처럼 보여줌\r\n",
        "anno_json = []\r\n",
        "\r\n",
        "for anno_filename in tqdm(anno_list):\r\n",
        "    with open(os.path.join(ANNOTATION_PATH, anno_filename), 'r') as file:\r\n",
        "        anno_dict = xmltodict.parse(file.read())['annotation']\r\n",
        "        anno_dict[\"object_num\"] = len(anno_dict['object'])\r\n",
        "        anno_json.append(anno_dict)\"\"\""
      ],
      "execution_count": 80,
      "outputs": [
        {
          "output_type": "execute_result",
          "data": {
            "application/vnd.google.colaboratory.intrinsic+json": {
              "type": "string"
            },
            "text/plain": [
              "'# tqdm을 씌우면 학습할 때, 경과 나오는 것처럼 보여줌\\nanno_json = []\\n\\nfor anno_filename in tqdm(anno_list):\\n    with open(os.path.join(ANNOTATION_PATH, anno_filename), \\'r\\') as file:\\n        anno_dict = xmltodict.parse(file.read())[\\'annotation\\']\\n        anno_dict[\"object_num\"] = len(anno_dict[\\'object\\'])\\n        anno_json.append(anno_dict)'"
            ]
          },
          "metadata": {
            "tags": []
          },
          "execution_count": 80
        }
      ]
    },
    {
      "cell_type": "code",
      "metadata": {
        "id": "xPEMAyrjH9-3",
        "colab": {
          "base_uri": "https://localhost:8080/",
          "height": 53
        },
        "outputId": "13ce2e96-28d7-4c7a-f13a-d51efd51045b"
      },
      "source": [
        "# 문제점\r\n",
        "# object가 하나만 있는 곳에서 len을 object 객체의 길이인 6을 반환한다.\r\n",
        "# 하나만 있는 object를 배열로 묶자.\r\n",
        "# 어떻게 구분??\r\n",
        "\"\"\"\r\n",
        "with open(os.path.join(ANNOTATIONS_PATH, anno_list[10]), 'r') as file:\r\n",
        "    # json parsing해오기\r\n",
        "        anno_dict = xmltodict.parse(file.read())['annotation']\r\n",
        "        print(type(anno_dict['object']))\r\n",
        "\r\n",
        "Output\r\n",
        "<class 'collections.OrderedDict'>\r\n",
        "\"\"\"\r\n",
        "# 자료형이 다르구나!"
      ],
      "execution_count": null,
      "outputs": [
        {
          "output_type": "execute_result",
          "data": {
            "application/vnd.google.colaboratory.intrinsic+json": {
              "type": "string"
            },
            "text/plain": [
              "\"\\nwith open(os.path.join(ANNOTATIONS_PATH, anno_list[10]), 'r') as file:\\n    # json parsing해오기\\n        anno_dict = xmltodict.parse(file.read())['annotation']\\n        print(type(anno_dict['object']))\\n\\nOutput\\n<class 'collections.OrderedDict'>\\n\""
            ]
          },
          "metadata": {
            "tags": []
          },
          "execution_count": 27
        }
      ]
    },
    {
      "cell_type": "code",
      "metadata": {
        "colab": {
          "base_uri": "https://localhost:8080/",
          "height": 66,
          "referenced_widgets": [
            "4cf1dde628ff4d44a69b405670582d97",
            "ca035574c32f4e39b53d850e15a58a0f",
            "7560e8d3e8f74abcab33158cc9d41687",
            "c968173098dd4d8189d2eb590e84ba88",
            "d6ed3d76e13049ccb61685b27e63c1b2",
            "da9f5d994ff049488d7252be94adddb8",
            "b5e3055f5e9a42d5981d328c0dfe1ae9",
            "ede36f1d6c6c445caae67c2d96bae227"
          ]
        },
        "id": "V7Fp46XeI0nr",
        "outputId": "2065e37f-907b-4ea6-91ac-a1d883505a56"
      },
      "source": [
        "anno_json = []\r\n",
        "\r\n",
        "for anno_filename in tqdm(anno_list):\r\n",
        "    with open(os.path.join(ANNOTATION_PATH, anno_filename), 'r') as file:\r\n",
        "        anno_dict = xmltodict.parse(file.read())['annotation']\r\n",
        "        if type(anno_dict['object']) != list:\r\n",
        "                anno_dict['object'] = [anno_dict['object']]\r\n",
        "        anno_dict[\"object_num\"] = len(anno_dict['object'])\r\n",
        "        anno_json.append(anno_dict)"
      ],
      "execution_count": null,
      "outputs": [
        {
          "output_type": "display_data",
          "data": {
            "application/vnd.jupyter.widget-view+json": {
              "model_id": "4cf1dde628ff4d44a69b405670582d97",
              "version_minor": 0,
              "version_major": 2
            },
            "text/plain": [
              "HBox(children=(FloatProgress(value=0.0, max=853.0), HTML(value='')))"
            ]
          },
          "metadata": {
            "tags": []
          }
        },
        {
          "output_type": "stream",
          "text": [
            "\n"
          ],
          "name": "stdout"
        }
      ]
    },
    {
      "cell_type": "code",
      "metadata": {
        "colab": {
          "base_uri": "https://localhost:8080/",
          "height": 402
        },
        "id": "GDZkzHxbJVI_",
        "outputId": "4f0abb66-0779-43bd-a14c-0890be5ca77d"
      },
      "source": [
        "anno_frame = pd.json_normalize(anno_json)\r\n",
        "anno_frame"
      ],
      "execution_count": null,
      "outputs": [
        {
          "output_type": "execute_result",
          "data": {
            "text/html": [
              "<div>\n",
              "<style scoped>\n",
              "    .dataframe tbody tr th:only-of-type {\n",
              "        vertical-align: middle;\n",
              "    }\n",
              "\n",
              "    .dataframe tbody tr th {\n",
              "        vertical-align: top;\n",
              "    }\n",
              "\n",
              "    .dataframe thead th {\n",
              "        text-align: right;\n",
              "    }\n",
              "</style>\n",
              "<table border=\"1\" class=\"dataframe\">\n",
              "  <thead>\n",
              "    <tr style=\"text-align: right;\">\n",
              "      <th></th>\n",
              "      <th>folder</th>\n",
              "      <th>filename</th>\n",
              "      <th>segmented</th>\n",
              "      <th>object</th>\n",
              "      <th>object_num</th>\n",
              "      <th>size.width</th>\n",
              "      <th>size.height</th>\n",
              "      <th>size.depth</th>\n",
              "    </tr>\n",
              "  </thead>\n",
              "  <tbody>\n",
              "    <tr>\n",
              "      <th>0</th>\n",
              "      <td>images</td>\n",
              "      <td>maksssksksss0.png</td>\n",
              "      <td>0</td>\n",
              "      <td>[{'name': 'without_mask', 'pose': 'Unspecified...</td>\n",
              "      <td>3</td>\n",
              "      <td>512</td>\n",
              "      <td>366</td>\n",
              "      <td>3</td>\n",
              "    </tr>\n",
              "    <tr>\n",
              "      <th>1</th>\n",
              "      <td>images</td>\n",
              "      <td>maksssksksss1.png</td>\n",
              "      <td>0</td>\n",
              "      <td>[{'name': 'with_mask', 'pose': 'Unspecified', ...</td>\n",
              "      <td>9</td>\n",
              "      <td>400</td>\n",
              "      <td>156</td>\n",
              "      <td>3</td>\n",
              "    </tr>\n",
              "    <tr>\n",
              "      <th>2</th>\n",
              "      <td>images</td>\n",
              "      <td>maksssksksss2.png</td>\n",
              "      <td>0</td>\n",
              "      <td>[{'name': 'with_mask', 'pose': 'Unspecified', ...</td>\n",
              "      <td>4</td>\n",
              "      <td>400</td>\n",
              "      <td>290</td>\n",
              "      <td>3</td>\n",
              "    </tr>\n",
              "    <tr>\n",
              "      <th>3</th>\n",
              "      <td>images</td>\n",
              "      <td>maksssksksss3.png</td>\n",
              "      <td>0</td>\n",
              "      <td>[{'name': 'with_mask', 'pose': 'Unspecified', ...</td>\n",
              "      <td>9</td>\n",
              "      <td>400</td>\n",
              "      <td>271</td>\n",
              "      <td>3</td>\n",
              "    </tr>\n",
              "    <tr>\n",
              "      <th>4</th>\n",
              "      <td>images</td>\n",
              "      <td>maksssksksss4.png</td>\n",
              "      <td>0</td>\n",
              "      <td>[{'name': 'with_mask', 'pose': 'Unspecified', ...</td>\n",
              "      <td>1</td>\n",
              "      <td>301</td>\n",
              "      <td>400</td>\n",
              "      <td>3</td>\n",
              "    </tr>\n",
              "    <tr>\n",
              "      <th>...</th>\n",
              "      <td>...</td>\n",
              "      <td>...</td>\n",
              "      <td>...</td>\n",
              "      <td>...</td>\n",
              "      <td>...</td>\n",
              "      <td>...</td>\n",
              "      <td>...</td>\n",
              "      <td>...</td>\n",
              "    </tr>\n",
              "    <tr>\n",
              "      <th>848</th>\n",
              "      <td>images</td>\n",
              "      <td>maksssksksss848.png</td>\n",
              "      <td>0</td>\n",
              "      <td>[{'name': 'with_mask', 'pose': 'Unspecified', ...</td>\n",
              "      <td>4</td>\n",
              "      <td>400</td>\n",
              "      <td>268</td>\n",
              "      <td>3</td>\n",
              "    </tr>\n",
              "    <tr>\n",
              "      <th>849</th>\n",
              "      <td>images</td>\n",
              "      <td>maksssksksss849.png</td>\n",
              "      <td>0</td>\n",
              "      <td>[{'name': 'with_mask', 'pose': 'Unspecified', ...</td>\n",
              "      <td>4</td>\n",
              "      <td>400</td>\n",
              "      <td>236</td>\n",
              "      <td>3</td>\n",
              "    </tr>\n",
              "    <tr>\n",
              "      <th>850</th>\n",
              "      <td>images</td>\n",
              "      <td>maksssksksss850.png</td>\n",
              "      <td>0</td>\n",
              "      <td>[{'name': 'with_mask', 'pose': 'Unspecified', ...</td>\n",
              "      <td>3</td>\n",
              "      <td>400</td>\n",
              "      <td>200</td>\n",
              "      <td>3</td>\n",
              "    </tr>\n",
              "    <tr>\n",
              "      <th>851</th>\n",
              "      <td>images</td>\n",
              "      <td>maksssksksss851.png</td>\n",
              "      <td>0</td>\n",
              "      <td>[{'name': 'with_mask', 'pose': 'Unspecified', ...</td>\n",
              "      <td>1</td>\n",
              "      <td>301</td>\n",
              "      <td>400</td>\n",
              "      <td>3</td>\n",
              "    </tr>\n",
              "    <tr>\n",
              "      <th>852</th>\n",
              "      <td>images</td>\n",
              "      <td>maksssksksss852.png</td>\n",
              "      <td>0</td>\n",
              "      <td>[{'name': 'with_mask', 'pose': 'Unspecified', ...</td>\n",
              "      <td>2</td>\n",
              "      <td>267</td>\n",
              "      <td>400</td>\n",
              "      <td>3</td>\n",
              "    </tr>\n",
              "  </tbody>\n",
              "</table>\n",
              "<p>853 rows × 8 columns</p>\n",
              "</div>"
            ],
            "text/plain": [
              "     folder             filename segmented  ... size.width  size.height size.depth\n",
              "0    images    maksssksksss0.png         0  ...        512          366          3\n",
              "1    images    maksssksksss1.png         0  ...        400          156          3\n",
              "2    images    maksssksksss2.png         0  ...        400          290          3\n",
              "3    images    maksssksksss3.png         0  ...        400          271          3\n",
              "4    images    maksssksksss4.png         0  ...        301          400          3\n",
              "..      ...                  ...       ...  ...        ...          ...        ...\n",
              "848  images  maksssksksss848.png         0  ...        400          268          3\n",
              "849  images  maksssksksss849.png         0  ...        400          236          3\n",
              "850  images  maksssksksss850.png         0  ...        400          200          3\n",
              "851  images  maksssksksss851.png         0  ...        301          400          3\n",
              "852  images  maksssksksss852.png         0  ...        267          400          3\n",
              "\n",
              "[853 rows x 8 columns]"
            ]
          },
          "metadata": {
            "tags": []
          },
          "execution_count": 29
        }
      ]
    },
    {
      "cell_type": "markdown",
      "metadata": {
        "id": "lrseAEiqmavT"
      },
      "source": [
        "# 캐글 데이터 셋 분석 끝\r\n",
        "이제 두번째 데이터 셋을 ㄱㄱ"
      ]
    },
    {
      "cell_type": "code",
      "metadata": {
        "id": "v-Py7cv1mj61"
      },
      "source": [
        "def load_data(source):\r\n",
        "    arr = []\r\n",
        "    print(source)\r\n",
        "    for file in os.listdir(source):\r\n",
        "        if file.endswith('.xml'):\r\n",
        "            myfile = source + file\r\n",
        "            arr.append(myfile)\r\n",
        "    return arr"
      ],
      "execution_count": 127,
      "outputs": []
    },
    {
      "cell_type": "code",
      "metadata": {
        "colab": {
          "base_uri": "https://localhost:8080/"
        },
        "id": "mgvF5U9MoGRX",
        "outputId": "1cebd292-6216-43fa-825b-530a279c7b1c"
      },
      "source": [
        "t_source = \"/content/drive/MyDrive/Colab Notebooks/mask_dataset/test/\"\r\n",
        "tr_source = \"/content/drive/MyDrive/Colab Notebooks/mask_dataset/train/\"\r\n",
        "val_source = \"/content/drive/MyDrive/Colab Notebooks/mask_dataset/valid/\"\r\n",
        "\r\n",
        "mask_path_set2 = np.concatenate([load_data(t_source), load_data(tr_source)])\r\n",
        "mask_path_set2 = np.concatenate([mask_path_set2, load_data(val_source)])\r\n",
        "len(mask_path_set2)"
      ],
      "execution_count": 132,
      "outputs": [
        {
          "output_type": "stream",
          "text": [
            "/content/drive/MyDrive/Colab Notebooks/mask_dataset/test/\n",
            "/content/drive/MyDrive/Colab Notebooks/mask_dataset/train/\n",
            "/content/drive/MyDrive/Colab Notebooks/mask_dataset/valid/\n"
          ],
          "name": "stdout"
        },
        {
          "output_type": "execute_result",
          "data": {
            "text/plain": [
              "149"
            ]
          },
          "metadata": {
            "tags": []
          },
          "execution_count": 132
        }
      ]
    },
    {
      "cell_type": "code",
      "metadata": {
        "colab": {
          "base_uri": "https://localhost:8080/",
          "height": 66,
          "referenced_widgets": [
            "e1b9cf9512f141b5b6fdb390ca25a77c",
            "9aa2d29e4f4343b9b7e48d1b19ba2f40",
            "e5d8d35da01c4b649746ba6fd597c829",
            "0f6ca9f3780a4949802f2ccab0f179a8",
            "f1701bc2cd6c44c3a2efc6e423f8158c",
            "2f450d0a2cfb478c8da998fa9d959948",
            "1bd9916afab94b0d81572ac314874dfe",
            "f17550ab28e44b2093131a044253cec6"
          ]
        },
        "id": "kypPGk9Jtmnt",
        "outputId": "fb022380-fb65-4ea5-d71a-9f3f9b4c4c06"
      },
      "source": [
        "set2_json = []\r\n",
        "\r\n",
        "for anno_filename in tqdm(mask_path_set2):\r\n",
        "    with open(anno_filename, 'r') as file:\r\n",
        "        anno_dict = xmltodict.parse(file.read())['annotation']\r\n",
        "        if type(anno_dict['object']) != list:\r\n",
        "                anno_dict['object'] = [anno_dict['object']]\r\n",
        "        anno_dict[\"object_num\"] = len(anno_dict['object'])\r\n",
        "        set2_json.append(anno_dict)"
      ],
      "execution_count": 137,
      "outputs": [
        {
          "output_type": "display_data",
          "data": {
            "application/vnd.jupyter.widget-view+json": {
              "model_id": "e1b9cf9512f141b5b6fdb390ca25a77c",
              "version_minor": 0,
              "version_major": 2
            },
            "text/plain": [
              "HBox(children=(FloatProgress(value=0.0, max=149.0), HTML(value='')))"
            ]
          },
          "metadata": {
            "tags": []
          }
        },
        {
          "output_type": "stream",
          "text": [
            "\n"
          ],
          "name": "stdout"
        }
      ]
    },
    {
      "cell_type": "code",
      "metadata": {
        "id": "Mp8jCq8pxCw3"
      },
      "source": [
        "# 문제점 발견\r\n",
        "# 여기서는 마스크 tag가\r\n",
        "# mask / no-mask다 어카지?"
      ],
      "execution_count": null,
      "outputs": []
    },
    {
      "cell_type": "code",
      "metadata": {
        "colab": {
          "base_uri": "https://localhost:8080/",
          "height": 35
        },
        "id": "H3c0VV3dzqQF",
        "outputId": "aa1cd887-869f-4dd3-d371-da86bc25db14"
      },
      "source": [
        "set2_json[3][\"object\"][1]['name']"
      ],
      "execution_count": 175,
      "outputs": [
        {
          "output_type": "execute_result",
          "data": {
            "application/vnd.google.colaboratory.intrinsic+json": {
              "type": "string"
            },
            "text/plain": [
              "'mask'"
            ]
          },
          "metadata": {
            "tags": []
          },
          "execution_count": 175
        }
      ]
    },
    {
      "cell_type": "code",
      "metadata": {
        "id": "_9gGP_qZyYE5"
      },
      "source": [
        "# set2_json[3][\"object\"][1]['name']\r\n",
        "for mask_json in range(len(set2_json)):\r\n",
        "    for mask_json_tag in range(len(set2_json[mask_json]['object'])):\r\n",
        "        if set2_json[mask_json]['object'][mask_json_tag]['name'] == 'mask':\r\n",
        "            set2_json[mask_json][\"object\"][mask_json_tag]['name'] = 'with_mask'\r\n",
        "        else:\r\n",
        "            set2_json[mask_json][\"object\"][mask_json_tag]['name'] = 'without_mask'"
      ],
      "execution_count": 178,
      "outputs": []
    },
    {
      "cell_type": "code",
      "metadata": {
        "colab": {
          "base_uri": "https://localhost:8080/",
          "height": 35
        },
        "id": "g7GDpWiYz6l3",
        "outputId": "76059491-6955-4f35-d288-cb17f250186f"
      },
      "source": [
        "\r\n",
        "set2_json[3][\"object\"][1]['name']"
      ],
      "execution_count": 179,
      "outputs": [
        {
          "output_type": "execute_result",
          "data": {
            "application/vnd.google.colaboratory.intrinsic+json": {
              "type": "string"
            },
            "text/plain": [
              "'with_mask'"
            ]
          },
          "metadata": {
            "tags": []
          },
          "execution_count": 179
        }
      ]
    },
    {
      "cell_type": "code",
      "metadata": {
        "colab": {
          "base_uri": "https://localhost:8080/",
          "height": 738
        },
        "id": "7p3AIZi5uvz7",
        "outputId": "afb68054-8fae-4ad5-b682-d06b4271426a"
      },
      "source": [
        "set2_frame = pd.json_normalize(set2_json)\r\n",
        "\r\n",
        "set2_frame.drop(columns='source.database', inplace=True)\r\n",
        "set2_frame.drop(columns='path', inplace=True)\r\n",
        "\r\n",
        "set2_frame"
      ],
      "execution_count": 180,
      "outputs": [
        {
          "output_type": "execute_result",
          "data": {
            "text/html": [
              "<div>\n",
              "<style scoped>\n",
              "    .dataframe tbody tr th:only-of-type {\n",
              "        vertical-align: middle;\n",
              "    }\n",
              "\n",
              "    .dataframe tbody tr th {\n",
              "        vertical-align: top;\n",
              "    }\n",
              "\n",
              "    .dataframe thead th {\n",
              "        text-align: right;\n",
              "    }\n",
              "</style>\n",
              "<table border=\"1\" class=\"dataframe\">\n",
              "  <thead>\n",
              "    <tr style=\"text-align: right;\">\n",
              "      <th></th>\n",
              "      <th>folder</th>\n",
              "      <th>filename</th>\n",
              "      <th>segmented</th>\n",
              "      <th>object</th>\n",
              "      <th>object_num</th>\n",
              "      <th>size.width</th>\n",
              "      <th>size.height</th>\n",
              "      <th>size.depth</th>\n",
              "    </tr>\n",
              "  </thead>\n",
              "  <tbody>\n",
              "    <tr>\n",
              "      <th>0</th>\n",
              "      <td>None</td>\n",
              "      <td>w1240-p16x9-2019-10-04t075956z_1862636027_rc15...</td>\n",
              "      <td>0</td>\n",
              "      <td>[{'name': 'with_mask', 'pose': 'Unspecified', ...</td>\n",
              "      <td>13</td>\n",
              "      <td>416</td>\n",
              "      <td>416</td>\n",
              "      <td>3</td>\n",
              "    </tr>\n",
              "    <tr>\n",
              "      <th>1</th>\n",
              "      <td>None</td>\n",
              "      <td>w1240-p16x9-fa978043deff83fed485af12d16e39c613...</td>\n",
              "      <td>0</td>\n",
              "      <td>[{'name': 'with_mask', 'pose': 'Unspecified', ...</td>\n",
              "      <td>1</td>\n",
              "      <td>416</td>\n",
              "      <td>416</td>\n",
              "      <td>3</td>\n",
              "    </tr>\n",
              "    <tr>\n",
              "      <th>2</th>\n",
              "      <td>None</td>\n",
              "      <td>w1240-p16x9-0e48e0098f6e832f27d8b581b33bbc72b9...</td>\n",
              "      <td>0</td>\n",
              "      <td>[{'name': 'with_mask', 'pose': 'Unspecified', ...</td>\n",
              "      <td>2</td>\n",
              "      <td>416</td>\n",
              "      <td>416</td>\n",
              "      <td>3</td>\n",
              "    </tr>\n",
              "    <tr>\n",
              "      <th>3</th>\n",
              "      <td>None</td>\n",
              "      <td>shutterstock_1627199179_jpg.rf.8432d033a37b3d1...</td>\n",
              "      <td>0</td>\n",
              "      <td>[{'name': 'with_mask', 'pose': 'Unspecified', ...</td>\n",
              "      <td>5</td>\n",
              "      <td>416</td>\n",
              "      <td>416</td>\n",
              "      <td>3</td>\n",
              "    </tr>\n",
              "    <tr>\n",
              "      <th>4</th>\n",
              "      <td>None</td>\n",
              "      <td>RTX7CCFN_jpg.rf.66ed5c5054f30d933d19ab3d56ace0...</td>\n",
              "      <td>0</td>\n",
              "      <td>[{'name': 'with_mask', 'pose': 'Unspecified', ...</td>\n",
              "      <td>2</td>\n",
              "      <td>416</td>\n",
              "      <td>416</td>\n",
              "      <td>3</td>\n",
              "    </tr>\n",
              "    <tr>\n",
              "      <th>...</th>\n",
              "      <td>...</td>\n",
              "      <td>...</td>\n",
              "      <td>...</td>\n",
              "      <td>...</td>\n",
              "      <td>...</td>\n",
              "      <td>...</td>\n",
              "      <td>...</td>\n",
              "      <td>...</td>\n",
              "    </tr>\n",
              "    <tr>\n",
              "      <th>144</th>\n",
              "      <td>None</td>\n",
              "      <td>w1240-p16x9-coronavirus_CHINA-HEALTH_jpg.rf.73...</td>\n",
              "      <td>0</td>\n",
              "      <td>[{'name': 'with_mask', 'pose': 'Unspecified', ...</td>\n",
              "      <td>4</td>\n",
              "      <td>416</td>\n",
              "      <td>416</td>\n",
              "      <td>3</td>\n",
              "    </tr>\n",
              "    <tr>\n",
              "      <th>145</th>\n",
              "      <td>None</td>\n",
              "      <td>w1240-p16x9-CORONAVIRUS-CHINA-HEALTH-APPLE STO...</td>\n",
              "      <td>0</td>\n",
              "      <td>[{'name': 'with_mask', 'pose': 'Unspecified', ...</td>\n",
              "      <td>4</td>\n",
              "      <td>416</td>\n",
              "      <td>416</td>\n",
              "      <td>3</td>\n",
              "    </tr>\n",
              "    <tr>\n",
              "      <th>146</th>\n",
              "      <td>None</td>\n",
              "      <td>us-state-department-warns-against-visiting-chi...</td>\n",
              "      <td>0</td>\n",
              "      <td>[{'name': 'without_mask', 'pose': 'Unspecified...</td>\n",
              "      <td>5</td>\n",
              "      <td>416</td>\n",
              "      <td>416</td>\n",
              "      <td>3</td>\n",
              "    </tr>\n",
              "    <tr>\n",
              "      <th>147</th>\n",
              "      <td>None</td>\n",
              "      <td>stock-photo-mother-and-her-daughter-walking-go...</td>\n",
              "      <td>0</td>\n",
              "      <td>[{'name': 'with_mask', 'pose': 'Unspecified', ...</td>\n",
              "      <td>2</td>\n",
              "      <td>416</td>\n",
              "      <td>416</td>\n",
              "      <td>3</td>\n",
              "    </tr>\n",
              "    <tr>\n",
              "      <th>148</th>\n",
              "      <td>None</td>\n",
              "      <td>shutterstock_editorial_10536831j_2e16d0ba_fill...</td>\n",
              "      <td>0</td>\n",
              "      <td>[{'name': 'with_mask', 'pose': 'Unspecified', ...</td>\n",
              "      <td>34</td>\n",
              "      <td>416</td>\n",
              "      <td>416</td>\n",
              "      <td>3</td>\n",
              "    </tr>\n",
              "  </tbody>\n",
              "</table>\n",
              "<p>149 rows × 8 columns</p>\n",
              "</div>"
            ],
            "text/plain": [
              "    folder  ... size.depth\n",
              "0     None  ...          3\n",
              "1     None  ...          3\n",
              "2     None  ...          3\n",
              "3     None  ...          3\n",
              "4     None  ...          3\n",
              "..     ...  ...        ...\n",
              "144   None  ...          3\n",
              "145   None  ...          3\n",
              "146   None  ...          3\n",
              "147   None  ...          3\n",
              "148   None  ...          3\n",
              "\n",
              "[149 rows x 8 columns]"
            ]
          },
          "metadata": {
            "tags": []
          },
          "execution_count": 180
        }
      ]
    },
    {
      "cell_type": "code",
      "metadata": {
        "id": "qEWlvqwWvv5b"
      },
      "source": [
        "assem_frame = pd.concat([anno_frame, set2_frame])"
      ],
      "execution_count": 181,
      "outputs": []
    },
    {
      "cell_type": "code",
      "metadata": {
        "colab": {
          "base_uri": "https://localhost:8080/",
          "height": 570
        },
        "id": "WYMR2hPtv-iR",
        "outputId": "793e4081-5dca-4ce1-f115-7fb8a7ee0380"
      },
      "source": [
        "assem_frame"
      ],
      "execution_count": 182,
      "outputs": [
        {
          "output_type": "execute_result",
          "data": {
            "text/html": [
              "<div>\n",
              "<style scoped>\n",
              "    .dataframe tbody tr th:only-of-type {\n",
              "        vertical-align: middle;\n",
              "    }\n",
              "\n",
              "    .dataframe tbody tr th {\n",
              "        vertical-align: top;\n",
              "    }\n",
              "\n",
              "    .dataframe thead th {\n",
              "        text-align: right;\n",
              "    }\n",
              "</style>\n",
              "<table border=\"1\" class=\"dataframe\">\n",
              "  <thead>\n",
              "    <tr style=\"text-align: right;\">\n",
              "      <th></th>\n",
              "      <th>folder</th>\n",
              "      <th>filename</th>\n",
              "      <th>segmented</th>\n",
              "      <th>object</th>\n",
              "      <th>object_num</th>\n",
              "      <th>size.width</th>\n",
              "      <th>size.height</th>\n",
              "      <th>size.depth</th>\n",
              "    </tr>\n",
              "  </thead>\n",
              "  <tbody>\n",
              "    <tr>\n",
              "      <th>0</th>\n",
              "      <td>images</td>\n",
              "      <td>maksssksksss0.png</td>\n",
              "      <td>0</td>\n",
              "      <td>[{'name': 'without_mask', 'pose': 'Unspecified...</td>\n",
              "      <td>3</td>\n",
              "      <td>512</td>\n",
              "      <td>366</td>\n",
              "      <td>3</td>\n",
              "    </tr>\n",
              "    <tr>\n",
              "      <th>1</th>\n",
              "      <td>images</td>\n",
              "      <td>maksssksksss1.png</td>\n",
              "      <td>0</td>\n",
              "      <td>[{'name': 'with_mask', 'pose': 'Unspecified', ...</td>\n",
              "      <td>9</td>\n",
              "      <td>400</td>\n",
              "      <td>156</td>\n",
              "      <td>3</td>\n",
              "    </tr>\n",
              "    <tr>\n",
              "      <th>2</th>\n",
              "      <td>images</td>\n",
              "      <td>maksssksksss2.png</td>\n",
              "      <td>0</td>\n",
              "      <td>[{'name': 'with_mask', 'pose': 'Unspecified', ...</td>\n",
              "      <td>4</td>\n",
              "      <td>400</td>\n",
              "      <td>290</td>\n",
              "      <td>3</td>\n",
              "    </tr>\n",
              "    <tr>\n",
              "      <th>3</th>\n",
              "      <td>images</td>\n",
              "      <td>maksssksksss3.png</td>\n",
              "      <td>0</td>\n",
              "      <td>[{'name': 'with_mask', 'pose': 'Unspecified', ...</td>\n",
              "      <td>9</td>\n",
              "      <td>400</td>\n",
              "      <td>271</td>\n",
              "      <td>3</td>\n",
              "    </tr>\n",
              "    <tr>\n",
              "      <th>4</th>\n",
              "      <td>images</td>\n",
              "      <td>maksssksksss4.png</td>\n",
              "      <td>0</td>\n",
              "      <td>[{'name': 'with_mask', 'pose': 'Unspecified', ...</td>\n",
              "      <td>1</td>\n",
              "      <td>301</td>\n",
              "      <td>400</td>\n",
              "      <td>3</td>\n",
              "    </tr>\n",
              "    <tr>\n",
              "      <th>...</th>\n",
              "      <td>...</td>\n",
              "      <td>...</td>\n",
              "      <td>...</td>\n",
              "      <td>...</td>\n",
              "      <td>...</td>\n",
              "      <td>...</td>\n",
              "      <td>...</td>\n",
              "      <td>...</td>\n",
              "    </tr>\n",
              "    <tr>\n",
              "      <th>144</th>\n",
              "      <td>None</td>\n",
              "      <td>w1240-p16x9-coronavirus_CHINA-HEALTH_jpg.rf.73...</td>\n",
              "      <td>0</td>\n",
              "      <td>[{'name': 'with_mask', 'pose': 'Unspecified', ...</td>\n",
              "      <td>4</td>\n",
              "      <td>416</td>\n",
              "      <td>416</td>\n",
              "      <td>3</td>\n",
              "    </tr>\n",
              "    <tr>\n",
              "      <th>145</th>\n",
              "      <td>None</td>\n",
              "      <td>w1240-p16x9-CORONAVIRUS-CHINA-HEALTH-APPLE STO...</td>\n",
              "      <td>0</td>\n",
              "      <td>[{'name': 'with_mask', 'pose': 'Unspecified', ...</td>\n",
              "      <td>4</td>\n",
              "      <td>416</td>\n",
              "      <td>416</td>\n",
              "      <td>3</td>\n",
              "    </tr>\n",
              "    <tr>\n",
              "      <th>146</th>\n",
              "      <td>None</td>\n",
              "      <td>us-state-department-warns-against-visiting-chi...</td>\n",
              "      <td>0</td>\n",
              "      <td>[{'name': 'without_mask', 'pose': 'Unspecified...</td>\n",
              "      <td>5</td>\n",
              "      <td>416</td>\n",
              "      <td>416</td>\n",
              "      <td>3</td>\n",
              "    </tr>\n",
              "    <tr>\n",
              "      <th>147</th>\n",
              "      <td>None</td>\n",
              "      <td>stock-photo-mother-and-her-daughter-walking-go...</td>\n",
              "      <td>0</td>\n",
              "      <td>[{'name': 'with_mask', 'pose': 'Unspecified', ...</td>\n",
              "      <td>2</td>\n",
              "      <td>416</td>\n",
              "      <td>416</td>\n",
              "      <td>3</td>\n",
              "    </tr>\n",
              "    <tr>\n",
              "      <th>148</th>\n",
              "      <td>None</td>\n",
              "      <td>shutterstock_editorial_10536831j_2e16d0ba_fill...</td>\n",
              "      <td>0</td>\n",
              "      <td>[{'name': 'with_mask', 'pose': 'Unspecified', ...</td>\n",
              "      <td>34</td>\n",
              "      <td>416</td>\n",
              "      <td>416</td>\n",
              "      <td>3</td>\n",
              "    </tr>\n",
              "  </tbody>\n",
              "</table>\n",
              "<p>1002 rows × 8 columns</p>\n",
              "</div>"
            ],
            "text/plain": [
              "     folder  ... size.depth\n",
              "0    images  ...          3\n",
              "1    images  ...          3\n",
              "2    images  ...          3\n",
              "3    images  ...          3\n",
              "4    images  ...          3\n",
              "..      ...  ...        ...\n",
              "144    None  ...          3\n",
              "145    None  ...          3\n",
              "146    None  ...          3\n",
              "147    None  ...          3\n",
              "148    None  ...          3\n",
              "\n",
              "[1002 rows x 8 columns]"
            ]
          },
          "metadata": {
            "tags": []
          },
          "execution_count": 182
        }
      ]
    },
    {
      "cell_type": "markdown",
      "metadata": {
        "id": "HPd4jeVKtj5P"
      },
      "source": [
        "# 데이터 분석"
      ]
    },
    {
      "cell_type": "code",
      "metadata": {
        "colab": {
          "base_uri": "https://localhost:8080/"
        },
        "id": "7nkDVeefmQzL",
        "outputId": "485a4590-7cbe-48df-8f87-fbeae11766b8"
      },
      "source": [
        "assem_frame.info"
      ],
      "execution_count": 183,
      "outputs": [
        {
          "output_type": "execute_result",
          "data": {
            "text/plain": [
              "<bound method DataFrame.info of      folder  ... size.depth\n",
              "0    images  ...          3\n",
              "1    images  ...          3\n",
              "2    images  ...          3\n",
              "3    images  ...          3\n",
              "4    images  ...          3\n",
              "..      ...  ...        ...\n",
              "144    None  ...          3\n",
              "145    None  ...          3\n",
              "146    None  ...          3\n",
              "147    None  ...          3\n",
              "148    None  ...          3\n",
              "\n",
              "[1002 rows x 8 columns]>"
            ]
          },
          "metadata": {
            "tags": []
          },
          "execution_count": 183
        }
      ]
    },
    {
      "cell_type": "code",
      "metadata": {
        "id": "CccdUWkAJ3Jf",
        "colab": {
          "base_uri": "https://localhost:8080/",
          "height": 604
        },
        "outputId": "e02d0ad8-f3f8-4277-cba7-81f02b2c1448"
      },
      "source": [
        "plt.figure(figsize=(20, 10))\r\n",
        "sns.countplot(assem_frame.object_num.values)\r\n",
        "plt.show()"
      ],
      "execution_count": 184,
      "outputs": [
        {
          "output_type": "stream",
          "text": [
            "/usr/local/lib/python3.6/dist-packages/seaborn/_decorators.py:43: FutureWarning: Pass the following variable as a keyword arg: x. From version 0.12, the only valid positional argument will be `data`, and passing other arguments without an explicit keyword will result in an error or misinterpretation.\n",
            "  FutureWarning\n"
          ],
          "name": "stderr"
        },
        {
          "output_type": "display_data",
          "data": {
            "image/png": "[encoded data removed]",
            "text/plain": [
              "<Figure size 1440x720 with 1 Axes>"
            ]
          },
          "metadata": {
            "tags": [],
            "needs_background": "light"
          }
        }
      ]
    },
    {
      "cell_type": "code",
      "metadata": {
        "id": "jTaODsrtbZee"
      },
      "source": [
        "from itertools import chain\r\n",
        "\r\n",
        "num_object_per_images = assem_frame.object_num\r\n",
        "\r\n",
        "image_data = pd.DataFrame({\r\n",
        "    'filename': np.repeat(assem_frame['filename'], num_object_per_images), \r\n",
        "    'segmented': np.repeat(assem_frame['segmented'], num_object_per_images), \r\n",
        "    'object': chain.from_iterable(assem_frame['object'].values), \r\n",
        "    'width': np.repeat(assem_frame['size.width'], num_object_per_images),\r\n",
        "    'height': np.repeat(assem_frame['size.height'], num_object_per_images),\r\n",
        "    'depth': np.repeat(assem_frame['size.depth'], num_object_per_images)\r\n",
        "})\r\n",
        "image_data.reset_index(inplace=True, drop=True)"
      ],
      "execution_count": 185,
      "outputs": []
    },
    {
      "cell_type": "code",
      "metadata": {
        "colab": {
          "base_uri": "https://localhost:8080/",
          "height": 402
        },
        "id": "i_MTJPPp0h8A",
        "outputId": "d87eaf27-8406-42e4-aad0-70673f7c31f4"
      },
      "source": [
        "image_data"
      ],
      "execution_count": 186,
      "outputs": [
        {
          "output_type": "execute_result",
          "data": {
            "text/html": [
              "<div>\n",
              "<style scoped>\n",
              "    .dataframe tbody tr th:only-of-type {\n",
              "        vertical-align: middle;\n",
              "    }\n",
              "\n",
              "    .dataframe tbody tr th {\n",
              "        vertical-align: top;\n",
              "    }\n",
              "\n",
              "    .dataframe thead th {\n",
              "        text-align: right;\n",
              "    }\n",
              "</style>\n",
              "<table border=\"1\" class=\"dataframe\">\n",
              "  <thead>\n",
              "    <tr style=\"text-align: right;\">\n",
              "      <th></th>\n",
              "      <th>filename</th>\n",
              "      <th>segmented</th>\n",
              "      <th>object</th>\n",
              "      <th>width</th>\n",
              "      <th>height</th>\n",
              "      <th>depth</th>\n",
              "    </tr>\n",
              "  </thead>\n",
              "  <tbody>\n",
              "    <tr>\n",
              "      <th>0</th>\n",
              "      <td>maksssksksss0.png</td>\n",
              "      <td>0</td>\n",
              "      <td>{'name': 'without_mask', 'pose': 'Unspecified'...</td>\n",
              "      <td>512</td>\n",
              "      <td>366</td>\n",
              "      <td>3</td>\n",
              "    </tr>\n",
              "    <tr>\n",
              "      <th>1</th>\n",
              "      <td>maksssksksss0.png</td>\n",
              "      <td>0</td>\n",
              "      <td>{'name': 'with_mask', 'pose': 'Unspecified', '...</td>\n",
              "      <td>512</td>\n",
              "      <td>366</td>\n",
              "      <td>3</td>\n",
              "    </tr>\n",
              "    <tr>\n",
              "      <th>2</th>\n",
              "      <td>maksssksksss0.png</td>\n",
              "      <td>0</td>\n",
              "      <td>{'name': 'without_mask', 'pose': 'Unspecified'...</td>\n",
              "      <td>512</td>\n",
              "      <td>366</td>\n",
              "      <td>3</td>\n",
              "    </tr>\n",
              "    <tr>\n",
              "      <th>3</th>\n",
              "      <td>maksssksksss1.png</td>\n",
              "      <td>0</td>\n",
              "      <td>{'name': 'with_mask', 'pose': 'Unspecified', '...</td>\n",
              "      <td>400</td>\n",
              "      <td>156</td>\n",
              "      <td>3</td>\n",
              "    </tr>\n",
              "    <tr>\n",
              "      <th>4</th>\n",
              "      <td>maksssksksss1.png</td>\n",
              "      <td>0</td>\n",
              "      <td>{'name': 'with_mask', 'pose': 'Unspecified', '...</td>\n",
              "      <td>400</td>\n",
              "      <td>156</td>\n",
              "      <td>3</td>\n",
              "    </tr>\n",
              "    <tr>\n",
              "      <th>...</th>\n",
              "      <td>...</td>\n",
              "      <td>...</td>\n",
              "      <td>...</td>\n",
              "      <td>...</td>\n",
              "      <td>...</td>\n",
              "      <td>...</td>\n",
              "    </tr>\n",
              "    <tr>\n",
              "      <th>5021</th>\n",
              "      <td>shutterstock_editorial_10536831j_2e16d0ba_fill...</td>\n",
              "      <td>0</td>\n",
              "      <td>{'name': 'with_mask', 'pose': 'Unspecified', '...</td>\n",
              "      <td>416</td>\n",
              "      <td>416</td>\n",
              "      <td>3</td>\n",
              "    </tr>\n",
              "    <tr>\n",
              "      <th>5022</th>\n",
              "      <td>shutterstock_editorial_10536831j_2e16d0ba_fill...</td>\n",
              "      <td>0</td>\n",
              "      <td>{'name': 'with_mask', 'pose': 'Unspecified', '...</td>\n",
              "      <td>416</td>\n",
              "      <td>416</td>\n",
              "      <td>3</td>\n",
              "    </tr>\n",
              "    <tr>\n",
              "      <th>5023</th>\n",
              "      <td>shutterstock_editorial_10536831j_2e16d0ba_fill...</td>\n",
              "      <td>0</td>\n",
              "      <td>{'name': 'with_mask', 'pose': 'Unspecified', '...</td>\n",
              "      <td>416</td>\n",
              "      <td>416</td>\n",
              "      <td>3</td>\n",
              "    </tr>\n",
              "    <tr>\n",
              "      <th>5024</th>\n",
              "      <td>shutterstock_editorial_10536831j_2e16d0ba_fill...</td>\n",
              "      <td>0</td>\n",
              "      <td>{'name': 'with_mask', 'pose': 'Unspecified', '...</td>\n",
              "      <td>416</td>\n",
              "      <td>416</td>\n",
              "      <td>3</td>\n",
              "    </tr>\n",
              "    <tr>\n",
              "      <th>5025</th>\n",
              "      <td>shutterstock_editorial_10536831j_2e16d0ba_fill...</td>\n",
              "      <td>0</td>\n",
              "      <td>{'name': 'with_mask', 'pose': 'Unspecified', '...</td>\n",
              "      <td>416</td>\n",
              "      <td>416</td>\n",
              "      <td>3</td>\n",
              "    </tr>\n",
              "  </tbody>\n",
              "</table>\n",
              "<p>5026 rows × 6 columns</p>\n",
              "</div>"
            ],
            "text/plain": [
              "                                               filename segmented  ... height depth\n",
              "0                                     maksssksksss0.png         0  ...    366     3\n",
              "1                                     maksssksksss0.png         0  ...    366     3\n",
              "2                                     maksssksksss0.png         0  ...    366     3\n",
              "3                                     maksssksksss1.png         0  ...    156     3\n",
              "4                                     maksssksksss1.png         0  ...    156     3\n",
              "...                                                 ...       ...  ...    ...   ...\n",
              "5021  shutterstock_editorial_10536831j_2e16d0ba_fill...         0  ...    416     3\n",
              "5022  shutterstock_editorial_10536831j_2e16d0ba_fill...         0  ...    416     3\n",
              "5023  shutterstock_editorial_10536831j_2e16d0ba_fill...         0  ...    416     3\n",
              "5024  shutterstock_editorial_10536831j_2e16d0ba_fill...         0  ...    416     3\n",
              "5025  shutterstock_editorial_10536831j_2e16d0ba_fill...         0  ...    416     3\n",
              "\n",
              "[5026 rows x 6 columns]"
            ]
          },
          "metadata": {
            "tags": []
          },
          "execution_count": 186
        }
      ]
    },
    {
      "cell_type": "code",
      "metadata": {
        "id": "1LcC6Dipy9zo"
      },
      "source": [
        "objects = pd.DataFrame(image_data.object.map(dict).tolist())\r\n",
        "\r\n",
        "data = pd.concat([image_data, objects], axis=1)\r\n",
        "data.drop(columns='object', inplace=True)"
      ],
      "execution_count": 187,
      "outputs": []
    },
    {
      "cell_type": "code",
      "metadata": {
        "colab": {
          "base_uri": "https://localhost:8080/",
          "height": 182
        },
        "id": "1SGz8hQozQQN",
        "outputId": "4061f2e8-c727-4f4a-b523-e5dda458e929"
      },
      "source": [
        "data.describe()"
      ],
      "execution_count": 188,
      "outputs": [
        {
          "output_type": "execute_result",
          "data": {
            "text/html": [
              "<div>\n",
              "<style scoped>\n",
              "    .dataframe tbody tr th:only-of-type {\n",
              "        vertical-align: middle;\n",
              "    }\n",
              "\n",
              "    .dataframe tbody tr th {\n",
              "        vertical-align: top;\n",
              "    }\n",
              "\n",
              "    .dataframe thead th {\n",
              "        text-align: right;\n",
              "    }\n",
              "</style>\n",
              "<table border=\"1\" class=\"dataframe\">\n",
              "  <thead>\n",
              "    <tr style=\"text-align: right;\">\n",
              "      <th></th>\n",
              "      <th>filename</th>\n",
              "      <th>segmented</th>\n",
              "      <th>width</th>\n",
              "      <th>height</th>\n",
              "      <th>depth</th>\n",
              "      <th>name</th>\n",
              "      <th>pose</th>\n",
              "      <th>truncated</th>\n",
              "      <th>occluded</th>\n",
              "      <th>difficult</th>\n",
              "      <th>bndbox</th>\n",
              "    </tr>\n",
              "  </thead>\n",
              "  <tbody>\n",
              "    <tr>\n",
              "      <th>count</th>\n",
              "      <td>5026</td>\n",
              "      <td>5026</td>\n",
              "      <td>5026</td>\n",
              "      <td>5026</td>\n",
              "      <td>5026</td>\n",
              "      <td>5026</td>\n",
              "      <td>5026</td>\n",
              "      <td>5026</td>\n",
              "      <td>5026</td>\n",
              "      <td>5026</td>\n",
              "      <td>5026</td>\n",
              "    </tr>\n",
              "    <tr>\n",
              "      <th>unique</th>\n",
              "      <td>1002</td>\n",
              "      <td>1</td>\n",
              "      <td>40</td>\n",
              "      <td>105</td>\n",
              "      <td>1</td>\n",
              "      <td>3</td>\n",
              "      <td>1</td>\n",
              "      <td>1</td>\n",
              "      <td>1</td>\n",
              "      <td>1</td>\n",
              "      <td>5025</td>\n",
              "    </tr>\n",
              "    <tr>\n",
              "      <th>top</th>\n",
              "      <td>maksssksksss603.png</td>\n",
              "      <td>0</td>\n",
              "      <td>400</td>\n",
              "      <td>267</td>\n",
              "      <td>3</td>\n",
              "      <td>with_mask</td>\n",
              "      <td>Unspecified</td>\n",
              "      <td>0</td>\n",
              "      <td>0</td>\n",
              "      <td>0</td>\n",
              "      <td>{'xmin': '276', 'ymin': '115', 'xmax': '286', ...</td>\n",
              "    </tr>\n",
              "    <tr>\n",
              "      <th>freq</th>\n",
              "      <td>115</td>\n",
              "      <td>5026</td>\n",
              "      <td>3684</td>\n",
              "      <td>986</td>\n",
              "      <td>5026</td>\n",
              "      <td>4038</td>\n",
              "      <td>5026</td>\n",
              "      <td>5026</td>\n",
              "      <td>5026</td>\n",
              "      <td>5026</td>\n",
              "      <td>2</td>\n",
              "    </tr>\n",
              "  </tbody>\n",
              "</table>\n",
              "</div>"
            ],
            "text/plain": [
              "                   filename  ...                                             bndbox\n",
              "count                  5026  ...                                               5026\n",
              "unique                 1002  ...                                               5025\n",
              "top     maksssksksss603.png  ...  {'xmin': '276', 'ymin': '115', 'xmax': '286', ...\n",
              "freq                    115  ...                                                  2\n",
              "\n",
              "[4 rows x 11 columns]"
            ]
          },
          "metadata": {
            "tags": []
          },
          "execution_count": 188
        }
      ]
    },
    {
      "cell_type": "code",
      "metadata": {
        "id": "P4VchV4SzQ2w"
      },
      "source": [
        "processing_data = data.drop(columns='segmented', inplace=False)\r\n",
        "processing_data = processing_data.drop(columns='truncated', inplace=False)\r\n",
        "processing_data = processing_data.drop(columns='occluded', inplace=False)\r\n",
        "processing_data = processing_data.drop(columns='difficult', inplace=False)\r\n",
        "processing_data = processing_data.drop(columns='pose', inplace=False)"
      ],
      "execution_count": 189,
      "outputs": []
    },
    {
      "cell_type": "code",
      "metadata": {
        "colab": {
          "base_uri": "https://localhost:8080/",
          "height": 402
        },
        "id": "oSJI3r1M1xh0",
        "outputId": "1d6d71cd-fc62-4f0b-b87b-e72b687c51d1"
      },
      "source": [
        "processing_data"
      ],
      "execution_count": 190,
      "outputs": [
        {
          "output_type": "execute_result",
          "data": {
            "text/html": [
              "<div>\n",
              "<style scoped>\n",
              "    .dataframe tbody tr th:only-of-type {\n",
              "        vertical-align: middle;\n",
              "    }\n",
              "\n",
              "    .dataframe tbody tr th {\n",
              "        vertical-align: top;\n",
              "    }\n",
              "\n",
              "    .dataframe thead th {\n",
              "        text-align: right;\n",
              "    }\n",
              "</style>\n",
              "<table border=\"1\" class=\"dataframe\">\n",
              "  <thead>\n",
              "    <tr style=\"text-align: right;\">\n",
              "      <th></th>\n",
              "      <th>filename</th>\n",
              "      <th>width</th>\n",
              "      <th>height</th>\n",
              "      <th>depth</th>\n",
              "      <th>name</th>\n",
              "      <th>bndbox</th>\n",
              "    </tr>\n",
              "  </thead>\n",
              "  <tbody>\n",
              "    <tr>\n",
              "      <th>0</th>\n",
              "      <td>maksssksksss0.png</td>\n",
              "      <td>512</td>\n",
              "      <td>366</td>\n",
              "      <td>3</td>\n",
              "      <td>without_mask</td>\n",
              "      <td>{'xmin': '79', 'ymin': '105', 'xmax': '109', '...</td>\n",
              "    </tr>\n",
              "    <tr>\n",
              "      <th>1</th>\n",
              "      <td>maksssksksss0.png</td>\n",
              "      <td>512</td>\n",
              "      <td>366</td>\n",
              "      <td>3</td>\n",
              "      <td>with_mask</td>\n",
              "      <td>{'xmin': '185', 'ymin': '100', 'xmax': '226', ...</td>\n",
              "    </tr>\n",
              "    <tr>\n",
              "      <th>2</th>\n",
              "      <td>maksssksksss0.png</td>\n",
              "      <td>512</td>\n",
              "      <td>366</td>\n",
              "      <td>3</td>\n",
              "      <td>without_mask</td>\n",
              "      <td>{'xmin': '325', 'ymin': '90', 'xmax': '360', '...</td>\n",
              "    </tr>\n",
              "    <tr>\n",
              "      <th>3</th>\n",
              "      <td>maksssksksss1.png</td>\n",
              "      <td>400</td>\n",
              "      <td>156</td>\n",
              "      <td>3</td>\n",
              "      <td>with_mask</td>\n",
              "      <td>{'xmin': '321', 'ymin': '34', 'xmax': '354', '...</td>\n",
              "    </tr>\n",
              "    <tr>\n",
              "      <th>4</th>\n",
              "      <td>maksssksksss1.png</td>\n",
              "      <td>400</td>\n",
              "      <td>156</td>\n",
              "      <td>3</td>\n",
              "      <td>with_mask</td>\n",
              "      <td>{'xmin': '224', 'ymin': '38', 'xmax': '261', '...</td>\n",
              "    </tr>\n",
              "    <tr>\n",
              "      <th>...</th>\n",
              "      <td>...</td>\n",
              "      <td>...</td>\n",
              "      <td>...</td>\n",
              "      <td>...</td>\n",
              "      <td>...</td>\n",
              "      <td>...</td>\n",
              "    </tr>\n",
              "    <tr>\n",
              "      <th>5021</th>\n",
              "      <td>shutterstock_editorial_10536831j_2e16d0ba_fill...</td>\n",
              "      <td>416</td>\n",
              "      <td>416</td>\n",
              "      <td>3</td>\n",
              "      <td>with_mask</td>\n",
              "      <td>{'xmin': '175', 'xmax': '193', 'ymin': '188', ...</td>\n",
              "    </tr>\n",
              "    <tr>\n",
              "      <th>5022</th>\n",
              "      <td>shutterstock_editorial_10536831j_2e16d0ba_fill...</td>\n",
              "      <td>416</td>\n",
              "      <td>416</td>\n",
              "      <td>3</td>\n",
              "      <td>with_mask</td>\n",
              "      <td>{'xmin': '212', 'xmax': '235', 'ymin': '192', ...</td>\n",
              "    </tr>\n",
              "    <tr>\n",
              "      <th>5023</th>\n",
              "      <td>shutterstock_editorial_10536831j_2e16d0ba_fill...</td>\n",
              "      <td>416</td>\n",
              "      <td>416</td>\n",
              "      <td>3</td>\n",
              "      <td>with_mask</td>\n",
              "      <td>{'xmin': '192', 'xmax': '234', 'ymin': '208', ...</td>\n",
              "    </tr>\n",
              "    <tr>\n",
              "      <th>5024</th>\n",
              "      <td>shutterstock_editorial_10536831j_2e16d0ba_fill...</td>\n",
              "      <td>416</td>\n",
              "      <td>416</td>\n",
              "      <td>3</td>\n",
              "      <td>with_mask</td>\n",
              "      <td>{'xmin': '256', 'xmax': '280', 'ymin': '189', ...</td>\n",
              "    </tr>\n",
              "    <tr>\n",
              "      <th>5025</th>\n",
              "      <td>shutterstock_editorial_10536831j_2e16d0ba_fill...</td>\n",
              "      <td>416</td>\n",
              "      <td>416</td>\n",
              "      <td>3</td>\n",
              "      <td>with_mask</td>\n",
              "      <td>{'xmin': '280', 'xmax': '360', 'ymin': '188', ...</td>\n",
              "    </tr>\n",
              "  </tbody>\n",
              "</table>\n",
              "<p>5026 rows × 6 columns</p>\n",
              "</div>"
            ],
            "text/plain": [
              "                                               filename  ...                                             bndbox\n",
              "0                                     maksssksksss0.png  ...  {'xmin': '79', 'ymin': '105', 'xmax': '109', '...\n",
              "1                                     maksssksksss0.png  ...  {'xmin': '185', 'ymin': '100', 'xmax': '226', ...\n",
              "2                                     maksssksksss0.png  ...  {'xmin': '325', 'ymin': '90', 'xmax': '360', '...\n",
              "3                                     maksssksksss1.png  ...  {'xmin': '321', 'ymin': '34', 'xmax': '354', '...\n",
              "4                                     maksssksksss1.png  ...  {'xmin': '224', 'ymin': '38', 'xmax': '261', '...\n",
              "...                                                 ...  ...                                                ...\n",
              "5021  shutterstock_editorial_10536831j_2e16d0ba_fill...  ...  {'xmin': '175', 'xmax': '193', 'ymin': '188', ...\n",
              "5022  shutterstock_editorial_10536831j_2e16d0ba_fill...  ...  {'xmin': '212', 'xmax': '235', 'ymin': '192', ...\n",
              "5023  shutterstock_editorial_10536831j_2e16d0ba_fill...  ...  {'xmin': '192', 'xmax': '234', 'ymin': '208', ...\n",
              "5024  shutterstock_editorial_10536831j_2e16d0ba_fill...  ...  {'xmin': '256', 'xmax': '280', 'ymin': '189', ...\n",
              "5025  shutterstock_editorial_10536831j_2e16d0ba_fill...  ...  {'xmin': '280', 'xmax': '360', 'ymin': '188', ...\n",
              "\n",
              "[5026 rows x 6 columns]"
            ]
          },
          "metadata": {
            "tags": []
          },
          "execution_count": 190
        }
      ]
    },
    {
      "cell_type": "code",
      "metadata": {
        "colab": {
          "base_uri": "https://localhost:8080/",
          "height": 402
        },
        "id": "4368B7Un1zeh",
        "outputId": "a1f231c2-dee9-4cea-8545-63e0e539b5f3"
      },
      "source": [
        "objects = pd.DataFrame(processing_data.bndbox.map(dict).tolist())\r\n",
        "objects\r\n",
        "# data = pd.concat([image_data, objects], axis=1)\r\n",
        "# data.drop(columns='object', inplace=True)"
      ],
      "execution_count": 191,
      "outputs": [
        {
          "output_type": "execute_result",
          "data": {
            "text/html": [
              "<div>\n",
              "<style scoped>\n",
              "    .dataframe tbody tr th:only-of-type {\n",
              "        vertical-align: middle;\n",
              "    }\n",
              "\n",
              "    .dataframe tbody tr th {\n",
              "        vertical-align: top;\n",
              "    }\n",
              "\n",
              "    .dataframe thead th {\n",
              "        text-align: right;\n",
              "    }\n",
              "</style>\n",
              "<table border=\"1\" class=\"dataframe\">\n",
              "  <thead>\n",
              "    <tr style=\"text-align: right;\">\n",
              "      <th></th>\n",
              "      <th>xmin</th>\n",
              "      <th>ymin</th>\n",
              "      <th>xmax</th>\n",
              "      <th>ymax</th>\n",
              "    </tr>\n",
              "  </thead>\n",
              "  <tbody>\n",
              "    <tr>\n",
              "      <th>0</th>\n",
              "      <td>79</td>\n",
              "      <td>105</td>\n",
              "      <td>109</td>\n",
              "      <td>142</td>\n",
              "    </tr>\n",
              "    <tr>\n",
              "      <th>1</th>\n",
              "      <td>185</td>\n",
              "      <td>100</td>\n",
              "      <td>226</td>\n",
              "      <td>144</td>\n",
              "    </tr>\n",
              "    <tr>\n",
              "      <th>2</th>\n",
              "      <td>325</td>\n",
              "      <td>90</td>\n",
              "      <td>360</td>\n",
              "      <td>141</td>\n",
              "    </tr>\n",
              "    <tr>\n",
              "      <th>3</th>\n",
              "      <td>321</td>\n",
              "      <td>34</td>\n",
              "      <td>354</td>\n",
              "      <td>69</td>\n",
              "    </tr>\n",
              "    <tr>\n",
              "      <th>4</th>\n",
              "      <td>224</td>\n",
              "      <td>38</td>\n",
              "      <td>261</td>\n",
              "      <td>73</td>\n",
              "    </tr>\n",
              "    <tr>\n",
              "      <th>...</th>\n",
              "      <td>...</td>\n",
              "      <td>...</td>\n",
              "      <td>...</td>\n",
              "      <td>...</td>\n",
              "    </tr>\n",
              "    <tr>\n",
              "      <th>5021</th>\n",
              "      <td>175</td>\n",
              "      <td>188</td>\n",
              "      <td>193</td>\n",
              "      <td>206</td>\n",
              "    </tr>\n",
              "    <tr>\n",
              "      <th>5022</th>\n",
              "      <td>212</td>\n",
              "      <td>192</td>\n",
              "      <td>235</td>\n",
              "      <td>215</td>\n",
              "    </tr>\n",
              "    <tr>\n",
              "      <th>5023</th>\n",
              "      <td>192</td>\n",
              "      <td>208</td>\n",
              "      <td>234</td>\n",
              "      <td>253</td>\n",
              "    </tr>\n",
              "    <tr>\n",
              "      <th>5024</th>\n",
              "      <td>256</td>\n",
              "      <td>189</td>\n",
              "      <td>280</td>\n",
              "      <td>218</td>\n",
              "    </tr>\n",
              "    <tr>\n",
              "      <th>5025</th>\n",
              "      <td>280</td>\n",
              "      <td>188</td>\n",
              "      <td>360</td>\n",
              "      <td>284</td>\n",
              "    </tr>\n",
              "  </tbody>\n",
              "</table>\n",
              "<p>5026 rows × 4 columns</p>\n",
              "</div>"
            ],
            "text/plain": [
              "     xmin ymin xmax ymax\n",
              "0      79  105  109  142\n",
              "1     185  100  226  144\n",
              "2     325   90  360  141\n",
              "3     321   34  354   69\n",
              "4     224   38  261   73\n",
              "...   ...  ...  ...  ...\n",
              "5021  175  188  193  206\n",
              "5022  212  192  235  215\n",
              "5023  192  208  234  253\n",
              "5024  256  189  280  218\n",
              "5025  280  188  360  284\n",
              "\n",
              "[5026 rows x 4 columns]"
            ]
          },
          "metadata": {
            "tags": []
          },
          "execution_count": 191
        }
      ]
    },
    {
      "cell_type": "code",
      "metadata": {
        "id": "r0Q756UB2GlP"
      },
      "source": [
        "processing_data_box = pd.concat([processing_data, objects], axis=1)\r\n",
        "processing_data_box.drop(columns='bndbox', inplace=True)"
      ],
      "execution_count": 192,
      "outputs": []
    },
    {
      "cell_type": "code",
      "metadata": {
        "colab": {
          "base_uri": "https://localhost:8080/",
          "height": 402
        },
        "id": "BCJuv1rZ2ZyH",
        "outputId": "d734daab-f0f8-49ea-990c-fa15b8670148"
      },
      "source": [
        "processing_data_box"
      ],
      "execution_count": 193,
      "outputs": [
        {
          "output_type": "execute_result",
          "data": {
            "text/html": [
              "<div>\n",
              "<style scoped>\n",
              "    .dataframe tbody tr th:only-of-type {\n",
              "        vertical-align: middle;\n",
              "    }\n",
              "\n",
              "    .dataframe tbody tr th {\n",
              "        vertical-align: top;\n",
              "    }\n",
              "\n",
              "    .dataframe thead th {\n",
              "        text-align: right;\n",
              "    }\n",
              "</style>\n",
              "<table border=\"1\" class=\"dataframe\">\n",
              "  <thead>\n",
              "    <tr style=\"text-align: right;\">\n",
              "      <th></th>\n",
              "      <th>filename</th>\n",
              "      <th>width</th>\n",
              "      <th>height</th>\n",
              "      <th>depth</th>\n",
              "      <th>name</th>\n",
              "      <th>xmin</th>\n",
              "      <th>ymin</th>\n",
              "      <th>xmax</th>\n",
              "      <th>ymax</th>\n",
              "    </tr>\n",
              "  </thead>\n",
              "  <tbody>\n",
              "    <tr>\n",
              "      <th>0</th>\n",
              "      <td>maksssksksss0.png</td>\n",
              "      <td>512</td>\n",
              "      <td>366</td>\n",
              "      <td>3</td>\n",
              "      <td>without_mask</td>\n",
              "      <td>79</td>\n",
              "      <td>105</td>\n",
              "      <td>109</td>\n",
              "      <td>142</td>\n",
              "    </tr>\n",
              "    <tr>\n",
              "      <th>1</th>\n",
              "      <td>maksssksksss0.png</td>\n",
              "      <td>512</td>\n",
              "      <td>366</td>\n",
              "      <td>3</td>\n",
              "      <td>with_mask</td>\n",
              "      <td>185</td>\n",
              "      <td>100</td>\n",
              "      <td>226</td>\n",
              "      <td>144</td>\n",
              "    </tr>\n",
              "    <tr>\n",
              "      <th>2</th>\n",
              "      <td>maksssksksss0.png</td>\n",
              "      <td>512</td>\n",
              "      <td>366</td>\n",
              "      <td>3</td>\n",
              "      <td>without_mask</td>\n",
              "      <td>325</td>\n",
              "      <td>90</td>\n",
              "      <td>360</td>\n",
              "      <td>141</td>\n",
              "    </tr>\n",
              "    <tr>\n",
              "      <th>3</th>\n",
              "      <td>maksssksksss1.png</td>\n",
              "      <td>400</td>\n",
              "      <td>156</td>\n",
              "      <td>3</td>\n",
              "      <td>with_mask</td>\n",
              "      <td>321</td>\n",
              "      <td>34</td>\n",
              "      <td>354</td>\n",
              "      <td>69</td>\n",
              "    </tr>\n",
              "    <tr>\n",
              "      <th>4</th>\n",
              "      <td>maksssksksss1.png</td>\n",
              "      <td>400</td>\n",
              "      <td>156</td>\n",
              "      <td>3</td>\n",
              "      <td>with_mask</td>\n",
              "      <td>224</td>\n",
              "      <td>38</td>\n",
              "      <td>261</td>\n",
              "      <td>73</td>\n",
              "    </tr>\n",
              "    <tr>\n",
              "      <th>...</th>\n",
              "      <td>...</td>\n",
              "      <td>...</td>\n",
              "      <td>...</td>\n",
              "      <td>...</td>\n",
              "      <td>...</td>\n",
              "      <td>...</td>\n",
              "      <td>...</td>\n",
              "      <td>...</td>\n",
              "      <td>...</td>\n",
              "    </tr>\n",
              "    <tr>\n",
              "      <th>5021</th>\n",
              "      <td>shutterstock_editorial_10536831j_2e16d0ba_fill...</td>\n",
              "      <td>416</td>\n",
              "      <td>416</td>\n",
              "      <td>3</td>\n",
              "      <td>with_mask</td>\n",
              "      <td>175</td>\n",
              "      <td>188</td>\n",
              "      <td>193</td>\n",
              "      <td>206</td>\n",
              "    </tr>\n",
              "    <tr>\n",
              "      <th>5022</th>\n",
              "      <td>shutterstock_editorial_10536831j_2e16d0ba_fill...</td>\n",
              "      <td>416</td>\n",
              "      <td>416</td>\n",
              "      <td>3</td>\n",
              "      <td>with_mask</td>\n",
              "      <td>212</td>\n",
              "      <td>192</td>\n",
              "      <td>235</td>\n",
              "      <td>215</td>\n",
              "    </tr>\n",
              "    <tr>\n",
              "      <th>5023</th>\n",
              "      <td>shutterstock_editorial_10536831j_2e16d0ba_fill...</td>\n",
              "      <td>416</td>\n",
              "      <td>416</td>\n",
              "      <td>3</td>\n",
              "      <td>with_mask</td>\n",
              "      <td>192</td>\n",
              "      <td>208</td>\n",
              "      <td>234</td>\n",
              "      <td>253</td>\n",
              "    </tr>\n",
              "    <tr>\n",
              "      <th>5024</th>\n",
              "      <td>shutterstock_editorial_10536831j_2e16d0ba_fill...</td>\n",
              "      <td>416</td>\n",
              "      <td>416</td>\n",
              "      <td>3</td>\n",
              "      <td>with_mask</td>\n",
              "      <td>256</td>\n",
              "      <td>189</td>\n",
              "      <td>280</td>\n",
              "      <td>218</td>\n",
              "    </tr>\n",
              "    <tr>\n",
              "      <th>5025</th>\n",
              "      <td>shutterstock_editorial_10536831j_2e16d0ba_fill...</td>\n",
              "      <td>416</td>\n",
              "      <td>416</td>\n",
              "      <td>3</td>\n",
              "      <td>with_mask</td>\n",
              "      <td>280</td>\n",
              "      <td>188</td>\n",
              "      <td>360</td>\n",
              "      <td>284</td>\n",
              "    </tr>\n",
              "  </tbody>\n",
              "</table>\n",
              "<p>5026 rows × 9 columns</p>\n",
              "</div>"
            ],
            "text/plain": [
              "                                               filename width  ... xmax ymax\n",
              "0                                     maksssksksss0.png   512  ...  109  142\n",
              "1                                     maksssksksss0.png   512  ...  226  144\n",
              "2                                     maksssksksss0.png   512  ...  360  141\n",
              "3                                     maksssksksss1.png   400  ...  354   69\n",
              "4                                     maksssksksss1.png   400  ...  261   73\n",
              "...                                                 ...   ...  ...  ...  ...\n",
              "5021  shutterstock_editorial_10536831j_2e16d0ba_fill...   416  ...  193  206\n",
              "5022  shutterstock_editorial_10536831j_2e16d0ba_fill...   416  ...  235  215\n",
              "5023  shutterstock_editorial_10536831j_2e16d0ba_fill...   416  ...  234  253\n",
              "5024  shutterstock_editorial_10536831j_2e16d0ba_fill...   416  ...  280  218\n",
              "5025  shutterstock_editorial_10536831j_2e16d0ba_fill...   416  ...  360  284\n",
              "\n",
              "[5026 rows x 9 columns]"
            ]
          },
          "metadata": {
            "tags": []
          },
          "execution_count": 193
        }
      ]
    },
    {
      "cell_type": "code",
      "metadata": {
        "id": "cIIsP6i62axV"
      },
      "source": [
        "processing_data_box.to_csv('data.csv', index=False)"
      ],
      "execution_count": 194,
      "outputs": []
    },
    {
      "cell_type": "code",
      "metadata": {
        "id": "35thl4A52oEd"
      },
      "source": [
        "data = pd.read_csv('data.csv')"
      ],
      "execution_count": 195,
      "outputs": []
    },
    {
      "cell_type": "code",
      "metadata": {
        "colab": {
          "base_uri": "https://localhost:8080/",
          "height": 284
        },
        "id": "tkG6eoLC2tBS",
        "outputId": "ae53b682-926e-4bbd-b07c-14012211b47a"
      },
      "source": [
        "data.describe()"
      ],
      "execution_count": 211,
      "outputs": [
        {
          "output_type": "execute_result",
          "data": {
            "text/html": [
              "<div>\n",
              "<style scoped>\n",
              "    .dataframe tbody tr th:only-of-type {\n",
              "        vertical-align: middle;\n",
              "    }\n",
              "\n",
              "    .dataframe tbody tr th {\n",
              "        vertical-align: top;\n",
              "    }\n",
              "\n",
              "    .dataframe thead th {\n",
              "        text-align: right;\n",
              "    }\n",
              "</style>\n",
              "<table border=\"1\" class=\"dataframe\">\n",
              "  <thead>\n",
              "    <tr style=\"text-align: right;\">\n",
              "      <th></th>\n",
              "      <th>width</th>\n",
              "      <th>height</th>\n",
              "      <th>depth</th>\n",
              "      <th>xmin</th>\n",
              "      <th>ymin</th>\n",
              "      <th>xmax</th>\n",
              "      <th>ymax</th>\n",
              "      <th>box_size</th>\n",
              "    </tr>\n",
              "  </thead>\n",
              "  <tbody>\n",
              "    <tr>\n",
              "      <th>count</th>\n",
              "      <td>5026.000000</td>\n",
              "      <td>5026.000000</td>\n",
              "      <td>5026.0</td>\n",
              "      <td>5026.000000</td>\n",
              "      <td>5026.000000</td>\n",
              "      <td>5026.000000</td>\n",
              "      <td>5026.000000</td>\n",
              "      <td>5026.000000</td>\n",
              "    </tr>\n",
              "    <tr>\n",
              "      <th>mean</th>\n",
              "      <td>397.935137</td>\n",
              "      <td>297.812973</td>\n",
              "      <td>3.0</td>\n",
              "      <td>183.657979</td>\n",
              "      <td>95.252487</td>\n",
              "      <td>216.796060</td>\n",
              "      <td>133.351771</td>\n",
              "      <td>2224.024075</td>\n",
              "    </tr>\n",
              "    <tr>\n",
              "      <th>std</th>\n",
              "      <td>33.051213</td>\n",
              "      <td>74.111918</td>\n",
              "      <td>0.0</td>\n",
              "      <td>105.297179</td>\n",
              "      <td>55.952465</td>\n",
              "      <td>104.059338</td>\n",
              "      <td>72.673990</td>\n",
              "      <td>5009.785204</td>\n",
              "    </tr>\n",
              "    <tr>\n",
              "      <th>min</th>\n",
              "      <td>193.000000</td>\n",
              "      <td>156.000000</td>\n",
              "      <td>3.0</td>\n",
              "      <td>1.000000</td>\n",
              "      <td>1.000000</td>\n",
              "      <td>8.000000</td>\n",
              "      <td>6.000000</td>\n",
              "      <td>0.000000</td>\n",
              "    </tr>\n",
              "    <tr>\n",
              "      <th>25%</th>\n",
              "      <td>400.000000</td>\n",
              "      <td>226.000000</td>\n",
              "      <td>3.0</td>\n",
              "      <td>96.000000</td>\n",
              "      <td>54.000000</td>\n",
              "      <td>135.000000</td>\n",
              "      <td>81.000000</td>\n",
              "      <td>255.000000</td>\n",
              "    </tr>\n",
              "    <tr>\n",
              "      <th>50%</th>\n",
              "      <td>400.000000</td>\n",
              "      <td>267.000000</td>\n",
              "      <td>3.0</td>\n",
              "      <td>179.500000</td>\n",
              "      <td>85.000000</td>\n",
              "      <td>216.000000</td>\n",
              "      <td>119.000000</td>\n",
              "      <td>621.000000</td>\n",
              "    </tr>\n",
              "    <tr>\n",
              "      <th>75%</th>\n",
              "      <td>400.000000</td>\n",
              "      <td>400.000000</td>\n",
              "      <td>3.0</td>\n",
              "      <td>268.000000</td>\n",
              "      <td>126.000000</td>\n",
              "      <td>297.000000</td>\n",
              "      <td>172.000000</td>\n",
              "      <td>1767.000000</td>\n",
              "    </tr>\n",
              "    <tr>\n",
              "      <th>max</th>\n",
              "      <td>600.000000</td>\n",
              "      <td>600.000000</td>\n",
              "      <td>3.0</td>\n",
              "      <td>569.000000</td>\n",
              "      <td>330.000000</td>\n",
              "      <td>592.000000</td>\n",
              "      <td>495.000000</td>\n",
              "      <td>106829.000000</td>\n",
              "    </tr>\n",
              "  </tbody>\n",
              "</table>\n",
              "</div>"
            ],
            "text/plain": [
              "             width       height  ...         ymax       box_size\n",
              "count  5026.000000  5026.000000  ...  5026.000000    5026.000000\n",
              "mean    397.935137   297.812973  ...   133.351771    2224.024075\n",
              "std      33.051213    74.111918  ...    72.673990    5009.785204\n",
              "min     193.000000   156.000000  ...     6.000000       0.000000\n",
              "25%     400.000000   226.000000  ...    81.000000     255.000000\n",
              "50%     400.000000   267.000000  ...   119.000000     621.000000\n",
              "75%     400.000000   400.000000  ...   172.000000    1767.000000\n",
              "max     600.000000   600.000000  ...   495.000000  106829.000000\n",
              "\n",
              "[8 rows x 8 columns]"
            ]
          },
          "metadata": {
            "tags": []
          },
          "execution_count": 211
        }
      ]
    },
    {
      "cell_type": "code",
      "metadata": {
        "colab": {
          "base_uri": "https://localhost:8080/"
        },
        "id": "malame1o2vB1",
        "outputId": "0e76fcd2-d171-4ab4-9d8a-a36b6aad4d14"
      },
      "source": [
        "data.info"
      ],
      "execution_count": 197,
      "outputs": [
        {
          "output_type": "execute_result",
          "data": {
            "text/plain": [
              "<bound method DataFrame.info of                                                filename  width  ...  xmax  ymax\n",
              "0                                     maksssksksss0.png    512  ...   109   142\n",
              "1                                     maksssksksss0.png    512  ...   226   144\n",
              "2                                     maksssksksss0.png    512  ...   360   141\n",
              "3                                     maksssksksss1.png    400  ...   354    69\n",
              "4                                     maksssksksss1.png    400  ...   261    73\n",
              "...                                                 ...    ...  ...   ...   ...\n",
              "5021  shutterstock_editorial_10536831j_2e16d0ba_fill...    416  ...   193   206\n",
              "5022  shutterstock_editorial_10536831j_2e16d0ba_fill...    416  ...   235   215\n",
              "5023  shutterstock_editorial_10536831j_2e16d0ba_fill...    416  ...   234   253\n",
              "5024  shutterstock_editorial_10536831j_2e16d0ba_fill...    416  ...   280   218\n",
              "5025  shutterstock_editorial_10536831j_2e16d0ba_fill...    416  ...   360   284\n",
              "\n",
              "[5026 rows x 9 columns]>"
            ]
          },
          "metadata": {
            "tags": []
          },
          "execution_count": 197
        }
      ]
    },
    {
      "cell_type": "code",
      "metadata": {
        "colab": {
          "base_uri": "https://localhost:8080/",
          "height": 195
        },
        "id": "jjp1uLwX4Dfa",
        "outputId": "7317bb12-bd37-4da1-c180-3123ed542585"
      },
      "source": [
        "data.head()"
      ],
      "execution_count": 206,
      "outputs": [
        {
          "output_type": "execute_result",
          "data": {
            "text/html": [
              "<div>\n",
              "<style scoped>\n",
              "    .dataframe tbody tr th:only-of-type {\n",
              "        vertical-align: middle;\n",
              "    }\n",
              "\n",
              "    .dataframe tbody tr th {\n",
              "        vertical-align: top;\n",
              "    }\n",
              "\n",
              "    .dataframe thead th {\n",
              "        text-align: right;\n",
              "    }\n",
              "</style>\n",
              "<table border=\"1\" class=\"dataframe\">\n",
              "  <thead>\n",
              "    <tr style=\"text-align: right;\">\n",
              "      <th></th>\n",
              "      <th>filename</th>\n",
              "      <th>width</th>\n",
              "      <th>height</th>\n",
              "      <th>depth</th>\n",
              "      <th>name</th>\n",
              "      <th>xmin</th>\n",
              "      <th>ymin</th>\n",
              "      <th>xmax</th>\n",
              "      <th>ymax</th>\n",
              "      <th>box_size</th>\n",
              "    </tr>\n",
              "  </thead>\n",
              "  <tbody>\n",
              "    <tr>\n",
              "      <th>0</th>\n",
              "      <td>maksssksksss0.png</td>\n",
              "      <td>512</td>\n",
              "      <td>366</td>\n",
              "      <td>3</td>\n",
              "      <td>without_mask</td>\n",
              "      <td>79</td>\n",
              "      <td>105</td>\n",
              "      <td>109</td>\n",
              "      <td>142</td>\n",
              "      <td>1110</td>\n",
              "    </tr>\n",
              "    <tr>\n",
              "      <th>1</th>\n",
              "      <td>maksssksksss0.png</td>\n",
              "      <td>512</td>\n",
              "      <td>366</td>\n",
              "      <td>3</td>\n",
              "      <td>with_mask</td>\n",
              "      <td>185</td>\n",
              "      <td>100</td>\n",
              "      <td>226</td>\n",
              "      <td>144</td>\n",
              "      <td>1804</td>\n",
              "    </tr>\n",
              "    <tr>\n",
              "      <th>2</th>\n",
              "      <td>maksssksksss0.png</td>\n",
              "      <td>512</td>\n",
              "      <td>366</td>\n",
              "      <td>3</td>\n",
              "      <td>without_mask</td>\n",
              "      <td>325</td>\n",
              "      <td>90</td>\n",
              "      <td>360</td>\n",
              "      <td>141</td>\n",
              "      <td>1785</td>\n",
              "    </tr>\n",
              "    <tr>\n",
              "      <th>3</th>\n",
              "      <td>maksssksksss1.png</td>\n",
              "      <td>400</td>\n",
              "      <td>156</td>\n",
              "      <td>3</td>\n",
              "      <td>with_mask</td>\n",
              "      <td>321</td>\n",
              "      <td>34</td>\n",
              "      <td>354</td>\n",
              "      <td>69</td>\n",
              "      <td>1155</td>\n",
              "    </tr>\n",
              "    <tr>\n",
              "      <th>4</th>\n",
              "      <td>maksssksksss1.png</td>\n",
              "      <td>400</td>\n",
              "      <td>156</td>\n",
              "      <td>3</td>\n",
              "      <td>with_mask</td>\n",
              "      <td>224</td>\n",
              "      <td>38</td>\n",
              "      <td>261</td>\n",
              "      <td>73</td>\n",
              "      <td>1295</td>\n",
              "    </tr>\n",
              "  </tbody>\n",
              "</table>\n",
              "</div>"
            ],
            "text/plain": [
              "            filename  width  height  depth  ... ymin  xmax  ymax  box_size\n",
              "0  maksssksksss0.png    512     366      3  ...  105   109   142      1110\n",
              "1  maksssksksss0.png    512     366      3  ...  100   226   144      1804\n",
              "2  maksssksksss0.png    512     366      3  ...   90   360   141      1785\n",
              "3  maksssksksss1.png    400     156      3  ...   34   354    69      1155\n",
              "4  maksssksksss1.png    400     156      3  ...   38   261    73      1295\n",
              "\n",
              "[5 rows x 10 columns]"
            ]
          },
          "metadata": {
            "tags": []
          },
          "execution_count": 206
        }
      ]
    },
    {
      "cell_type": "code",
      "metadata": {
        "id": "lLEUwzUw4U-4"
      },
      "source": [
        "data['box_size'] = (data.xmax-data.xmin)*(data.ymax-data.ymin)"
      ],
      "execution_count": 205,
      "outputs": []
    },
    {
      "cell_type": "code",
      "metadata": {
        "colab": {
          "base_uri": "https://localhost:8080/",
          "height": 614
        },
        "id": "MNzhnm264GxS",
        "outputId": "a69a4c5d-76f1-4ff7-867a-2a132052a0bf"
      },
      "source": [
        "plt.figure(figsize=(20, 10))\r\n",
        "sns.countplot(data.name)\r\n",
        "plt.show()"
      ],
      "execution_count": 199,
      "outputs": [
        {
          "output_type": "stream",
          "text": [
            "/usr/local/lib/python3.6/dist-packages/seaborn/_decorators.py:43: FutureWarning: Pass the following variable as a keyword arg: x. From version 0.12, the only valid positional argument will be `data`, and passing other arguments without an explicit keyword will result in an error or misinterpretation.\n",
            "  FutureWarning\n"
          ],
          "name": "stderr"
        },
        {
          "output_type": "display_data",
          "data": {
            "image/png": "[encoded data removed]",
            "text/plain": [
              "<Figure size 1440x720 with 1 Axes>"
            ]
          },
          "metadata": {
            "tags": [],
            "needs_background": "light"
          }
        }
      ]
    },
    {
      "cell_type": "code",
      "metadata": {
        "id": "hBeohy_c55Za"
      },
      "source": [
        ""
      ],
      "execution_count": null,
      "outputs": []
    },
    {
      "cell_type": "code",
      "metadata": {
        "id": "17Jt1WTHI7Ta",
        "colab": {
          "base_uri": "https://localhost:8080/",
          "height": 655
        },
        "outputId": "f20c48ce-0d26-4eab-d51b-b58f45043b48"
      },
      "source": [
        "plt.figure(figsize=(20, 10))\r\n",
        "ax = sns.distplot(data.box_size, rug = True, kde = False)\r\n",
        "\r\n",
        "plt.show()"
      ],
      "execution_count": 227,
      "outputs": [
        {
          "output_type": "stream",
          "text": [
            "/usr/local/lib/python3.6/dist-packages/seaborn/distributions.py:2557: FutureWarning: `distplot` is a deprecated function and will be removed in a future version. Please adapt your code to use either `displot` (a figure-level function with similar flexibility) or `histplot` (an axes-level function for histograms).\n",
            "  warnings.warn(msg, FutureWarning)\n",
            "/usr/local/lib/python3.6/dist-packages/seaborn/distributions.py:2056: FutureWarning: The `axis` variable is no longer used and will be removed. Instead, assign variables directly to `x` or `y`.\n",
            "  warnings.warn(msg, FutureWarning)\n"
          ],
          "name": "stderr"
        },
        {
          "output_type": "display_data",
          "data": {
            "image/png": "[encoded data removed]",
            "text/plain": [
              "<Figure size 1440x720 with 1 Axes>"
            ]
          },
          "metadata": {
            "tags": [],
            "needs_background": "light"
          }
        }
      ]
    },
    {
      "cell_type": "code",
      "metadata": {
        "id": "BEAXheUr2uLn"
      },
      "source": [
        ""
      ],
      "execution_count": null,
      "outputs": []
    }
  ]
}