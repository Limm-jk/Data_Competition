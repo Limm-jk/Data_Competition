{
  "nbformat": 4,
  "nbformat_minor": 0,
  "metadata": {
    "colab": {
      "name": "Mask_Detection_with_YOLO/Darkflow.ipynb",
      "provenance": [],
      "collapsed_sections": []
    },
    "kernelspec": {
      "name": "python3",
      "display_name": "Python 3"
    },
    "accelerator": "GPU",
    "widgets": {
      "application/vnd.jupyter.widget-state+json": {
        "3bfeab6b4f5f477287cb13c2a00e7cb1": {
          "model_module": "@jupyter-widgets/controls",
          "model_name": "HBoxModel",
          "state": {
            "_view_name": "HBoxView",
            "_dom_classes": [],
            "_model_name": "HBoxModel",
            "_view_module": "@jupyter-widgets/controls",
            "_model_module_version": "1.5.0",
            "_view_count": null,
            "_view_module_version": "1.5.0",
            "box_style": "",
            "layout": "IPY_MODEL_c47ed9ecfe274314a397dd4efe7e85ec",
            "_model_module": "@jupyter-widgets/controls",
            "children": [
              "IPY_MODEL_1fe93d40417c48eca6ba7d7b7dccd846",
              "IPY_MODEL_7fa333be1dcd4bce8331d902e7e9d9f3"
            ]
          }
        },
        "c47ed9ecfe274314a397dd4efe7e85ec": {
          "model_module": "@jupyter-widgets/base",
          "model_name": "LayoutModel",
          "state": {
            "_view_name": "LayoutView",
            "grid_template_rows": null,
            "right": null,
            "justify_content": null,
            "_view_module": "@jupyter-widgets/base",
            "overflow": null,
            "_model_module_version": "1.2.0",
            "_view_count": null,
            "flex_flow": null,
            "width": null,
            "min_width": null,
            "border": null,
            "align_items": null,
            "bottom": null,
            "_model_module": "@jupyter-widgets/base",
            "top": null,
            "grid_column": null,
            "overflow_y": null,
            "overflow_x": null,
            "grid_auto_flow": null,
            "grid_area": null,
            "grid_template_columns": null,
            "flex": null,
            "_model_name": "LayoutModel",
            "justify_items": null,
            "grid_row": null,
            "max_height": null,
            "align_content": null,
            "visibility": null,
            "align_self": null,
            "height": null,
            "min_height": null,
            "padding": null,
            "grid_auto_rows": null,
            "grid_gap": null,
            "max_width": null,
            "order": null,
            "_view_module_version": "1.2.0",
            "grid_template_areas": null,
            "object_position": null,
            "object_fit": null,
            "grid_auto_columns": null,
            "margin": null,
            "display": null,
            "left": null
          }
        },
        "1fe93d40417c48eca6ba7d7b7dccd846": {
          "model_module": "@jupyter-widgets/controls",
          "model_name": "FloatProgressModel",
          "state": {
            "_view_name": "ProgressView",
            "style": "IPY_MODEL_abb7b6e1596f4807a651bbb27fb9c039",
            "_dom_classes": [],
            "description": "100%",
            "_model_name": "FloatProgressModel",
            "bar_style": "success",
            "max": 853,
            "_view_module": "@jupyter-widgets/controls",
            "_model_module_version": "1.5.0",
            "value": 853,
            "_view_count": null,
            "_view_module_version": "1.5.0",
            "orientation": "horizontal",
            "min": 0,
            "description_tooltip": null,
            "_model_module": "@jupyter-widgets/controls",
            "layout": "IPY_MODEL_58a3d94e8235448797742357bd1c13e7"
          }
        },
        "7fa333be1dcd4bce8331d902e7e9d9f3": {
          "model_module": "@jupyter-widgets/controls",
          "model_name": "HTMLModel",
          "state": {
            "_view_name": "HTMLView",
            "style": "IPY_MODEL_abba046f270b464dbbf9cb600f477718",
            "_dom_classes": [],
            "description": "",
            "_model_name": "HTMLModel",
            "placeholder": "​",
            "_view_module": "@jupyter-widgets/controls",
            "_model_module_version": "1.5.0",
            "value": " 853/853 [06:58&lt;00:00,  2.04it/s]",
            "_view_count": null,
            "_view_module_version": "1.5.0",
            "description_tooltip": null,
            "_model_module": "@jupyter-widgets/controls",
            "layout": "IPY_MODEL_710437e6d7db44d193d835ef6147c413"
          }
        },
        "abb7b6e1596f4807a651bbb27fb9c039": {
          "model_module": "@jupyter-widgets/controls",
          "model_name": "ProgressStyleModel",
          "state": {
            "_view_name": "StyleView",
            "_model_name": "ProgressStyleModel",
            "description_width": "initial",
            "_view_module": "@jupyter-widgets/base",
            "_model_module_version": "1.5.0",
            "_view_count": null,
            "_view_module_version": "1.2.0",
            "bar_color": null,
            "_model_module": "@jupyter-widgets/controls"
          }
        },
        "58a3d94e8235448797742357bd1c13e7": {
          "model_module": "@jupyter-widgets/base",
          "model_name": "LayoutModel",
          "state": {
            "_view_name": "LayoutView",
            "grid_template_rows": null,
            "right": null,
            "justify_content": null,
            "_view_module": "@jupyter-widgets/base",
            "overflow": null,
            "_model_module_version": "1.2.0",
            "_view_count": null,
            "flex_flow": null,
            "width": null,
            "min_width": null,
            "border": null,
            "align_items": null,
            "bottom": null,
            "_model_module": "@jupyter-widgets/base",
            "top": null,
            "grid_column": null,
            "overflow_y": null,
            "overflow_x": null,
            "grid_auto_flow": null,
            "grid_area": null,
            "grid_template_columns": null,
            "flex": null,
            "_model_name": "LayoutModel",
            "justify_items": null,
            "grid_row": null,
            "max_height": null,
            "align_content": null,
            "visibility": null,
            "align_self": null,
            "height": null,
            "min_height": null,
            "padding": null,
            "grid_auto_rows": null,
            "grid_gap": null,
            "max_width": null,
            "order": null,
            "_view_module_version": "1.2.0",
            "grid_template_areas": null,
            "object_position": null,
            "object_fit": null,
            "grid_auto_columns": null,
            "margin": null,
            "display": null,
            "left": null
          }
        },
        "abba046f270b464dbbf9cb600f477718": {
          "model_module": "@jupyter-widgets/controls",
          "model_name": "DescriptionStyleModel",
          "state": {
            "_view_name": "StyleView",
            "_model_name": "DescriptionStyleModel",
            "description_width": "",
            "_view_module": "@jupyter-widgets/base",
            "_model_module_version": "1.5.0",
            "_view_count": null,
            "_view_module_version": "1.2.0",
            "_model_module": "@jupyter-widgets/controls"
          }
        },
        "710437e6d7db44d193d835ef6147c413": {
          "model_module": "@jupyter-widgets/base",
          "model_name": "LayoutModel",
          "state": {
            "_view_name": "LayoutView",
            "grid_template_rows": null,
            "right": null,
            "justify_content": null,
            "_view_module": "@jupyter-widgets/base",
            "overflow": null,
            "_model_module_version": "1.2.0",
            "_view_count": null,
            "flex_flow": null,
            "width": null,
            "min_width": null,
            "border": null,
            "align_items": null,
            "bottom": null,
            "_model_module": "@jupyter-widgets/base",
            "top": null,
            "grid_column": null,
            "overflow_y": null,
            "overflow_x": null,
            "grid_auto_flow": null,
            "grid_area": null,
            "grid_template_columns": null,
            "flex": null,
            "_model_name": "LayoutModel",
            "justify_items": null,
            "grid_row": null,
            "max_height": null,
            "align_content": null,
            "visibility": null,
            "align_self": null,
            "height": null,
            "min_height": null,
            "padding": null,
            "grid_auto_rows": null,
            "grid_gap": null,
            "max_width": null,
            "order": null,
            "_view_module_version": "1.2.0",
            "grid_template_areas": null,
            "object_position": null,
            "object_fit": null,
            "grid_auto_columns": null,
            "margin": null,
            "display": null,
            "left": null
          }
        }
      }
    }
  },
  "cells": [
    {
      "cell_type": "code",
      "metadata": {
        "id": "bN2lWw9hZ-b0"
      },
      "source": [
        "import os\r\n",
        "from pathlib import Path\r\n",
        "\r\n",
        "import pandas as pd\r\n",
        "import numpy as np\r\n",
        "import matplotlib.pyplot as plt\r\n",
        "import seaborn as sns\r\n",
        "import cv2\r\n",
        "\r\n",
        "from pathlib import Path\r\n",
        "from xml.dom.minidom import parse\r\n",
        "# import xmltodict\r\n",
        "# XML을 json처럼 parsing\r\n",
        "from tqdm.auto import tqdm\r\n",
        "# 오래걸리는 반복문 시각화\r\n",
        "from shutil import copyfile"
      ],
      "execution_count": 1,
      "outputs": []
    },
    {
      "cell_type": "code",
      "metadata": {
        "colab": {
          "base_uri": "https://localhost:8080/"
        },
        "id": "2RkOx9NCiFoq",
        "outputId": "fdb27099-de1b-4a64-907b-ecf6450fa360"
      },
      "source": [
        "!pip install xmltodict"
      ],
      "execution_count": null,
      "outputs": [
        {
          "output_type": "stream",
          "text": [
            "Collecting xmltodict\n",
            "  Downloading https://files.pythonhosted.org/packages/28/fd/30d5c1d3ac29ce229f6bdc40bbc20b28f716e8b363140c26eff19122d8a5/xmltodict-0.12.0-py2.py3-none-any.whl\n",
            "Installing collected packages: xmltodict\n",
            "Successfully installed xmltodict-0.12.0\n"
          ],
          "name": "stdout"
        }
      ]
    },
    {
      "cell_type": "code",
      "metadata": {
        "colab": {
          "base_uri": "https://localhost:8080/"
        },
        "id": "pUeaBuGqeIpn",
        "outputId": "84c7f588-f6d6-40a8-a14e-d8a8d99e8d1f"
      },
      "source": [
        "!git clone https://github.com/rkuo2000/yolov5\r\n",
        "%cd yolov5"
      ],
      "execution_count": 2,
      "outputs": [
        {
          "output_type": "stream",
          "text": [
            "Cloning into 'yolov5'...\n",
            "remote: Enumerating objects: 3387, done.\u001b[K\n",
            "remote: Total 3387 (delta 0), reused 0 (delta 0), pack-reused 3387\u001b[K\n",
            "Receiving objects: 100% (3387/3387), 7.02 MiB | 28.74 MiB/s, done.\n",
            "Resolving deltas: 100% (2271/2271), done.\n",
            "/content/yolov5\n"
          ],
          "name": "stdout"
        }
      ]
    },
    {
      "cell_type": "code",
      "metadata": {
        "id": "azdvZkJtegpx"
      },
      "source": [
        "!mkdir -p Dataset/FaceMask/Images\r\n",
        "!mkdir -p Dataset/FaceMask/Labels"
      ],
      "execution_count": 3,
      "outputs": []
    },
    {
      "cell_type": "code",
      "metadata": {
        "id": "hv_njUSyUwGR"
      },
      "source": [
        "!cp -rf /content/drive/MyDrive/Colab\\ Notebooks/mask_dataset/images/ /content/yolov5/Dataset/FaceMask/Images\r\n",
        "# !cp -rf drive/MyDrive/Colab\\ Notebooks/mask_dataset/merge_image/* yolov5/Dataset/FaceMask/Images\r\n",
        "# image_target_path = '/content/yolov5/Dataset/FaceMask/Images/'\r\n",
        "# copy_files('/content/drive/MyDrive/Colab Notebooks/mask_dataset/images/',image_target_path)"
      ],
      "execution_count": 7,
      "outputs": []
    },
    {
      "cell_type": "code",
      "metadata": {
        "id": "uVSfu-xuvlqn"
      },
      "source": [
        "FILE_ROOT = \"/content/drive/MyDrive/Colab Notebooks/mask_dataset/\"\r\n",
        "IMAGE_PATH = FILE_ROOT + \"images\"  \r\n",
        "ANNOTATIONS_PATH = FILE_ROOT + \"annotations\"\r\n",
        "\r\n",
        "DATA_ROOT = \"/content/yolov5/Dataset/\"\r\n",
        "LABELS_ROOT = DATA_ROOT + \"FaceMask/Labels\"\r\n",
        "IMAGES_ROOT = DATA_ROOT + \"FaceMask/Images/images/\"  \r\n",
        "\r\n",
        "DEST_IMAGES_PATH = \"images\"\r\n",
        "DEST_LABELS_PATH = \"labels\" "
      ],
      "execution_count": 8,
      "outputs": []
    },
    {
      "cell_type": "code",
      "metadata": {
        "id": "qUlFKMtQ8dwh"
      },
      "source": [
        "classes = ['with_mask', 'without_mask', 'mask_weared_incorrect']"
      ],
      "execution_count": 9,
      "outputs": []
    },
    {
      "cell_type": "code",
      "metadata": {
        "id": "e2x_Kls_8jDX"
      },
      "source": [
        "def cord_converter(size, box):\r\n",
        "    \"\"\"\r\n",
        "    convert xml annotation to darknet format coordinates\r\n",
        "    :param size： [w,h]\r\n",
        "    :param box: anchor box coordinates [upper-left x,uppler-left y,lower-right x, lower-right y]\r\n",
        "    :return: converted [x,y,w,h]\r\n",
        "    \"\"\"\r\n",
        "    x1 = int(box[0])\r\n",
        "    y1 = int(box[1])\r\n",
        "    x2 = int(box[2])\r\n",
        "    y2 = int(box[3])\r\n",
        "\r\n",
        "    dw = np.float32(1. / int(size[0]))\r\n",
        "    dh = np.float32(1. / int(size[1]))\r\n",
        "\r\n",
        "    w = x2 - x1\r\n",
        "    h = y2 - y1\r\n",
        "    x = x1 + (w / 2)\r\n",
        "    y = y1 + (h / 2)\r\n",
        "\r\n",
        "    x = x * dw\r\n",
        "    w = w * dw\r\n",
        "    y = y * dh\r\n",
        "    h = h * dh\r\n",
        "    return [x, y, w, h]\r\n",
        "\r\n",
        "def save_file(img_jpg_file_name, size, img_box):\r\n",
        "    save_file_name = LABELS_ROOT + '/' + img_jpg_file_name + '.txt'\r\n",
        "    # print(save_file_name)\r\n",
        "    file_path = open(save_file_name, \"a+\")\r\n",
        "    for box in img_box:\r\n",
        "\r\n",
        "        cls_num = classes.index(box[0])\r\n",
        "\r\n",
        "        new_box = cord_converter(size, box[1:])\r\n",
        "\r\n",
        "        file_path.write(f\"{cls_num} {new_box[0]} {new_box[1]} {new_box[2]} {new_box[3]}\\n\")\r\n",
        "\r\n",
        "    file_path.flush()\r\n",
        "    file_path.close()\r\n",
        "    \r\n",
        "def get_xml_data(file_path, img_xml_file):\r\n",
        "    img_path = file_path + '/' + img_xml_file + '.xml'\r\n",
        "    # print(img_path)\r\n",
        "\r\n",
        "    dom = parse(img_path)\r\n",
        "    root = dom.documentElement\r\n",
        "    img_name = root.getElementsByTagName(\"filename\")[0].childNodes[0].data\r\n",
        "    img_size = root.getElementsByTagName(\"size\")[0]\r\n",
        "    objects = root.getElementsByTagName(\"object\")\r\n",
        "    img_w = img_size.getElementsByTagName(\"width\")[0].childNodes[0].data\r\n",
        "    img_h = img_size.getElementsByTagName(\"height\")[0].childNodes[0].data\r\n",
        "    img_c = img_size.getElementsByTagName(\"depth\")[0].childNodes[0].data\r\n",
        "    # print(\"img_name:\", img_name)\r\n",
        "    # print(\"image_info:(w,h,c)\", img_w, img_h, img_c)\r\n",
        "    img_box = []\r\n",
        "    for box in objects:\r\n",
        "        cls_name = box.getElementsByTagName(\"name\")[0].childNodes[0].data\r\n",
        "        x1 = int(box.getElementsByTagName(\"xmin\")[0].childNodes[0].data)\r\n",
        "        y1 = int(box.getElementsByTagName(\"ymin\")[0].childNodes[0].data)\r\n",
        "        x2 = int(box.getElementsByTagName(\"xmax\")[0].childNodes[0].data)\r\n",
        "        y2 = int(box.getElementsByTagName(\"ymax\")[0].childNodes[0].data)\r\n",
        "        # print(\"box:(c,xmin,ymin,xmax,ymax)\", cls_name, x1, y1, x2, y2)\r\n",
        "        img_jpg_file_name = img_xml_file + '.jpg'\r\n",
        "        img_box.append([cls_name, x1, y1, x2, y2])\r\n",
        "    # print(img_box)\r\n",
        "\r\n",
        "    # test_dataset_box_feature(img_jpg_file_name, img_box)\r\n",
        "    save_file(img_xml_file, [img_w, img_h], img_box)"
      ],
      "execution_count": 10,
      "outputs": []
    },
    {
      "cell_type": "code",
      "metadata": {
        "colab": {
          "base_uri": "https://localhost:8080/",
          "height": 66,
          "referenced_widgets": [
            "3bfeab6b4f5f477287cb13c2a00e7cb1",
            "c47ed9ecfe274314a397dd4efe7e85ec",
            "1fe93d40417c48eca6ba7d7b7dccd846",
            "7fa333be1dcd4bce8331d902e7e9d9f3",
            "abb7b6e1596f4807a651bbb27fb9c039",
            "58a3d94e8235448797742357bd1c13e7",
            "abba046f270b464dbbf9cb600f477718",
            "710437e6d7db44d193d835ef6147c413"
          ]
        },
        "id": "1qc4QSDN89nf",
        "outputId": "50b5a93c-0080-4055-bad0-b229a9664366"
      },
      "source": [
        "files = os.listdir(ANNOTATIONS_PATH)\r\n",
        "for file in tqdm(files):\r\n",
        "    # print(\"file name: \", file)\r\n",
        "    file_xml = file.split(\".\")\r\n",
        "    get_xml_data(ANNOTATIONS_PATH, file_xml[0])"
      ],
      "execution_count": 11,
      "outputs": [
        {
          "output_type": "display_data",
          "data": {
            "application/vnd.jupyter.widget-view+json": {
              "model_id": "3bfeab6b4f5f477287cb13c2a00e7cb1",
              "version_minor": 0,
              "version_major": 2
            },
            "text/plain": [
              "HBox(children=(FloatProgress(value=0.0, max=853.0), HTML(value='')))"
            ]
          },
          "metadata": {
            "tags": []
          }
        },
        {
          "output_type": "stream",
          "text": [
            "\n"
          ],
          "name": "stdout"
        }
      ]
    },
    {
      "cell_type": "code",
      "metadata": {
        "colab": {
          "base_uri": "https://localhost:8080/"
        },
        "id": "sa7nC_9I9D2G",
        "outputId": "caaf15bd-4e1e-484d-8447-a09f1735d477"
      },
      "source": [
        "from sklearn.model_selection import train_test_split\r\n",
        "image_list = os.listdir(IMAGES_ROOT)\r\n",
        "train_list, test_list = train_test_split(image_list, test_size=0.2, random_state=7)\r\n",
        "val_list, test_list = train_test_split(test_list, test_size=0.5, random_state=8)\r\n",
        "\r\n",
        "print('total =',len(image_list))\r\n",
        "print('train :',len(train_list))\r\n",
        "print('val   :',len(val_list))\r\n",
        "print('test  :',len(test_list))"
      ],
      "execution_count": 12,
      "outputs": [
        {
          "output_type": "stream",
          "text": [
            "total = 853\n",
            "train : 682\n",
            "val   : 85\n",
            "test  : 86\n"
          ],
          "name": "stdout"
        }
      ]
    },
    {
      "cell_type": "code",
      "metadata": {
        "id": "P9f7pOnt9QPS"
      },
      "source": [
        "def copy_data(file_list, img_labels_root, imgs_source, type):\r\n",
        "\r\n",
        "    root_file = Path(DATA_ROOT + DEST_IMAGES_PATH + '/' + type)\r\n",
        "    if not root_file.exists():\r\n",
        "        print(f\"Path {root_file} is not exit\")\r\n",
        "        os.makedirs(root_file)\r\n",
        "\r\n",
        "    root_file = Path(DATA_ROOT + DEST_LABELS_PATH + '/' + type)\r\n",
        "    if not root_file.exists():\r\n",
        "        print(f\"Path {root_file} is not exit\")\r\n",
        "        os.makedirs(root_file)\r\n",
        "\r\n",
        "    for file in file_list:\r\n",
        "        img_name = file.replace('.png', '')\r\n",
        "        img_src_file = imgs_source + '/' + img_name + '.png'\r\n",
        "        label_src_file = img_labels_root + '/' + img_name + '.txt'\r\n",
        "\r\n",
        "        # print(img_sor_file)\r\n",
        "        # print(label_sor_file)\r\n",
        "        # im = Image.open(rf\"{img_sor_file}\")\r\n",
        "        # im.show()\r\n",
        "\r\n",
        "        # Copy image\r\n",
        "        DICT_DIR = DATA_ROOT + DEST_IMAGES_PATH + '/' + type\r\n",
        "        img_dict_file = DICT_DIR + '/' + img_name + '.png'\r\n",
        "\r\n",
        "        copyfile(img_src_file, img_dict_file)\r\n",
        "\r\n",
        "        # Copy label\r\n",
        "        DICT_DIR = DATA_ROOT + DEST_LABELS_PATH + '/' + type\r\n",
        "        img_dict_file = DICT_DIR + '/' + img_name + '.txt'\r\n",
        "        copyfile(label_src_file, img_dict_file)"
      ],
      "execution_count": 13,
      "outputs": []
    },
    {
      "cell_type": "code",
      "metadata": {
        "colab": {
          "base_uri": "https://localhost:8080/"
        },
        "id": "gSmkhuiz9TwJ",
        "outputId": "ac3bfed0-0c2e-4507-b79b-c96d61479feb"
      },
      "source": [
        "copy_data(train_list, LABELS_ROOT, IMAGES_ROOT, \"train\")\r\n",
        "copy_data(val_list,   LABELS_ROOT, IMAGES_ROOT, \"val\")\r\n",
        "copy_data(test_list,  LABELS_ROOT, IMAGES_ROOT, \"test\")"
      ],
      "execution_count": 14,
      "outputs": [
        {
          "output_type": "stream",
          "text": [
            "Path /content/yolov5/Dataset/images/train is not exit\n",
            "Path /content/yolov5/Dataset/labels/train is not exit\n",
            "Path /content/yolov5/Dataset/images/val is not exit\n",
            "Path /content/yolov5/Dataset/labels/val is not exit\n",
            "Path /content/yolov5/Dataset/images/test is not exit\n",
            "Path /content/yolov5/Dataset/labels/test is not exit\n"
          ],
          "name": "stdout"
        }
      ]
    },
    {
      "cell_type": "code",
      "metadata": {
        "colab": {
          "base_uri": "https://localhost:8080/"
        },
        "id": "Ar09BcNp_5Wv",
        "outputId": "8227ca13-8d58-4ffc-b017-327355e3b128"
      },
      "source": [
        "!echo \"train: Dataset/images/train\\n\" > data/facemask.yaml\r\n",
        "!echo \"val:   Dataset/images/val\\n\" >> data/facemask.yaml\r\n",
        "!echo \"nc : 3\\n\" >> data/facemask.yaml\r\n",
        "!echo \"names: ['With_Mask', 'Without_Mask', 'Incorrect_Mask']\\n\" >> data/facemask.yaml\r\n",
        "\r\n",
        "!cat data/facemask.yaml"
      ],
      "execution_count": 15,
      "outputs": [
        {
          "output_type": "stream",
          "text": [
            "train: Dataset/images/train\\n\n",
            "val:   Dataset/images/val\\n\n",
            "nc : 3\\n\n",
            "names: ['With_Mask', 'Without_Mask', 'Incorrect_Mask']\\n\n"
          ],
          "name": "stdout"
        }
      ]
    },
    {
      "cell_type": "code",
      "metadata": {
        "colab": {
          "base_uri": "https://localhost:8080/"
        },
        "id": "dNY6C5gRD646",
        "outputId": "8d9f3a05-4789-4de7-8210-fcd1899f02e8"
      },
      "source": [
        "ls"
      ],
      "execution_count": 23,
      "outputs": [
        {
          "output_type": "stream",
          "text": [
            "\u001b[0m\u001b[01;34mdata\u001b[0m/       hubconf.py    \u001b[01;32mREADME.md\u001b[0m*         train.py\n",
            "\u001b[01;34mDataset\u001b[0m/    LICENSE       \u001b[01;32mrequirements.txt\u001b[0m*  tutorial.ipynb\n",
            "detect.py   \u001b[01;34mmodels\u001b[0m/       \u001b[01;34mruns\u001b[0m/              \u001b[01;34mutils\u001b[0m/\n",
            "Dockerfile  \u001b[01;34m__pycache__\u001b[0m/  test.py            \u001b[01;34mweights\u001b[0m/\n"
          ],
          "name": "stdout"
        }
      ]
    },
    {
      "cell_type": "code",
      "metadata": {
        "colab": {
          "base_uri": "https://localhost:8080/"
        },
        "id": "ahejodqbARnL",
        "outputId": "faa904f1-c04d-4a69-c0f1-36ef8b8ff5de"
      },
      "source": [
        "!python train.py --img 320 --batch 16 --epochs 300 --data data/facemask.yaml --cfg models/yolov5s.yaml --weights yolov5s.pt"
      ],
      "execution_count": 24,
      "outputs": [
        {
          "output_type": "stream",
          "text": [
            "Using torch 1.7.0+cu101 CUDA:0 (Tesla P100-PCIE-16GB, 16280MB)\n",
            "\n",
            "Namespace(adam=False, batch_size=16, bucket='', cache_images=False, cfg='models/yolov5s.yaml', data='data/facemask.yaml', device='', epochs=300, evolve=False, exist_ok=False, global_rank=-1, hyp='data/hyp.scratch.yaml', image_weights=False, img_size=[320, 320], local_rank=-1, log_artifacts=False, log_imgs=16, multi_scale=False, name='exp', noautoanchor=False, nosave=False, notest=False, project='runs/train', rect=False, resume=False, save_dir='runs/train/exp2', single_cls=False, sync_bn=False, total_batch_size=16, weights='yolov5s.pt', workers=8, world_size=1)\n",
            "Start Tensorboard with \"tensorboard --logdir runs/train\", view at http://localhost:6006/\n",
            "2021-01-14 08:48:36.456020: I tensorflow/stream_executor/platform/default/dso_loader.cc:49] Successfully opened dynamic library libcudart.so.10.1\n",
            "Hyperparameters {'lr0': 0.01, 'lrf': 0.2, 'momentum': 0.937, 'weight_decay': 0.0005, 'warmup_epochs': 3.0, 'warmup_momentum': 0.8, 'warmup_bias_lr': 0.1, 'box': 0.05, 'cls': 0.5, 'cls_pw': 1.0, 'obj': 1.0, 'obj_pw': 1.0, 'iou_t': 0.2, 'anchor_t': 4.0, 'fl_gamma': 0.0, 'hsv_h': 0.015, 'hsv_s': 0.7, 'hsv_v': 0.4, 'degrees': 0.0, 'translate': 0.1, 'scale': 0.5, 'shear': 0.0, 'perspective': 0.0, 'flipud': 0.0, 'fliplr': 0.5, 'mosaic': 1.0, 'mixup': 0.0}\n",
            "Traceback (most recent call last):\n",
            "  File \"train.py\", line 512, in <module>\n",
            "    train(hyp, opt, device, tb_writer, wandb)\n",
            "  File \"train.py\", line 71, in train\n",
            "    check_dataset(data_dict)  # check\n",
            "  File \"/content/yolov5/utils/general.py\", line 77, in check_dataset\n",
            "    val, s = dict.get('val'), dict.get('download')\n",
            "AttributeError: 'str' object has no attribute 'get'\n"
          ],
          "name": "stdout"
        }
      ]
    },
    {
      "cell_type": "code",
      "metadata": {
        "colab": {
          "base_uri": "https://localhost:8080/"
        },
        "id": "xPyfc8O-AVik",
        "outputId": "1875ac93-b3f6-4aaf-c328-06c021c5d0af"
      },
      "source": [
        "ls"
      ],
      "execution_count": 17,
      "outputs": [
        {
          "output_type": "stream",
          "text": [
            "\u001b[0m\u001b[01;34mdata\u001b[0m/      Dockerfile  \u001b[01;34mmodels\u001b[0m/       \u001b[01;32mrequirements.txt\u001b[0m*  tutorial.ipynb\n",
            "\u001b[01;34mDataset\u001b[0m/   hubconf.py  \u001b[01;34m__pycache__\u001b[0m/  test.py            \u001b[01;34mutils\u001b[0m/\n",
            "detect.py  LICENSE     \u001b[01;32mREADME.md\u001b[0m*    train.py           \u001b[01;34mweights\u001b[0m/\n"
          ],
          "name": "stdout"
        }
      ]
    },
    {
      "cell_type": "code",
      "metadata": {
        "colab": {
          "base_uri": "https://localhost:8080/",
          "height": 35
        },
        "id": "m3o1Q4DPAazt",
        "outputId": "2a2daa08-c0b2-4b9d-956c-0da723bb5480"
      },
      "source": [
        "import yaml\r\n",
        "yaml.__version__"
      ],
      "execution_count": 20,
      "outputs": [
        {
          "output_type": "execute_result",
          "data": {
            "application/vnd.google.colaboratory.intrinsic+json": {
              "type": "string"
            },
            "text/plain": [
              "'3.13'"
            ]
          },
          "metadata": {
            "tags": []
          },
          "execution_count": 20
        }
      ]
    },
    {
      "cell_type": "code",
      "metadata": {
        "colab": {
          "base_uri": "https://localhost:8080/"
        },
        "id": "aGxB6nymBue_",
        "outputId": "db74ab9f-e1d3-4697-e451-199659f709d6"
      },
      "source": [
        "!pip install PyYAML"
      ],
      "execution_count": 1,
      "outputs": [
        {
          "output_type": "stream",
          "text": [
            "Requirement already satisfied: PyYAML in /usr/local/lib/python3.6/dist-packages (3.13)\n"
          ],
          "name": "stdout"
        }
      ]
    },
    {
      "cell_type": "code",
      "metadata": {
        "colab": {
          "base_uri": "https://localhost:8080/",
          "height": 1000
        },
        "id": "tv03ENhwB3nC",
        "outputId": "a88c9595-1b16-4087-e7d6-9d7b2722fe65"
      },
      "source": [
        "!git clone https://github.com/ultralytics/yolov5  # clone repo\r\n",
        "!pip install -U -r yolov5/requirements.txt  # install dependencies\r\n",
        "\r\n",
        "%cd /content/yolov5"
      ],
      "execution_count": 1,
      "outputs": [
        {
          "output_type": "stream",
          "text": [
            "Cloning into 'yolov5'...\n",
            "remote: Enumerating objects: 45, done.\u001b[K\n",
            "remote: Counting objects: 100% (45/45), done.\u001b[K\n",
            "remote: Compressing objects: 100% (31/31), done.\u001b[K\n",
            "remote: Total 4136 (delta 28), reused 27 (delta 14), pack-reused 4091\u001b[K\n",
            "Receiving objects: 100% (4136/4136), 7.27 MiB | 33.52 MiB/s, done.\n",
            "Resolving deltas: 100% (2796/2796), done.\n",
            "Requirement already up-to-date: Cython in /usr/local/lib/python3.6/dist-packages (from -r yolov5/requirements.txt (line 4)) (0.29.21)\n",
            "Collecting matplotlib>=3.2.2\n",
            "\u001b[?25l  Downloading https://files.pythonhosted.org/packages/d2/43/2bd63467490036697e7be71444fafc7b236923d614d4521979a200c6b559/matplotlib-3.3.3-cp36-cp36m-manylinux1_x86_64.whl (11.6MB)\n",
            "\u001b[K     |████████████████████████████████| 11.6MB 12.1MB/s \n",
            "\u001b[?25hRequirement already up-to-date: numpy>=1.18.5 in /usr/local/lib/python3.6/dist-packages (from -r yolov5/requirements.txt (line 6)) (1.19.5)\n",
            "Collecting opencv-python>=4.1.2\n",
            "\u001b[?25l  Downloading https://files.pythonhosted.org/packages/e0/20/4d78eb1ce337efd609ade8ebe0c82260cd47dd73f8c57dcfe4814c6a3b59/opencv_python-4.5.1.48-cp36-cp36m-manylinux2014_x86_64.whl (50.4MB)\n",
            "\u001b[K     |████████████████████████████████| 50.4MB 103kB/s \n",
            "\u001b[?25hCollecting Pillow\n",
            "\u001b[?25l  Downloading https://files.pythonhosted.org/packages/b6/c0/442d9d87e0da00bf856ef6dd4916f84a2d710b5f1a367d42d7f3c4e99a6c/Pillow-8.1.0-cp36-cp36m-manylinux1_x86_64.whl (2.2MB)\n",
            "\u001b[K     |████████████████████████████████| 2.2MB 49.6MB/s \n",
            "\u001b[?25hCollecting PyYAML>=5.3\n",
            "\u001b[?25l  Downloading https://files.pythonhosted.org/packages/64/c2/b80047c7ac2478f9501676c988a5411ed5572f35d1beff9cae07d321512c/PyYAML-5.3.1.tar.gz (269kB)\n",
            "\u001b[K     |████████████████████████████████| 276kB 49.9MB/s \n",
            "\u001b[?25hCollecting scipy>=1.4.1\n",
            "\u001b[?25l  Downloading https://files.pythonhosted.org/packages/c8/89/63171228d5ced148f5ced50305c89e8576ffc695a90b58fe5bb602b910c2/scipy-1.5.4-cp36-cp36m-manylinux1_x86_64.whl (25.9MB)\n",
            "\u001b[K     |████████████████████████████████| 25.9MB 115kB/s \n",
            "\u001b[?25hRequirement already up-to-date: tensorboard>=2.2 in /usr/local/lib/python3.6/dist-packages (from -r yolov5/requirements.txt (line 11)) (2.4.0)\n",
            "Collecting torch>=1.7.0\n",
            "\u001b[?25l  Downloading https://files.pythonhosted.org/packages/90/4f/acf48b3a18a8f9223c6616647f0a011a5713a985336088d7c76f3a211374/torch-1.7.1-cp36-cp36m-manylinux1_x86_64.whl (776.8MB)\n",
            "\u001b[K     |████████████████████████████████| 776.8MB 23kB/s \n",
            "\u001b[?25hCollecting torchvision>=0.8.1\n",
            "\u001b[?25l  Downloading https://files.pythonhosted.org/packages/19/f1/d1d9b2be9f50e840accfa180ec2fb759dd2504f2b3a12a232398d5fa00ae/torchvision-0.8.2-cp36-cp36m-manylinux1_x86_64.whl (12.8MB)\n",
            "\u001b[K     |████████████████████████████████| 12.8MB 255kB/s \n",
            "\u001b[?25hCollecting tqdm>=4.41.0\n",
            "\u001b[?25l  Downloading https://files.pythonhosted.org/packages/80/02/8f8880a4fd6625461833abcf679d4c12a44c76f9925f92bf212bb6cefaad/tqdm-4.56.0-py2.py3-none-any.whl (72kB)\n",
            "\u001b[K     |████████████████████████████████| 81kB 11.2MB/s \n",
            "\u001b[?25hRequirement already up-to-date: seaborn>=0.11.0 in /usr/local/lib/python3.6/dist-packages (from -r yolov5/requirements.txt (line 20)) (0.11.1)\n",
            "Requirement already up-to-date: pandas in /usr/local/lib/python3.6/dist-packages (from -r yolov5/requirements.txt (line 21)) (1.1.5)\n",
            "Collecting thop\n",
            "  Downloading https://files.pythonhosted.org/packages/6c/8b/22ce44e1c71558161a8bd54471123cc796589c7ebbfc15a7e8932e522f83/thop-0.0.31.post2005241907-py3-none-any.whl\n",
            "Requirement already up-to-date: pycocotools>=2.0 in /usr/local/lib/python3.6/dist-packages (from -r yolov5/requirements.txt (line 30)) (2.0.2)\n",
            "Requirement already satisfied, skipping upgrade: kiwisolver>=1.0.1 in /usr/local/lib/python3.6/dist-packages (from matplotlib>=3.2.2->-r yolov5/requirements.txt (line 5)) (1.3.1)\n",
            "Requirement already satisfied, skipping upgrade: pyparsing!=2.0.4,!=2.1.2,!=2.1.6,>=2.0.3 in /usr/local/lib/python3.6/dist-packages (from matplotlib>=3.2.2->-r yolov5/requirements.txt (line 5)) (2.4.7)\n",
            "Requirement already satisfied, skipping upgrade: python-dateutil>=2.1 in /usr/local/lib/python3.6/dist-packages (from matplotlib>=3.2.2->-r yolov5/requirements.txt (line 5)) (2.8.1)\n",
            "Requirement already satisfied, skipping upgrade: cycler>=0.10 in /usr/local/lib/python3.6/dist-packages (from matplotlib>=3.2.2->-r yolov5/requirements.txt (line 5)) (0.10.0)\n",
            "Requirement already satisfied, skipping upgrade: werkzeug>=0.11.15 in /usr/local/lib/python3.6/dist-packages (from tensorboard>=2.2->-r yolov5/requirements.txt (line 11)) (1.0.1)\n",
            "Requirement already satisfied, skipping upgrade: grpcio>=1.24.3 in /usr/local/lib/python3.6/dist-packages (from tensorboard>=2.2->-r yolov5/requirements.txt (line 11)) (1.32.0)\n",
            "Requirement already satisfied, skipping upgrade: wheel>=0.26; python_version >= \"3\" in /usr/local/lib/python3.6/dist-packages (from tensorboard>=2.2->-r yolov5/requirements.txt (line 11)) (0.36.2)\n",
            "Requirement already satisfied, skipping upgrade: setuptools>=41.0.0 in /usr/local/lib/python3.6/dist-packages (from tensorboard>=2.2->-r yolov5/requirements.txt (line 11)) (51.1.1)\n",
            "Requirement already satisfied, skipping upgrade: google-auth<2,>=1.6.3 in /usr/local/lib/python3.6/dist-packages (from tensorboard>=2.2->-r yolov5/requirements.txt (line 11)) (1.17.2)\n",
            "Requirement already satisfied, skipping upgrade: google-auth-oauthlib<0.5,>=0.4.1 in /usr/local/lib/python3.6/dist-packages (from tensorboard>=2.2->-r yolov5/requirements.txt (line 11)) (0.4.2)\n",
            "Requirement already satisfied, skipping upgrade: absl-py>=0.4 in /usr/local/lib/python3.6/dist-packages (from tensorboard>=2.2->-r yolov5/requirements.txt (line 11)) (0.10.0)\n",
            "Requirement already satisfied, skipping upgrade: protobuf>=3.6.0 in /usr/local/lib/python3.6/dist-packages (from tensorboard>=2.2->-r yolov5/requirements.txt (line 11)) (3.12.4)\n",
            "Requirement already satisfied, skipping upgrade: requests<3,>=2.21.0 in /usr/local/lib/python3.6/dist-packages (from tensorboard>=2.2->-r yolov5/requirements.txt (line 11)) (2.23.0)\n",
            "Requirement already satisfied, skipping upgrade: markdown>=2.6.8 in /usr/local/lib/python3.6/dist-packages (from tensorboard>=2.2->-r yolov5/requirements.txt (line 11)) (3.3.3)\n",
            "Requirement already satisfied, skipping upgrade: six>=1.10.0 in /usr/local/lib/python3.6/dist-packages (from tensorboard>=2.2->-r yolov5/requirements.txt (line 11)) (1.15.0)\n",
            "Requirement already satisfied, skipping upgrade: tensorboard-plugin-wit>=1.6.0 in /usr/local/lib/python3.6/dist-packages (from tensorboard>=2.2->-r yolov5/requirements.txt (line 11)) (1.7.0)\n",
            "Requirement already satisfied, skipping upgrade: typing-extensions in /usr/local/lib/python3.6/dist-packages (from torch>=1.7.0->-r yolov5/requirements.txt (line 12)) (3.7.4.3)\n",
            "Requirement already satisfied, skipping upgrade: dataclasses; python_version < \"3.7\" in /usr/local/lib/python3.6/dist-packages (from torch>=1.7.0->-r yolov5/requirements.txt (line 12)) (0.8)\n",
            "Requirement already satisfied, skipping upgrade: pytz>=2017.2 in /usr/local/lib/python3.6/dist-packages (from pandas->-r yolov5/requirements.txt (line 21)) (2018.9)\n",
            "Requirement already satisfied, skipping upgrade: rsa<5,>=3.1.4; python_version >= \"3\" in /usr/local/lib/python3.6/dist-packages (from google-auth<2,>=1.6.3->tensorboard>=2.2->-r yolov5/requirements.txt (line 11)) (4.6)\n",
            "Requirement already satisfied, skipping upgrade: cachetools<5.0,>=2.0.0 in /usr/local/lib/python3.6/dist-packages (from google-auth<2,>=1.6.3->tensorboard>=2.2->-r yolov5/requirements.txt (line 11)) (4.2.0)\n",
            "Requirement already satisfied, skipping upgrade: pyasn1-modules>=0.2.1 in /usr/local/lib/python3.6/dist-packages (from google-auth<2,>=1.6.3->tensorboard>=2.2->-r yolov5/requirements.txt (line 11)) (0.2.8)\n",
            "Requirement already satisfied, skipping upgrade: requests-oauthlib>=0.7.0 in /usr/local/lib/python3.6/dist-packages (from google-auth-oauthlib<0.5,>=0.4.1->tensorboard>=2.2->-r yolov5/requirements.txt (line 11)) (1.3.0)\n",
            "Requirement already satisfied, skipping upgrade: chardet<4,>=3.0.2 in /usr/local/lib/python3.6/dist-packages (from requests<3,>=2.21.0->tensorboard>=2.2->-r yolov5/requirements.txt (line 11)) (3.0.4)\n",
            "Requirement already satisfied, skipping upgrade: idna<3,>=2.5 in /usr/local/lib/python3.6/dist-packages (from requests<3,>=2.21.0->tensorboard>=2.2->-r yolov5/requirements.txt (line 11)) (2.10)\n",
            "Requirement already satisfied, skipping upgrade: urllib3!=1.25.0,!=1.25.1,<1.26,>=1.21.1 in /usr/local/lib/python3.6/dist-packages (from requests<3,>=2.21.0->tensorboard>=2.2->-r yolov5/requirements.txt (line 11)) (1.24.3)\n",
            "Requirement already satisfied, skipping upgrade: certifi>=2017.4.17 in /usr/local/lib/python3.6/dist-packages (from requests<3,>=2.21.0->tensorboard>=2.2->-r yolov5/requirements.txt (line 11)) (2020.12.5)\n",
            "Requirement already satisfied, skipping upgrade: importlib-metadata; python_version < \"3.8\" in /usr/local/lib/python3.6/dist-packages (from markdown>=2.6.8->tensorboard>=2.2->-r yolov5/requirements.txt (line 11)) (3.3.0)\n",
            "Requirement already satisfied, skipping upgrade: pyasn1>=0.1.3 in /usr/local/lib/python3.6/dist-packages (from rsa<5,>=3.1.4; python_version >= \"3\"->google-auth<2,>=1.6.3->tensorboard>=2.2->-r yolov5/requirements.txt (line 11)) (0.4.8)\n",
            "Requirement already satisfied, skipping upgrade: oauthlib>=3.0.0 in /usr/local/lib/python3.6/dist-packages (from requests-oauthlib>=0.7.0->google-auth-oauthlib<0.5,>=0.4.1->tensorboard>=2.2->-r yolov5/requirements.txt (line 11)) (3.1.0)\n",
            "Requirement already satisfied, skipping upgrade: zipp>=0.5 in /usr/local/lib/python3.6/dist-packages (from importlib-metadata; python_version < \"3.8\"->markdown>=2.6.8->tensorboard>=2.2->-r yolov5/requirements.txt (line 11)) (3.4.0)\n",
            "Building wheels for collected packages: PyYAML\n",
            "  Building wheel for PyYAML (setup.py) ... \u001b[?25l\u001b[?25hdone\n",
            "  Created wheel for PyYAML: filename=PyYAML-5.3.1-cp36-cp36m-linux_x86_64.whl size=44621 sha256=59c47d002986535830edb66841ddd726b36817faa240186da668826aff94e6bc\n",
            "  Stored in directory: /root/.cache/pip/wheels/a7/c1/ea/cf5bd31012e735dc1dfea3131a2d5eae7978b251083d6247bd\n",
            "Successfully built PyYAML\n",
            "\u001b[31mERROR: albumentations 0.1.12 has requirement imgaug<0.2.7,>=0.2.5, but you'll have imgaug 0.2.9 which is incompatible.\u001b[0m\n",
            "Installing collected packages: Pillow, matplotlib, opencv-python, PyYAML, scipy, torch, torchvision, tqdm, thop\n",
            "  Found existing installation: Pillow 7.0.0\n",
            "    Uninstalling Pillow-7.0.0:\n",
            "      Successfully uninstalled Pillow-7.0.0\n",
            "  Found existing installation: matplotlib 3.2.2\n",
            "    Uninstalling matplotlib-3.2.2:\n",
            "      Successfully uninstalled matplotlib-3.2.2\n",
            "  Found existing installation: opencv-python 4.1.2.30\n",
            "    Uninstalling opencv-python-4.1.2.30:\n",
            "      Successfully uninstalled opencv-python-4.1.2.30\n",
            "  Found existing installation: PyYAML 3.13\n",
            "    Uninstalling PyYAML-3.13:\n",
            "      Successfully uninstalled PyYAML-3.13\n",
            "  Found existing installation: scipy 1.4.1\n",
            "    Uninstalling scipy-1.4.1:\n",
            "      Successfully uninstalled scipy-1.4.1\n",
            "  Found existing installation: torch 1.7.0+cu101\n",
            "    Uninstalling torch-1.7.0+cu101:\n",
            "      Successfully uninstalled torch-1.7.0+cu101\n",
            "  Found existing installation: torchvision 0.8.1+cu101\n",
            "    Uninstalling torchvision-0.8.1+cu101:\n",
            "      Successfully uninstalled torchvision-0.8.1+cu101\n",
            "  Found existing installation: tqdm 4.41.1\n",
            "    Uninstalling tqdm-4.41.1:\n",
            "      Successfully uninstalled tqdm-4.41.1\n",
            "Successfully installed Pillow-8.1.0 PyYAML-5.3.1 matplotlib-3.3.3 opencv-python-4.5.1.48 scipy-1.5.4 thop-0.0.31.post2005241907 torch-1.7.1 torchvision-0.8.2 tqdm-4.56.0\n"
          ],
          "name": "stdout"
        },
        {
          "output_type": "display_data",
          "data": {
            "application/vnd.colab-display-data+json": {
              "pip_warning": {
                "packages": [
                  "PIL",
                  "matplotlib",
                  "mpl_toolkits"
                ]
              }
            }
          },
          "metadata": {
            "tags": []
          }
        },
        {
          "output_type": "stream",
          "text": [
            "/content/yolov5\n"
          ],
          "name": "stdout"
        }
      ]
    },
    {
      "cell_type": "code",
      "metadata": {
        "colab": {
          "base_uri": "https://localhost:8080/"
        },
        "id": "GVHXo9MHuPJc",
        "outputId": "13308b04-1765-4e0e-e4cc-ec04d14ee940"
      },
      "source": [
        "!pip freeze"
      ],
      "execution_count": 2,
      "outputs": [
        {
          "output_type": "stream",
          "text": [
            "absl-py==0.10.0\n",
            "alabaster==0.7.12\n",
            "albumentations==0.1.12\n",
            "altair==4.1.0\n",
            "argon2-cffi==20.1.0\n",
            "asgiref==3.3.1\n",
            "astor==0.8.1\n",
            "astropy==4.1\n",
            "astunparse==1.6.3\n",
            "async-generator==1.10\n",
            "atari-py==0.2.6\n",
            "atomicwrites==1.4.0\n",
            "attrs==20.3.0\n",
            "audioread==2.1.9\n",
            "autograd==1.3\n",
            "Babel==2.9.0\n",
            "backcall==0.2.0\n",
            "beautifulsoup4==4.6.3\n",
            "bleach==3.2.1\n",
            "blis==0.4.1\n",
            "bokeh==2.1.1\n",
            "Bottleneck==1.3.2\n",
            "branca==0.4.2\n",
            "bs4==0.0.1\n",
            "CacheControl==0.12.6\n",
            "cachetools==4.2.0\n",
            "catalogue==1.0.0\n",
            "certifi==2020.12.5\n",
            "cffi==1.14.4\n",
            "chainer==7.4.0\n",
            "chardet==3.0.4\n",
            "click==7.1.2\n",
            "cloudpickle==1.3.0\n",
            "cmake==3.12.0\n",
            "cmdstanpy==0.9.5\n",
            "colorlover==0.3.0\n",
            "community==1.0.0b1\n",
            "contextlib2==0.5.5\n",
            "convertdate==2.2.0\n",
            "coverage==3.7.1\n",
            "coveralls==0.5\n",
            "crcmod==1.7\n",
            "cufflinks==0.17.3\n",
            "cupy-cuda101==7.4.0\n",
            "cvxopt==1.2.5\n",
            "cvxpy==1.0.31\n",
            "cycler==0.10.0\n",
            "cymem==2.0.5\n",
            "Cython==0.29.21\n",
            "daft==0.0.4\n",
            "dask==2.12.0\n",
            "dataclasses==0.8\n",
            "datascience==0.10.6\n",
            "debugpy==1.0.0\n",
            "decorator==4.4.2\n",
            "defusedxml==0.6.0\n",
            "descartes==1.1.0\n",
            "dill==0.3.3\n",
            "distributed==1.25.3\n",
            "Django==3.1.5\n",
            "dlib==19.18.0\n",
            "dm-tree==0.1.5\n",
            "docopt==0.6.2\n",
            "docutils==0.16\n",
            "dopamine-rl==1.0.5\n",
            "earthengine-api==0.1.238\n",
            "easydict==1.9\n",
            "ecos==2.0.7.post1\n",
            "editdistance==0.5.3\n",
            "en-core-web-sm==2.2.5\n",
            "entrypoints==0.3\n",
            "ephem==3.7.7.1\n",
            "et-xmlfile==1.0.1\n",
            "fa2==0.3.5\n",
            "fancyimpute==0.4.3\n",
            "fastai==1.0.61\n",
            "fastdtw==0.3.4\n",
            "fastprogress==1.0.0\n",
            "fastrlock==0.5\n",
            "fbprophet==0.7.1\n",
            "feather-format==0.4.1\n",
            "filelock==3.0.12\n",
            "firebase-admin==4.4.0\n",
            "fix-yahoo-finance==0.0.22\n",
            "Flask==1.1.2\n",
            "flatbuffers==1.12\n",
            "folium==0.8.3\n",
            "future==0.16.0\n",
            "gast==0.3.3\n",
            "GDAL==2.2.2\n",
            "gdown==3.6.4\n",
            "gensim==3.6.0\n",
            "geographiclib==1.50\n",
            "geopy==1.17.0\n",
            "gin-config==0.4.0\n",
            "glob2==0.7\n",
            "google==2.0.3\n",
            "google-api-core==1.16.0\n",
            "google-api-python-client==1.7.12\n",
            "google-auth==1.17.2\n",
            "google-auth-httplib2==0.0.4\n",
            "google-auth-oauthlib==0.4.2\n",
            "google-cloud-bigquery==1.21.0\n",
            "google-cloud-bigquery-storage==1.1.0\n",
            "google-cloud-core==1.0.3\n",
            "google-cloud-datastore==1.8.0\n",
            "google-cloud-firestore==1.7.0\n",
            "google-cloud-language==1.2.0\n",
            "google-cloud-storage==1.18.1\n",
            "google-cloud-translate==1.5.0\n",
            "google-colab==1.0.0\n",
            "google-pasta==0.2.0\n",
            "google-resumable-media==0.4.1\n",
            "googleapis-common-protos==1.52.0\n",
            "googledrivedownloader==0.4\n",
            "graphviz==0.10.1\n",
            "grpcio==1.32.0\n",
            "gspread==3.0.1\n",
            "gspread-dataframe==3.0.8\n",
            "gym==0.17.3\n",
            "h5py==2.10.0\n",
            "HeapDict==1.0.1\n",
            "holidays==0.10.4\n",
            "holoviews==1.13.5\n",
            "html5lib==1.0.1\n",
            "httpimport==0.5.18\n",
            "httplib2==0.17.4\n",
            "httplib2shim==0.0.3\n",
            "humanize==0.5.1\n",
            "hyperopt==0.1.2\n",
            "ideep4py==2.0.0.post3\n",
            "idna==2.10\n",
            "image==1.5.33\n",
            "imageio==2.4.1\n",
            "imagesize==1.2.0\n",
            "imbalanced-learn==0.4.3\n",
            "imblearn==0.0\n",
            "imgaug==0.2.9\n",
            "importlib-metadata==3.3.0\n",
            "importlib-resources==4.1.1\n",
            "imutils==0.5.3\n",
            "inflect==2.1.0\n",
            "iniconfig==1.1.1\n",
            "intel-openmp==2021.1.2\n",
            "intervaltree==2.1.0\n",
            "ipykernel==4.10.1\n",
            "ipython==5.5.0\n",
            "ipython-genutils==0.2.0\n",
            "ipython-sql==0.3.9\n",
            "ipywidgets==7.6.3\n",
            "itsdangerous==1.1.0\n",
            "jax==0.2.7\n",
            "jaxlib==0.1.57+cuda101\n",
            "jdcal==1.4.1\n",
            "jedi==0.17.2\n",
            "jieba==0.42.1\n",
            "Jinja2==2.11.2\n",
            "joblib==1.0.0\n",
            "jpeg4py==0.1.4\n",
            "jsonschema==2.6.0\n",
            "jupyter==1.0.0\n",
            "jupyter-client==5.3.5\n",
            "jupyter-console==5.2.0\n",
            "jupyter-core==4.7.0\n",
            "jupyterlab-pygments==0.1.2\n",
            "jupyterlab-widgets==1.0.0\n",
            "kaggle==1.5.10\n",
            "kapre==0.1.3.1\n",
            "Keras==2.4.3\n",
            "Keras-Preprocessing==1.1.2\n",
            "keras-vis==0.4.1\n",
            "kiwisolver==1.3.1\n",
            "knnimpute==0.1.0\n",
            "korean-lunar-calendar==0.2.1\n",
            "librosa==0.6.3\n",
            "lightgbm==2.2.3\n",
            "llvmlite==0.31.0\n",
            "lmdb==0.99\n",
            "lucid==0.3.8\n",
            "LunarCalendar==0.0.9\n",
            "lxml==4.2.6\n",
            "Markdown==3.3.3\n",
            "MarkupSafe==1.1.1\n",
            "matplotlib==3.3.3\n",
            "matplotlib-venn==0.11.6\n",
            "missingno==0.4.2\n",
            "mistune==0.8.4\n",
            "mizani==0.6.0\n",
            "mkl==2019.0\n",
            "mlxtend==0.14.0\n",
            "more-itertools==8.6.0\n",
            "moviepy==0.2.3.5\n",
            "mpmath==1.1.0\n",
            "msgpack==1.0.2\n",
            "multiprocess==0.70.11.1\n",
            "multitasking==0.0.9\n",
            "murmurhash==1.0.5\n",
            "music21==5.5.0\n",
            "natsort==5.5.0\n",
            "nbclient==0.5.1\n",
            "nbconvert==5.6.1\n",
            "nbformat==5.0.8\n",
            "nest-asyncio==1.4.3\n",
            "networkx==2.5\n",
            "nibabel==3.0.2\n",
            "nltk==3.2.5\n",
            "notebook==5.3.1\n",
            "np-utils==0.5.12.1\n",
            "numba==0.48.0\n",
            "numexpr==2.7.2\n",
            "numpy==1.19.5\n",
            "nvidia-ml-py3==7.352.0\n",
            "oauth2client==4.1.3\n",
            "oauthlib==3.1.0\n",
            "okgrade==0.4.3\n",
            "opencv-contrib-python==4.1.2.30\n",
            "opencv-python==4.5.1.48\n",
            "openpyxl==2.5.9\n",
            "opt-einsum==3.3.0\n",
            "osqp==0.6.2\n",
            "packaging==20.8\n",
            "palettable==3.3.0\n",
            "pandas==1.1.5\n",
            "pandas-datareader==0.9.0\n",
            "pandas-gbq==0.13.3\n",
            "pandas-profiling==1.4.1\n",
            "pandocfilters==1.4.3\n",
            "panel==0.9.7\n",
            "param==1.10.1\n",
            "parso==0.7.1\n",
            "pathlib==1.0.1\n",
            "patsy==0.5.1\n",
            "pexpect==4.8.0\n",
            "pickleshare==0.7.5\n",
            "Pillow==8.1.0\n",
            "pip-tools==4.5.1\n",
            "plac==1.1.3\n",
            "plotly==4.4.1\n",
            "plotnine==0.6.0\n",
            "pluggy==0.7.1\n",
            "portpicker==1.3.1\n",
            "prefetch-generator==1.0.1\n",
            "preshed==3.0.5\n",
            "prettytable==2.0.0\n",
            "progressbar2==3.38.0\n",
            "prometheus-client==0.9.0\n",
            "promise==2.3\n",
            "prompt-toolkit==1.0.18\n",
            "protobuf==3.12.4\n",
            "psutil==5.4.8\n",
            "psycopg2==2.7.6.1\n",
            "ptyprocess==0.7.0\n",
            "py==1.10.0\n",
            "pyarrow==0.14.1\n",
            "pyasn1==0.4.8\n",
            "pyasn1-modules==0.2.8\n",
            "pycocotools==2.0.2\n",
            "pycparser==2.20\n",
            "pyct==0.4.8\n",
            "pydata-google-auth==1.1.0\n",
            "pydot==1.3.0\n",
            "pydot-ng==2.0.0\n",
            "pydotplus==2.0.2\n",
            "PyDrive==1.3.1\n",
            "pyemd==0.5.1\n",
            "pyglet==1.5.0\n",
            "Pygments==2.6.1\n",
            "pygobject==3.26.1\n",
            "pymc3==3.7\n",
            "PyMeeus==0.3.7\n",
            "pymongo==3.11.2\n",
            "pymystem3==0.2.0\n",
            "PyOpenGL==3.1.5\n",
            "pyparsing==2.4.7\n",
            "pyrsistent==0.17.3\n",
            "pysndfile==1.3.8\n",
            "PySocks==1.7.1\n",
            "pystan==2.19.1.1\n",
            "pytest==3.6.4\n",
            "python-apt==1.6.5+ubuntu0.5\n",
            "python-chess==0.23.11\n",
            "python-dateutil==2.8.1\n",
            "python-louvain==0.15\n",
            "python-slugify==4.0.1\n",
            "python-utils==2.4.0\n",
            "pytz==2018.9\n",
            "pyviz-comms==2.0.1\n",
            "PyWavelets==1.1.1\n",
            "PyYAML==5.3.1\n",
            "pyzmq==20.0.0\n",
            "qdldl==0.1.5.post0\n",
            "qtconsole==5.0.1\n",
            "QtPy==1.9.0\n",
            "regex==2019.12.20\n",
            "requests==2.23.0\n",
            "requests-oauthlib==1.3.0\n",
            "resampy==0.2.2\n",
            "retrying==1.3.3\n",
            "rpy2==3.2.7\n",
            "rsa==4.6\n",
            "scikit-image==0.16.2\n",
            "scikit-learn==0.22.2.post1\n",
            "scipy==1.5.4\n",
            "screen-resolution-extra==0.0.0\n",
            "scs==2.1.2\n",
            "seaborn==0.11.1\n",
            "Send2Trash==1.5.0\n",
            "setuptools-git==1.2\n",
            "Shapely==1.7.1\n",
            "simplegeneric==0.8.1\n",
            "six==1.15.0\n",
            "sklearn==0.0\n",
            "sklearn-pandas==1.8.0\n",
            "smart-open==4.1.0\n",
            "snowballstemmer==2.0.0\n",
            "sortedcontainers==2.3.0\n",
            "spacy==2.2.4\n",
            "Sphinx==1.8.5\n",
            "sphinxcontrib-serializinghtml==1.1.4\n",
            "sphinxcontrib-websupport==1.2.4\n",
            "SQLAlchemy==1.3.22\n",
            "sqlparse==0.4.1\n",
            "srsly==1.0.5\n",
            "statsmodels==0.10.2\n",
            "sympy==1.1.1\n",
            "tables==3.4.4\n",
            "tabulate==0.8.7\n",
            "tblib==1.7.0\n",
            "tensorboard==2.4.0\n",
            "tensorboard-plugin-wit==1.7.0\n",
            "tensorboardcolab==0.0.22\n",
            "tensorflow==2.4.0\n",
            "tensorflow-addons==0.8.3\n",
            "tensorflow-datasets==4.0.1\n",
            "tensorflow-estimator==2.4.0\n",
            "tensorflow-gcs-config==2.4.0\n",
            "tensorflow-hub==0.11.0\n",
            "tensorflow-metadata==0.26.0\n",
            "tensorflow-privacy==0.2.2\n",
            "tensorflow-probability==0.12.1\n",
            "termcolor==1.1.0\n",
            "terminado==0.9.2\n",
            "testpath==0.4.4\n",
            "text-unidecode==1.3\n",
            "textblob==0.15.3\n",
            "textgenrnn==1.4.1\n",
            "Theano==1.0.5\n",
            "thinc==7.4.0\n",
            "thop==0.0.31.post2005241907\n",
            "tifffile==2020.9.3\n",
            "toml==0.10.2\n",
            "toolz==0.11.1\n",
            "torch==1.7.1\n",
            "torchsummary==1.5.1\n",
            "torchtext==0.3.1\n",
            "torchvision==0.8.2\n",
            "tornado==5.1.1\n",
            "tqdm==4.56.0\n",
            "traitlets==4.3.3\n",
            "tweepy==3.6.0\n",
            "typeguard==2.7.1\n",
            "typing-extensions==3.7.4.3\n",
            "tzlocal==1.5.1\n",
            "umap-learn==0.4.6\n",
            "uritemplate==3.0.1\n",
            "urllib3==1.24.3\n",
            "vega-datasets==0.9.0\n",
            "wasabi==0.8.0\n",
            "wcwidth==0.2.5\n",
            "webencodings==0.5.1\n",
            "Werkzeug==1.0.1\n",
            "widgetsnbextension==3.5.1\n",
            "wordcloud==1.5.0\n",
            "wrapt==1.12.1\n",
            "xarray==0.15.1\n",
            "xgboost==0.90\n",
            "xkit==0.0.0\n",
            "xlrd==1.1.0\n",
            "xlwt==1.3.0\n",
            "yellowbrick==0.9.1\n",
            "zict==2.0.0\n",
            "zipp==3.4.0\n"
          ],
          "name": "stdout"
        }
      ]
    },
    {
      "cell_type": "code",
      "metadata": {
        "colab": {
          "base_uri": "https://localhost:8080/"
        },
        "id": "0AOOykIsuReg",
        "outputId": "0a2e12a5-f553-412a-e83d-38d3369ca101"
      },
      "source": [
        "import torch\r\n",
        "from IPython.display import Image  # for displaying images\r\n",
        "from utils.google_utils import gdrive_download  # for downloading models/datasets\r\n",
        "\r\n",
        "print('torch %s %s' % (torch.__version__, torch.cuda.get_device_properties(0) if torch.cuda.is_available() else 'CPU'))"
      ],
      "execution_count": 3,
      "outputs": [
        {
          "output_type": "stream",
          "text": [
            "torch 1.7.1 CPU\n"
          ],
          "name": "stdout"
        },
        {
          "output_type": "stream",
          "text": [
            "/usr/local/lib/python3.6/dist-packages/torch/cuda/__init__.py:52: UserWarning: CUDA initialization: The NVIDIA driver on your system is too old (found version 10010). Please update your GPU driver by downloading and installing a new version from the URL: http://www.nvidia.com/Download/index.aspx Alternatively, go to: https://pytorch.org to install a PyTorch version that has been compiled with your version of the CUDA driver. (Triggered internally at  /pytorch/c10/cuda/CUDAFunctions.cpp:100.)\n",
            "  return torch._C._cuda_getDeviceCount() > 0\n"
          ],
          "name": "stderr"
        }
      ]
    },
    {
      "cell_type": "code",
      "metadata": {
        "colab": {
          "base_uri": "https://localhost:8080/"
        },
        "id": "6NVecPq-u9CA",
        "outputId": "51792a1b-9998-410a-d1c9-f24436874b7d"
      },
      "source": [
        "!python detect.py --weights weights/best.pt --img 1280 --conf 0.4 --source ../image/"
      ],
      "execution_count": 11,
      "outputs": [
        {
          "output_type": "stream",
          "text": [
            "Namespace(agnostic_nms=False, augment=False, classes=None, conf_thres=0.4, device='', exist_ok=False, img_size=1280, iou_thres=0.45, name='exp', project='runs/detect', save_conf=False, save_txt=False, source='../image/', update=False, view_img=False, weights=['weights/best.pt'])\n",
            "/usr/local/lib/python3.6/dist-packages/torch/cuda/__init__.py:52: UserWarning: CUDA initialization: The NVIDIA driver on your system is too old (found version 10010). Please update your GPU driver by downloading and installing a new version from the URL: http://www.nvidia.com/Download/index.aspx Alternatively, go to: https://pytorch.org to install a PyTorch version that has been compiled with your version of the CUDA driver. (Triggered internally at  /pytorch/c10/cuda/CUDAFunctions.cpp:100.)\n",
            "  return torch._C._cuda_getDeviceCount() > 0\n",
            "YOLOv5 v4.0-14-gb75c432 torch 1.7.1 CPU\n",
            "\n",
            "Fusing layers... \n",
            "Model Summary: 232 layers, 7251912 parameters, 0 gradients, 16.8 GFLOPS\n",
            "image 1/29 /content/image/0009S6815V3PEU1N-C123-F4_jpg.rf.6b0befd018e6308b6029a17a2ee08c48.jpg: 1280x1280 4 With_Masks, Done. (1.636s)\n",
            "image 2/29 /content/image/000_1OC3DT_jpg.rf.0570a1f4ab79e324496c311456b6b1f8.jpg: 1280x1280 12 With_Masks, 1 Without_Masks, Done. (1.556s)\n",
            "image 3/29 /content/image/002_1024_jpeg.rf.b8c41940cb8dd4fa61e92892345859ad.jpg: 1280x1280 3 With_Masks, Done. (1.504s)\n",
            "image 4/29 /content/image/0109-00176-096b1_jpg.rf.c55de2d88f34d1217acdc245fd8292fa.jpg: 1280x1280 Done. (1.508s)\n",
            "image 5/29 /content/image/022814asiatodaymasks_960x540_jpg.rf.20ad64bc5ec9eed694d9f559b9aba31d.jpg: 1280x1280 3 With_Masks, 1 Without_Masks, Done. (1.511s)\n",
            "image 6/29 /content/image/025418_springwest005_jpg.rf.9d634581749567c27d459b574b431f74.jpg: 1280x1280 6 Without_Masks, Done. (1.500s)\n",
            "image 7/29 /content/image/08165739_jpg.rf.68cc16cde41ba8799e983506931416b8.jpg: 1280x1280 5 With_Masks, Done. (1.500s)\n",
            "image 8/29 /content/image/08_11_2019-airpollution_234_19737819_192539446_jpg.rf.113e45f57dba09fde40d8490ae957fe6.jpg: 1280x1280 1 Without_Masks, Done. (1.520s)\n",
            "image 9/29 /content/image/0ad90195-cd77-489e-bf85-08c83b80d3e0_jpg.rf.20ed8f759c47a565b60684cfd4524a21.jpg: 1280x1280 1 With_Masks, Done. (1.533s)\n",
            "image 10/29 /content/image/10fea_8011463765e2aa28b386cf_jpg.rf.0b90546b568e369f33ca67b3208b1655.jpg: 1280x1280 1 Without_Masks, Done. (1.528s)\n",
            "image 11/29 /content/image/1125506397_15801322206581n_jpg.rf.e5618d107f187fa409de96fcc56148ff.jpg: 1280x1280 2 With_Masks, Done. (1.538s)\n",
            "image 12/29 /content/image/1196686205_jpg_14_jpg.rf.ff88135a0f165ca412244980acfbe591.jpg: 1280x1280 3 With_Masks, Done. (1.506s)\n",
            "image 13/29 /content/image/1197315184_jpg_0_jpg.rf.39eb63061e0efb89a8f12a31d676daea.jpg: 1280x1280 3 With_Masks, 4 Without_Masks, Done. (1.499s)\n",
            "image 14/29 /content/image/1197620896_jpg.rf.161417d4b3eafad7376c0ed2f2d66f51.jpg: 1280x1280 2 With_Masks, 2 Without_Masks, Done. (1.493s)\n",
            "image 15/29 /content/image/1483800496-3386248642_jpg.rf.1aff1d3aed5aa07389738834833e8b9b.jpg: 1280x1280 4 With_Masks, Done. (1.523s)\n",
            "image 16/29 /content/image/15150794626913_jpg.rf.fd41a2c638de913958a46ee288deb908.jpg: 1280x1280 3 With_Masks, 1 Without_Masks, Done. (1.515s)\n",
            "image 17/29 /content/image/15391513321824spp815on8_jpg.rf.0fb7d846ae187777d61da0d24f67114c.jpg: 1280x1280 2 With_Masks, 1 Without_Masks, Done. (1.507s)\n",
            "image 18/29 /content/image/REVZGCBIJNQPMIIXOKDCQA3GJI_jpg.rf.ca8353dc437234ee009df613c8b34137.jpg: 1280x1280 5 With_Masks, Done. (1.499s)\n",
            "image 19/29 /content/image/S1-EV360_FACEMA_M_20200130144349_jpg.rf.a641b3a9b315b4de3b3214da280cafab.jpg: 1280x1280 13 With_Masks, Done. (1.505s)\n",
            "image 20/29 /content/image/phpM5suKS_jpg.rf.556d78a695ded9fb5f5d1848c85ed2e0.jpg: 1280x1280 1 Without_Masks, Done. (1.524s)\n",
            "image 21/29 /content/image/r1000019q669394n9qp_jpg.rf.827235a6fff02f26ce1320d926f9c5bd.jpg: 1280x1280 1 With_Masks, Done. (1.516s)\n",
            "image 22/29 /content/image/r1400018548960op29s_jpg.rf.d052eff94795b87ea6ad365aef959779.jpg: 1280x1280 Done. (1.495s)\n",
            "image 23/29 /content/image/sdgdsgsg_jpg.rf.f6f5f4d4bc541a470631516b804fa642.jpg: 1280x1280 Done. (1.504s)\n",
            "image 24/29 /content/image/shutterstock_1145933543-e1579497052960_jpg.rf.f3807b96202c59d946e24047e52e92d0.jpg: 1280x1280 1 With_Masks, Done. (1.503s)\n",
            "image 25/29 /content/image/shutterstock_editorial_10536831j_2e16d0ba_fill-1200x650_jpg.rf.c77c476c19e1ef443057d7ff1a1c9396.jpg: 1280x1280 13 With_Masks, Done. (1.472s)\n",
            "image 26/29 /content/image/stock-photo-mother-and-her-daughter-walking-go-to-school-with-wearing-a-protection-mask-against-pm-air-1346870465_jpg.rf.a6b929aae5f5f3dc8beac91039f8c85a.jpg: 1280x1280 2 With_Masks, Done. (1.458s)\n",
            "image 27/29 /content/image/us-state-department-warns-against-visiting-china-citing-coronavirus_jpg.rf.e3a632121d73efda9ad7c4c5d5000bad.jpg: 1280x1280 4 With_Masks, 1 Without_Masks, Done. (1.481s)\n",
            "image 28/29 /content/image/w1240-p16x9-CORONAVIRUS-CHINA-HEALTH-APPLE STORE_jpg.rf.8f83c6922f9fa841301e6722c35ec9e4.jpg: 1280x1280 4 With_Masks, Done. (1.472s)\n",
            "image 29/29 /content/image/w1240-p16x9-coronavirus_CHINA-HEALTH_jpg.rf.73f3f135732ac6139a592ab1139f604a.jpg: 1280x1280 2 With_Masks, Done. (1.477s)\n",
            "Results saved to runs/detect/exp3\n",
            "Done. (44.332s)\n"
          ],
          "name": "stdout"
        }
      ]
    },
    {
      "cell_type": "code",
      "metadata": {
        "id": "fME6oY-7vK-n"
      },
      "source": [
        "!cp -rf /content/drive/MyDrive/Colab\\ Notebooks/mask_dataset/valid/ ../image/"
      ],
      "execution_count": 5,
      "outputs": []
    },
    {
      "cell_type": "code",
      "metadata": {
        "id": "a4WkFlV2vZmb"
      },
      "source": [
        "# display detected images\r\n",
        "from IPython.display import Image"
      ],
      "execution_count": 7,
      "outputs": []
    },
    {
      "cell_type": "code",
      "metadata": {
        "id": "cdpjjdiZyEZm"
      },
      "source": [
        "import matplotlib.pyplot as plt\r\n",
        "from glob import glob\r\n",
        "testfiles = glob('runs/detect/exp2/*')\r\n",
        "\r\n",
        "\r\n"
      ],
      "execution_count": 14,
      "outputs": []
    },
    {
      "cell_type": "code",
      "metadata": {
        "colab": {
          "base_uri": "https://localhost:8080/",
          "height": 351
        },
        "id": "Qcw_sFfPyHdD",
        "outputId": "0e06933d-a8d7-4634-8958-7ace413c1a73"
      },
      "source": [
        "img = plt.imread(testfiles[0]) \r\n",
        "plt.imshow(img)    \r\n",
        "plt.show"
      ],
      "execution_count": 15,
      "outputs": [
        {
          "output_type": "error",
          "ename": "AttributeError",
          "evalue": "ignored",
          "traceback": [
            "\u001b[0;31m---------------------------------------------------------------------------\u001b[0m",
            "\u001b[0;31mAttributeError\u001b[0m                            Traceback (most recent call last)",
            "\u001b[0;32m<ipython-input-15-0f8b5432ad6f>\u001b[0m in \u001b[0;36m<module>\u001b[0;34m()\u001b[0m\n\u001b[0;32m----> 1\u001b[0;31m \u001b[0mimg\u001b[0m \u001b[0;34m=\u001b[0m \u001b[0mplt\u001b[0m\u001b[0;34m.\u001b[0m\u001b[0mimread\u001b[0m\u001b[0;34m(\u001b[0m\u001b[0mtestfiles\u001b[0m\u001b[0;34m[\u001b[0m\u001b[0;36m0\u001b[0m\u001b[0;34m]\u001b[0m\u001b[0;34m)\u001b[0m\u001b[0;34m\u001b[0m\u001b[0;34m\u001b[0m\u001b[0m\n\u001b[0m\u001b[1;32m      2\u001b[0m \u001b[0mplt\u001b[0m\u001b[0;34m.\u001b[0m\u001b[0mimshow\u001b[0m\u001b[0;34m(\u001b[0m\u001b[0mimg\u001b[0m\u001b[0;34m)\u001b[0m\u001b[0;34m\u001b[0m\u001b[0;34m\u001b[0m\u001b[0m\n\u001b[1;32m      3\u001b[0m \u001b[0mplt\u001b[0m\u001b[0;34m.\u001b[0m\u001b[0mshow\u001b[0m\u001b[0;34m\u001b[0m\u001b[0;34m\u001b[0m\u001b[0m\n",
            "\u001b[0;32m/usr/local/lib/python3.6/dist-packages/matplotlib/pyplot.py\u001b[0m in \u001b[0;36mimread\u001b[0;34m(fname, format)\u001b[0m\n\u001b[1;32m   2059\u001b[0m       \u001b[0mtwilight_shifted\u001b[0m  \u001b[0mperceptually\u001b[0m \u001b[0muniform\u001b[0m \u001b[0mshades\u001b[0m \u001b[0mof\u001b[0m\u001b[0;34m\u001b[0m\u001b[0;34m\u001b[0m\u001b[0m\n\u001b[1;32m   2060\u001b[0m                         \u001b[0mblack\u001b[0m\u001b[0;34m-\u001b[0m\u001b[0mblue\u001b[0m\u001b[0;34m-\u001b[0m\u001b[0mwhite\u001b[0m\u001b[0;34m-\u001b[0m\u001b[0mred\u001b[0m\u001b[0;34m-\u001b[0m\u001b[0mblack\u001b[0m\u001b[0;34m\u001b[0m\u001b[0;34m\u001b[0m\u001b[0m\n\u001b[0;32m-> 2061\u001b[0;31m       \u001b[0;34m==\u001b[0m\u001b[0;34m==\u001b[0m\u001b[0;34m==\u001b[0m\u001b[0;34m==\u001b[0m\u001b[0;34m==\u001b[0m\u001b[0;34m==\u001b[0m\u001b[0;34m==\u001b[0m\u001b[0;34m==\u001b[0m  \u001b[0;34m==\u001b[0m\u001b[0;34m==\u001b[0m\u001b[0;34m==\u001b[0m\u001b[0;34m==\u001b[0m\u001b[0;34m==\u001b[0m\u001b[0;34m==\u001b[0m\u001b[0;34m==\u001b[0m\u001b[0;34m==\u001b[0m\u001b[0;34m==\u001b[0m\u001b[0;34m==\u001b[0m\u001b[0;34m==\u001b[0m\u001b[0;34m==\u001b[0m\u001b[0;34m==\u001b[0m\u001b[0;34m==\u001b[0m\u001b[0;34m==\u001b[0m\u001b[0;34m==\u001b[0m\u001b[0;34m==\u001b[0m\u001b[0;34m==\u001b[0m\u001b[0;34m==\u001b[0m\u001b[0;34m==\u001b[0m\u001b[0;34m==\u001b[0m\u001b[0;34m==\u001b[0m\u001b[0;34m==\u001b[0m\u001b[0;34m==\u001b[0m\u001b[0;34m=\u001b[0m\u001b[0;34m\u001b[0m\u001b[0;34m\u001b[0m\u001b[0m\n\u001b[0m\u001b[1;32m   2062\u001b[0m \u001b[0;34m\u001b[0m\u001b[0m\n\u001b[1;32m   2063\u001b[0m     \u001b[0mOther\u001b[0m \u001b[0mmiscellaneous\u001b[0m \u001b[0mschemes\u001b[0m\u001b[0;34m:\u001b[0m\u001b[0;34m\u001b[0m\u001b[0;34m\u001b[0m\u001b[0m\n",
            "\u001b[0;32m/usr/local/lib/python3.6/dist-packages/matplotlib/image.py\u001b[0m in \u001b[0;36mimread\u001b[0;34m(fname, format)\u001b[0m\n\u001b[1;32m   1462\u001b[0m                 \u001b[0mext\u001b[0m \u001b[0;34m=\u001b[0m \u001b[0mPath\u001b[0m\u001b[0;34m(\u001b[0m\u001b[0mfname\u001b[0m\u001b[0;34m)\u001b[0m\u001b[0;34m.\u001b[0m\u001b[0msuffix\u001b[0m\u001b[0;34m.\u001b[0m\u001b[0mlower\u001b[0m\u001b[0;34m(\u001b[0m\u001b[0;34m)\u001b[0m\u001b[0;34m[\u001b[0m\u001b[0;36m1\u001b[0m\u001b[0;34m:\u001b[0m\u001b[0;34m]\u001b[0m\u001b[0;34m\u001b[0m\u001b[0;34m\u001b[0m\u001b[0m\n\u001b[1;32m   1463\u001b[0m         \u001b[0;32melif\u001b[0m \u001b[0mhasattr\u001b[0m\u001b[0;34m(\u001b[0m\u001b[0mfname\u001b[0m\u001b[0;34m,\u001b[0m \u001b[0;34m'geturl'\u001b[0m\u001b[0;34m)\u001b[0m\u001b[0;34m:\u001b[0m  \u001b[0;31m# Returned by urlopen().\u001b[0m\u001b[0;34m\u001b[0m\u001b[0;34m\u001b[0m\u001b[0m\n\u001b[0;32m-> 1464\u001b[0;31m             \u001b[0;31m# We could try to parse the url's path and use the extension, but\u001b[0m\u001b[0;34m\u001b[0m\u001b[0;34m\u001b[0m\u001b[0;34m\u001b[0m\u001b[0m\n\u001b[0m\u001b[1;32m   1465\u001b[0m             \u001b[0;31m# returning png is consistent with the block above.  Note that this\u001b[0m\u001b[0;34m\u001b[0m\u001b[0;34m\u001b[0m\u001b[0;34m\u001b[0m\u001b[0m\n\u001b[1;32m   1466\u001b[0m             \u001b[0;31m# if clause has to come before checking for fname.name as\u001b[0m\u001b[0;34m\u001b[0m\u001b[0;34m\u001b[0m\u001b[0;34m\u001b[0m\u001b[0m\n",
            "\u001b[0;32m/usr/local/lib/python3.6/dist-packages/PIL/Image.py\u001b[0m in \u001b[0;36mopen\u001b[0;34m(fp, mode)\u001b[0m\n\u001b[1;32m   2818\u001b[0m     \u001b[0;34m(\u001b[0m\u001b[0;34m(\u001b[0m\u001b[0;36m1\u001b[0m\u001b[0;34m,\u001b[0m \u001b[0;36m1\u001b[0m\u001b[0;34m)\u001b[0m\u001b[0;34m,\u001b[0m \u001b[0;34m\"<i4\"\u001b[0m\u001b[0;34m)\u001b[0m\u001b[0;34m:\u001b[0m \u001b[0;34m(\u001b[0m\u001b[0;34m\"I\"\u001b[0m\u001b[0;34m,\u001b[0m \u001b[0;34m\"I;32S\"\u001b[0m\u001b[0;34m)\u001b[0m\u001b[0;34m,\u001b[0m\u001b[0;34m\u001b[0m\u001b[0;34m\u001b[0m\u001b[0m\n\u001b[1;32m   2819\u001b[0m     \u001b[0;34m(\u001b[0m\u001b[0;34m(\u001b[0m\u001b[0;36m1\u001b[0m\u001b[0;34m,\u001b[0m \u001b[0;36m1\u001b[0m\u001b[0;34m)\u001b[0m\u001b[0;34m,\u001b[0m \u001b[0;34m\">i4\"\u001b[0m\u001b[0;34m)\u001b[0m\u001b[0;34m:\u001b[0m \u001b[0;34m(\u001b[0m\u001b[0;34m\"I\"\u001b[0m\u001b[0;34m,\u001b[0m \u001b[0;34m\"I;32BS\"\u001b[0m\u001b[0;34m)\u001b[0m\u001b[0;34m,\u001b[0m\u001b[0;34m\u001b[0m\u001b[0;34m\u001b[0m\u001b[0m\n\u001b[0;32m-> 2820\u001b[0;31m     \u001b[0;34m(\u001b[0m\u001b[0;34m(\u001b[0m\u001b[0;36m1\u001b[0m\u001b[0;34m,\u001b[0m \u001b[0;36m1\u001b[0m\u001b[0;34m)\u001b[0m\u001b[0;34m,\u001b[0m \u001b[0;34m\"<f4\"\u001b[0m\u001b[0;34m)\u001b[0m\u001b[0;34m:\u001b[0m \u001b[0;34m(\u001b[0m\u001b[0;34m\"F\"\u001b[0m\u001b[0;34m,\u001b[0m \u001b[0;34m\"F;32F\"\u001b[0m\u001b[0;34m)\u001b[0m\u001b[0;34m,\u001b[0m\u001b[0;34m\u001b[0m\u001b[0;34m\u001b[0m\u001b[0m\n\u001b[0m\u001b[1;32m   2821\u001b[0m     \u001b[0;34m(\u001b[0m\u001b[0;34m(\u001b[0m\u001b[0;36m1\u001b[0m\u001b[0;34m,\u001b[0m \u001b[0;36m1\u001b[0m\u001b[0;34m)\u001b[0m\u001b[0;34m,\u001b[0m \u001b[0;34m\">f4\"\u001b[0m\u001b[0;34m)\u001b[0m\u001b[0;34m:\u001b[0m \u001b[0;34m(\u001b[0m\u001b[0;34m\"F\"\u001b[0m\u001b[0;34m,\u001b[0m \u001b[0;34m\"F;32BF\"\u001b[0m\u001b[0;34m)\u001b[0m\u001b[0;34m,\u001b[0m\u001b[0;34m\u001b[0m\u001b[0;34m\u001b[0m\u001b[0m\n\u001b[1;32m   2822\u001b[0m     \u001b[0;34m(\u001b[0m\u001b[0;34m(\u001b[0m\u001b[0;36m1\u001b[0m\u001b[0;34m,\u001b[0m \u001b[0;36m1\u001b[0m\u001b[0;34m)\u001b[0m\u001b[0;34m,\u001b[0m \u001b[0;34m\"<f8\"\u001b[0m\u001b[0;34m)\u001b[0m\u001b[0;34m:\u001b[0m \u001b[0;34m(\u001b[0m\u001b[0;34m\"F\"\u001b[0m\u001b[0;34m,\u001b[0m \u001b[0;34m\"F;64F\"\u001b[0m\u001b[0;34m)\u001b[0m\u001b[0;34m,\u001b[0m\u001b[0;34m\u001b[0m\u001b[0;34m\u001b[0m\u001b[0m\n",
            "\u001b[0;32m/usr/local/lib/python3.6/dist-packages/PIL/Image.py\u001b[0m in \u001b[0;36mpreinit\u001b[0;34m()\u001b[0m\n\u001b[1;32m    340\u001b[0m \u001b[0;34m\u001b[0m\u001b[0m\n\u001b[1;32m    341\u001b[0m \u001b[0;31m# --------------------------------------------------------------------\u001b[0m\u001b[0;34m\u001b[0m\u001b[0;34m\u001b[0m\u001b[0;34m\u001b[0m\u001b[0m\n\u001b[0;32m--> 342\u001b[0;31m \u001b[0;31m# Helpers\u001b[0m\u001b[0;34m\u001b[0m\u001b[0;34m\u001b[0m\u001b[0;34m\u001b[0m\u001b[0m\n\u001b[0m\u001b[1;32m    343\u001b[0m \u001b[0;34m\u001b[0m\u001b[0m\n\u001b[1;32m    344\u001b[0m \u001b[0m_initialized\u001b[0m \u001b[0;34m=\u001b[0m \u001b[0;36m0\u001b[0m\u001b[0;34m\u001b[0m\u001b[0;34m\u001b[0m\u001b[0m\n",
            "\u001b[0;32m/usr/local/lib/python3.6/dist-packages/PIL/JpegImagePlugin.py\u001b[0m in \u001b[0;36m<module>\u001b[0;34m()\u001b[0m\n\u001b[1;32m     41\u001b[0m \u001b[0;32mimport\u001b[0m \u001b[0mwarnings\u001b[0m\u001b[0;34m\u001b[0m\u001b[0;34m\u001b[0m\u001b[0m\n\u001b[1;32m     42\u001b[0m \u001b[0;34m\u001b[0m\u001b[0m\n\u001b[0;32m---> 43\u001b[0;31m \u001b[0;32mfrom\u001b[0m \u001b[0;34m.\u001b[0m \u001b[0;32mimport\u001b[0m \u001b[0mImage\u001b[0m\u001b[0;34m,\u001b[0m \u001b[0mImageFile\u001b[0m\u001b[0;34m,\u001b[0m \u001b[0mTiffImagePlugin\u001b[0m\u001b[0;34m\u001b[0m\u001b[0;34m\u001b[0m\u001b[0m\n\u001b[0m\u001b[1;32m     44\u001b[0m \u001b[0;32mfrom\u001b[0m \u001b[0;34m.\u001b[0m\u001b[0m_binary\u001b[0m \u001b[0;32mimport\u001b[0m \u001b[0mi16be\u001b[0m \u001b[0;32mas\u001b[0m \u001b[0mi16\u001b[0m\u001b[0;34m\u001b[0m\u001b[0;34m\u001b[0m\u001b[0m\n\u001b[1;32m     45\u001b[0m \u001b[0;32mfrom\u001b[0m \u001b[0;34m.\u001b[0m\u001b[0m_binary\u001b[0m \u001b[0;32mimport\u001b[0m \u001b[0mi32be\u001b[0m \u001b[0;32mas\u001b[0m \u001b[0mi32\u001b[0m\u001b[0;34m\u001b[0m\u001b[0;34m\u001b[0m\u001b[0m\n",
            "\u001b[0;32m/usr/local/lib/python3.6/dist-packages/PIL/TiffImagePlugin.py\u001b[0m in \u001b[0;36m<module>\u001b[0;34m()\u001b[0m\n\u001b[1;32m    401\u001b[0m \u001b[0;34m\u001b[0m\u001b[0m\n\u001b[1;32m    402\u001b[0m \u001b[0;34m\u001b[0m\u001b[0m\n\u001b[0;32m--> 403\u001b[0;31m \u001b[0;32mclass\u001b[0m \u001b[0mImageFileDirectory_v2\u001b[0m\u001b[0;34m(\u001b[0m\u001b[0mMutableMapping\u001b[0m\u001b[0;34m)\u001b[0m\u001b[0;34m:\u001b[0m\u001b[0;34m\u001b[0m\u001b[0;34m\u001b[0m\u001b[0m\n\u001b[0m\u001b[1;32m    404\u001b[0m     \"\"\"This class represents a TIFF tag directory.  To speed things up, we\n\u001b[1;32m    405\u001b[0m     \u001b[0mdon\u001b[0m\u001b[0;34m't decode tags unless they'\u001b[0m\u001b[0mre\u001b[0m \u001b[0masked\u001b[0m \u001b[0;32mfor\u001b[0m\u001b[0;34m.\u001b[0m\u001b[0;34m\u001b[0m\u001b[0;34m\u001b[0m\u001b[0m\n",
            "\u001b[0;32m/usr/local/lib/python3.6/dist-packages/PIL/TiffImagePlugin.py\u001b[0m in \u001b[0;36mImageFileDirectory_v2\u001b[0;34m()\u001b[0m\n\u001b[1;32m    667\u001b[0m                 \u001b[0;34m(\u001b[0m\u001b[0mTiffTags\u001b[0m\u001b[0;34m.\u001b[0m\u001b[0mFLOAT\u001b[0m\u001b[0;34m,\u001b[0m \u001b[0;34m\"f\"\u001b[0m\u001b[0;34m,\u001b[0m \u001b[0;34m\"float\"\u001b[0m\u001b[0;34m)\u001b[0m\u001b[0;34m,\u001b[0m\u001b[0;34m\u001b[0m\u001b[0;34m\u001b[0m\u001b[0m\n\u001b[1;32m    668\u001b[0m                 \u001b[0;34m(\u001b[0m\u001b[0mTiffTags\u001b[0m\u001b[0;34m.\u001b[0m\u001b[0mDOUBLE\u001b[0m\u001b[0;34m,\u001b[0m \u001b[0;34m\"d\"\u001b[0m\u001b[0;34m,\u001b[0m \u001b[0;34m\"double\"\u001b[0m\u001b[0;34m)\u001b[0m\u001b[0;34m,\u001b[0m\u001b[0;34m\u001b[0m\u001b[0;34m\u001b[0m\u001b[0m\n\u001b[0;32m--> 669\u001b[0;31m                 \u001b[0;34m(\u001b[0m\u001b[0mTiffTags\u001b[0m\u001b[0;34m.\u001b[0m\u001b[0mIFD\u001b[0m\u001b[0;34m,\u001b[0m \u001b[0;34m\"L\"\u001b[0m\u001b[0;34m,\u001b[0m \u001b[0;34m\"long\"\u001b[0m\u001b[0;34m)\u001b[0m\u001b[0;34m,\u001b[0m\u001b[0;34m\u001b[0m\u001b[0;34m\u001b[0m\u001b[0m\n\u001b[0m\u001b[1;32m    670\u001b[0m             ],\n\u001b[1;32m    671\u001b[0m         )\n",
            "\u001b[0;31mAttributeError\u001b[0m: module 'PIL.TiffTags' has no attribute 'IFD'"
          ]
        }
      ]
    },
    {
      "cell_type": "code",
      "metadata": {
        "colab": {
          "base_uri": "https://localhost:8080/",
          "height": 433
        },
        "id": "P6teh48uwGfC",
        "outputId": "74a565d3-540b-41aa-ad5e-8c966c60946c"
      },
      "source": [
        "Image('runs/detect/exp2/0009S6815V3PEU1N-C123-F4_jpg.rf.6b0befd018e6308b6029a17a2ee08c48.jpg')"
      ],
      "execution_count": 16,
      "outputs": [
        {
          "output_type": "execute_result",
          "data": {
            "image/jpeg": "[encoded data removed]",
            "text/plain": [
              "<IPython.core.display.Image object>"
            ]
          },
          "metadata": {
            "tags": []
          },
          "execution_count": 16
        }
      ]
    },
    {
      "cell_type": "code",
      "metadata": {
        "id": "x6X98SK6wNFy"
      },
      "source": [
        "!cp -rf /content/drive/MyDrive/Colab\\ Notebooks/mask_dataset/merge_image/ ../image/"
      ],
      "execution_count": 9,
      "outputs": []
    },
    {
      "cell_type": "code",
      "metadata": {
        "colab": {
          "base_uri": "https://localhost:8080/"
        },
        "id": "141RZos1w52y",
        "outputId": "679506ea-4212-4b8c-93b0-fa09dd59af10"
      },
      "source": [
        "!python detect.py --weights weights/best.pt --img 416 --conf 0.4 --source ../image/"
      ],
      "execution_count": 10,
      "outputs": [
        {
          "output_type": "stream",
          "text": [
            "Namespace(agnostic_nms=False, augment=False, classes=None, conf_thres=0.4, device='', exist_ok=False, img_size=416, iou_thres=0.45, name='exp', project='runs/detect', save_conf=False, save_txt=False, source='../image/', update=False, view_img=False, weights=['weights/best.pt'])\n",
            "/usr/local/lib/python3.6/dist-packages/torch/cuda/__init__.py:52: UserWarning: CUDA initialization: The NVIDIA driver on your system is too old (found version 10010). Please update your GPU driver by downloading and installing a new version from the URL: http://www.nvidia.com/Download/index.aspx Alternatively, go to: https://pytorch.org to install a PyTorch version that has been compiled with your version of the CUDA driver. (Triggered internally at  /pytorch/c10/cuda/CUDAFunctions.cpp:100.)\n",
            "  return torch._C._cuda_getDeviceCount() > 0\n",
            "YOLOv5 v4.0-14-gb75c432 torch 1.7.1 CPU\n",
            "\n",
            "Fusing layers... \n",
            "Model Summary: 232 layers, 7251912 parameters, 0 gradients, 16.8 GFLOPS\n",
            "image 1/29 /content/image/0009S6815V3PEU1N-C123-F4_jpg.rf.6b0befd018e6308b6029a17a2ee08c48.jpg: 416x416 4 With_Masks, Done. (0.189s)\n",
            "image 2/29 /content/image/000_1OC3DT_jpg.rf.0570a1f4ab79e324496c311456b6b1f8.jpg: 416x416 13 With_Masks, Done. (0.170s)\n",
            "image 3/29 /content/image/002_1024_jpeg.rf.b8c41940cb8dd4fa61e92892345859ad.jpg: 416x416 3 With_Masks, Done. (0.171s)\n",
            "image 4/29 /content/image/0109-00176-096b1_jpg.rf.c55de2d88f34d1217acdc245fd8292fa.jpg: 416x416 1 With_Masks, Done. (0.162s)\n",
            "image 5/29 /content/image/022814asiatodaymasks_960x540_jpg.rf.20ad64bc5ec9eed694d9f559b9aba31d.jpg: 416x416 5 With_Masks, 1 Without_Masks, Done. (0.171s)\n",
            "image 6/29 /content/image/025418_springwest005_jpg.rf.9d634581749567c27d459b574b431f74.jpg: 416x416 8 Without_Masks, Done. (0.176s)\n",
            "image 7/29 /content/image/08165739_jpg.rf.68cc16cde41ba8799e983506931416b8.jpg: 416x416 6 With_Masks, Done. (0.170s)\n",
            "image 8/29 /content/image/08_11_2019-airpollution_234_19737819_192539446_jpg.rf.113e45f57dba09fde40d8490ae957fe6.jpg: 416x416 2 With_Masks, Done. (0.170s)\n",
            "image 9/29 /content/image/0ad90195-cd77-489e-bf85-08c83b80d3e0_jpg.rf.20ed8f759c47a565b60684cfd4524a21.jpg: 416x416 3 With_Masks, Done. (0.171s)\n",
            "image 10/29 /content/image/10fea_8011463765e2aa28b386cf_jpg.rf.0b90546b568e369f33ca67b3208b1655.jpg: 416x416 1 With_Masks, 1 Without_Masks, Done. (0.164s)\n",
            "image 11/29 /content/image/1125506397_15801322206581n_jpg.rf.e5618d107f187fa409de96fcc56148ff.jpg: 416x416 3 With_Masks, Done. (0.172s)\n",
            "image 12/29 /content/image/1196686205_jpg_14_jpg.rf.ff88135a0f165ca412244980acfbe591.jpg: 416x416 3 With_Masks, Done. (0.166s)\n",
            "image 13/29 /content/image/1197315184_jpg_0_jpg.rf.39eb63061e0efb89a8f12a31d676daea.jpg: 416x416 7 With_Masks, 3 Without_Masks, 1 Incorrect_Masks, Done. (0.165s)\n",
            "image 14/29 /content/image/1197620896_jpg.rf.161417d4b3eafad7376c0ed2f2d66f51.jpg: 416x416 5 With_Masks, Done. (0.183s)\n",
            "image 15/29 /content/image/1483800496-3386248642_jpg.rf.1aff1d3aed5aa07389738834833e8b9b.jpg: 416x416 4 With_Masks, Done. (0.172s)\n",
            "image 16/29 /content/image/15150794626913_jpg.rf.fd41a2c638de913958a46ee288deb908.jpg: 416x416 3 With_Masks, 3 Without_Masks, Done. (0.168s)\n",
            "image 17/29 /content/image/15391513321824spp815on8_jpg.rf.0fb7d846ae187777d61da0d24f67114c.jpg: 416x416 2 With_Masks, 2 Without_Masks, Done. (0.165s)\n",
            "image 18/29 /content/image/REVZGCBIJNQPMIIXOKDCQA3GJI_jpg.rf.ca8353dc437234ee009df613c8b34137.jpg: 416x416 6 With_Masks, Done. (0.165s)\n",
            "image 19/29 /content/image/S1-EV360_FACEMA_M_20200130144349_jpg.rf.a641b3a9b315b4de3b3214da280cafab.jpg: 416x416 14 With_Masks, 1 Incorrect_Masks, Done. (0.170s)\n",
            "image 20/29 /content/image/phpM5suKS_jpg.rf.556d78a695ded9fb5f5d1848c85ed2e0.jpg: 416x416 3 With_Masks, 3 Without_Masks, Done. (0.169s)\n",
            "image 21/29 /content/image/r1000019q669394n9qp_jpg.rf.827235a6fff02f26ce1320d926f9c5bd.jpg: 416x416 1 Incorrect_Masks, Done. (0.173s)\n",
            "image 22/29 /content/image/r1400018548960op29s_jpg.rf.d052eff94795b87ea6ad365aef959779.jpg: 416x416 1 Incorrect_Masks, Done. (0.170s)\n",
            "image 23/29 /content/image/sdgdsgsg_jpg.rf.f6f5f4d4bc541a470631516b804fa642.jpg: 416x416 3 With_Masks, Done. (0.167s)\n",
            "image 24/29 /content/image/shutterstock_1145933543-e1579497052960_jpg.rf.f3807b96202c59d946e24047e52e92d0.jpg: 416x416 1 With_Masks, Done. (0.173s)\n",
            "image 25/29 /content/image/shutterstock_editorial_10536831j_2e16d0ba_fill-1200x650_jpg.rf.c77c476c19e1ef443057d7ff1a1c9396.jpg: 416x416 16 With_Masks, 1 Without_Masks, Done. (0.165s)\n",
            "image 26/29 /content/image/stock-photo-mother-and-her-daughter-walking-go-to-school-with-wearing-a-protection-mask-against-pm-air-1346870465_jpg.rf.a6b929aae5f5f3dc8beac91039f8c85a.jpg: 416x416 2 With_Masks, Done. (0.178s)\n",
            "image 27/29 /content/image/us-state-department-warns-against-visiting-china-citing-coronavirus_jpg.rf.e3a632121d73efda9ad7c4c5d5000bad.jpg: 416x416 4 With_Masks, 1 Without_Masks, Done. (0.168s)\n",
            "image 28/29 /content/image/w1240-p16x9-CORONAVIRUS-CHINA-HEALTH-APPLE STORE_jpg.rf.8f83c6922f9fa841301e6722c35ec9e4.jpg: 416x416 4 With_Masks, Done. (0.169s)\n",
            "image 29/29 /content/image/w1240-p16x9-coronavirus_CHINA-HEALTH_jpg.rf.73f3f135732ac6139a592ab1139f604a.jpg: 416x416 4 With_Masks, Done. (0.173s)\n",
            "Results saved to runs/detect/exp2\n",
            "Done. (5.182s)\n"
          ],
          "name": "stdout"
        }
      ]
    },
    {
      "cell_type": "code",
      "metadata": {
        "id": "JK_WlixXxcW8"
      },
      "source": [
        ""
      ],
      "execution_count": null,
      "outputs": []
    }
  ]
}